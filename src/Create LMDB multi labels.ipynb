{
 "cells": [
  {
   "cell_type": "code",
   "execution_count": 1,
   "metadata": {
    "collapsed": true
   },
   "outputs": [],
   "source": [
    "import pandas as pd\n",
    "import numpy as np\n",
    "import matplotlib.pyplot as plt\n",
    "import os\n",
    "%matplotlib inline"
   ]
  },
  {
   "cell_type": "code",
   "execution_count": 2,
   "metadata": {
    "collapsed": true
   },
   "outputs": [],
   "source": [
    "train_df = pd.read_csv('../data/raw/train.csv')"
   ]
  },
  {
   "cell_type": "code",
   "execution_count": 3,
   "metadata": {
    "collapsed": true
   },
   "outputs": [],
   "source": [
    "train_photo_to_biz = pd.read_csv('../data/raw/train_photo_to_biz_ids.csv')"
   ]
  },
  {
   "cell_type": "code",
   "execution_count": 4,
   "metadata": {
    "collapsed": true
   },
   "outputs": [],
   "source": [
    "test_photo_to_biz = pd.read_csv('../data/raw/test_photo_to_biz.csv')"
   ]
  },
  {
   "cell_type": "code",
   "execution_count": 5,
   "metadata": {
    "collapsed": false
   },
   "outputs": [],
   "source": [
    "attribute_id_to_label = {\n",
    "    0: 'good_for_lunch',\n",
    "    1: 'good_for_dinner',\n",
    "    2: 'takes_reservations',\n",
    "    3: 'outdoor_seating',\n",
    "    4: 'restaurant_is_expensive',\n",
    "    5: 'has_alcohol',\n",
    "    6: 'has_table_service',\n",
    "    7: 'ambience_is_classy',\n",
    "    8: 'good_for_kids'}"
   ]
  },
  {
   "cell_type": "code",
   "execution_count": 7,
   "metadata": {
    "collapsed": true
   },
   "outputs": [],
   "source": [
    "train_photo_id_to_biz_id = dict(zip(train_photo_to_biz.photo_id, train_photo_to_biz.business_id))"
   ]
  },
  {
   "cell_type": "code",
   "execution_count": 8,
   "metadata": {
    "collapsed": true
   },
   "outputs": [],
   "source": [
    "train_df_cleaned = train_df.dropna()"
   ]
  },
  {
   "cell_type": "code",
   "execution_count": 9,
   "metadata": {
    "collapsed": false
   },
   "outputs": [],
   "source": [
    "biz_id_to_labels_str = dict(zip(train_df_cleaned.business_id, train_df_cleaned['labels']))"
   ]
  },
  {
   "cell_type": "code",
   "execution_count": 10,
   "metadata": {
    "collapsed": false
   },
   "outputs": [],
   "source": [
    "biz_id_to_labels = dict()\n",
    "for biz_id, labels_str in biz_id_to_labels_str.items():\n",
    "    biz_id_to_labels[biz_id] = [int(l) for l in labels_str.split()]"
   ]
  },
  {
   "cell_type": "code",
   "execution_count": 11,
   "metadata": {
    "collapsed": false
   },
   "outputs": [],
   "source": [
    "def OHE(labels, size=9):\n",
    "    ohe = np.zeros((9, 1, 1))\n",
    "    for l in labels:\n",
    "        ohe[l][0][0] = 1\n",
    "    return ohe"
   ]
  },
  {
   "cell_type": "code",
   "execution_count": 12,
   "metadata": {
    "collapsed": false
   },
   "outputs": [],
   "source": [
    "biz_id_to_ohe_labels = dict()\n",
    "for biz_id, labels in biz_id_to_labels.items():\n",
    "    biz_id_to_ohe_labels[biz_id] = OHE(labels)"
   ]
  },
  {
   "cell_type": "code",
   "execution_count": 13,
   "metadata": {
    "collapsed": false
   },
   "outputs": [],
   "source": [
    "train_photo_id_to_ohe_labels = dict()\n",
    "for photo_id, biz_id in train_photo_id_to_biz_id.items():\n",
    "    if biz_id in biz_id_to_ohe_labels:\n",
    "        train_photo_id_to_ohe_labels[photo_id] = biz_id_to_ohe_labels[biz_id]"
   ]
  },
  {
   "cell_type": "markdown",
   "metadata": {},
   "source": [
    "# Create LMDB"
   ]
  },
  {
   "cell_type": "code",
   "execution_count": 15,
   "metadata": {
    "collapsed": false
   },
   "outputs": [],
   "source": [
    "import caffe\n",
    "import lmdb"
   ]
  },
  {
   "cell_type": "code",
   "execution_count": 26,
   "metadata": {
    "collapsed": true
   },
   "outputs": [],
   "source": [
    "train_photo_ids = train_photo_id_to_ohe_labels.keys()"
   ]
  },
  {
   "cell_type": "code",
   "execution_count": 27,
   "metadata": {
    "collapsed": true
   },
   "outputs": [],
   "source": [
    "train_photo_ids_perm = np.random.permutation(train_photo_ids)"
   ]
  },
  {
   "cell_type": "code",
   "execution_count": 29,
   "metadata": {
    "collapsed": true
   },
   "outputs": [],
   "source": [
    "def create_labels_lmdb(photo_ids_perm, photo_id_to_ohe_labels, lmdb_filename):\n",
    "    counter_label = 0\n",
    "    db_labels = lmdb.open(lmdb_filename, map_size=1e12)\n",
    "    with db_labels.begin(write=True) as txn_label:\n",
    "        for pid in photo_ids_perm:\n",
    "            ohe = photo_id_to_ohe_labels[pid]\n",
    "            datum = caffe.io.array_to_datum(ohe)\n",
    "            txn_label.put(\"{:0>10d}\".format(counter_label), datum.SerializeToString())\n",
    "            counter_label += 1   \n",
    "    db_labels.close()"
   ]
  },
  {
   "cell_type": "code",
   "execution_count": 31,
   "metadata": {
    "collapsed": false
   },
   "outputs": [],
   "source": [
    "create_labels_lmdb(train_photo_ids_perm, train_photo_id_to_ohe_labels, '../data/db/all_train_labels_lmdb')"
   ]
  },
  {
   "cell_type": "code",
   "execution_count": 36,
   "metadata": {
    "collapsed": true
   },
   "outputs": [],
   "source": [
    "def create_caffe_image_file(photo_ids_perm, filename):\n",
    "    with open(filename, 'w') as cfile:\n",
    "        for photo_id in photo_ids_perm:\n",
    "            cfile.write(\"{id}.jpg 0\\n\".format(id=photo_id))"
   ]
  },
  {
   "cell_type": "code",
   "execution_count": 37,
   "metadata": {
    "collapsed": false
   },
   "outputs": [],
   "source": [
    "create_caffe_image_file(train_photo_ids_perm, '../data/db/all_train_caffe.txt')"
   ]
  },
  {
   "cell_type": "code",
   "execution_count": 38,
   "metadata": {
    "collapsed": false
   },
   "outputs": [
    {
     "name": "stdout",
     "output_type": "stream",
     "text": [
      "420948.jpg 0\r\n",
      "271159.jpg 0\r\n",
      "284325.jpg 0\r\n",
      "393119.jpg 0\r\n",
      "58272.jpg 0\r\n"
     ]
    }
   ],
   "source": [
    "!head -n 5 ../data/db/all_train_caffe.txt"
   ]
  },
  {
   "cell_type": "code",
   "execution_count": 39,
   "metadata": {
    "collapsed": false
   },
   "outputs": [
    {
     "name": "stdout",
     "output_type": "stream",
     "text": [
      "  234545 ../data/db/all_train_caffe.txt\r\n"
     ]
    }
   ],
   "source": [
    "!wc -l ../data/db/all_train_caffe.txt"
   ]
  },
  {
   "cell_type": "code",
   "execution_count": null,
   "metadata": {
    "collapsed": true
   },
   "outputs": [],
   "source": []
  }
 ],
 "metadata": {
  "kernelspec": {
   "display_name": "Python 2",
   "language": "python",
   "name": "python2"
  },
  "language_info": {
   "codemirror_mode": {
    "name": "ipython",
    "version": 2
   },
   "file_extension": ".py",
   "mimetype": "text/x-python",
   "name": "python",
   "nbconvert_exporter": "python",
   "pygments_lexer": "ipython2",
   "version": "2.7.10"
  }
 },
 "nbformat": 4,
 "nbformat_minor": 0
}
