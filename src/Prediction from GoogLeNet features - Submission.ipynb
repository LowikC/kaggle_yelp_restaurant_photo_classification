{
 "cells": [
  {
   "cell_type": "code",
   "execution_count": 1,
   "metadata": {
    "collapsed": true
   },
   "outputs": [],
   "source": [
    "import pandas as pd\n",
    "import numpy as np\n",
    "import matplotlib.pyplot as plt\n",
    "import os\n",
    "%matplotlib inline"
   ]
  },
  {
   "cell_type": "code",
   "execution_count": 2,
   "metadata": {
    "collapsed": true
   },
   "outputs": [],
   "source": [
    "gnet_all = np.load('../data/models/features/googlenet/train_pool5_7x7_s1.npy')"
   ]
  },
  {
   "cell_type": "code",
   "execution_count": 3,
   "metadata": {
    "collapsed": false
   },
   "outputs": [
    {
     "name": "stdout",
     "output_type": "stream",
     "text": [
      "train_photos_256x256_noise/262212.jpg\r\n",
      "train_photos_256x256_noise/333665.jpg\r\n",
      "train_photos_256x256_noise/421372.jpg\r\n",
      "train_photos_256x256_noise/394322.jpg\r\n"
     ]
    }
   ],
   "source": [
    "!head -n 4 ../data/train.list"
   ]
  },
  {
   "cell_type": "code",
   "execution_count": 4,
   "metadata": {
    "collapsed": true
   },
   "outputs": [],
   "source": [
    "all_pids = []\n",
    "with open('../data/train.list', 'r') as lfile:\n",
    "    for line in lfile:\n",
    "        _, filename = os.path.split(line)\n",
    "        pid_str, _ = os.path.splitext(filename)\n",
    "        all_pids.append(int(pid_str))"
   ]
  },
  {
   "cell_type": "code",
   "execution_count": 5,
   "metadata": {
    "collapsed": false
   },
   "outputs": [
    {
     "data": {
      "text/plain": [
       "234842"
      ]
     },
     "execution_count": 5,
     "metadata": {},
     "output_type": "execute_result"
    }
   ],
   "source": [
    "len(all_pids)"
   ]
  },
  {
   "cell_type": "code",
   "execution_count": 6,
   "metadata": {
    "collapsed": false
   },
   "outputs": [
    {
     "name": "stdout",
     "output_type": "stream",
     "text": [
      "262147.jpg 0\r\n",
      "131078.jpg 0\r\n",
      "10.jpg 0\r\n",
      "393227.jpg 0\r\n"
     ]
    }
   ],
   "source": [
    "!head -n 4 ../data/val_caffe.txt"
   ]
  },
  {
   "cell_type": "code",
   "execution_count": 7,
   "metadata": {
    "collapsed": false
   },
   "outputs": [],
   "source": [
    "val_pids = []\n",
    "with open('../data/val_caffe.txt', 'r') as lfile:\n",
    "    for line in lfile:\n",
    "        pid_str, _ = os.path.splitext(line.split()[0])\n",
    "        val_pids.append(int(pid_str))"
   ]
  },
  {
   "cell_type": "code",
   "execution_count": 8,
   "metadata": {
    "collapsed": true
   },
   "outputs": [],
   "source": [
    "pid_to_index = {pid: i for i, pid in enumerate(all_pids)}"
   ]
  },
  {
   "cell_type": "code",
   "execution_count": 9,
   "metadata": {
    "collapsed": true
   },
   "outputs": [],
   "source": [
    "train_df = pd.read_csv('../data/raw/train.csv')"
   ]
  },
  {
   "cell_type": "code",
   "execution_count": 10,
   "metadata": {
    "collapsed": true
   },
   "outputs": [],
   "source": [
    "train_photo_to_biz = pd.read_csv('../data/raw/train_photo_to_biz_ids.csv')"
   ]
  },
  {
   "cell_type": "code",
   "execution_count": 11,
   "metadata": {
    "collapsed": true
   },
   "outputs": [],
   "source": [
    "train_photo_id_to_biz_id = dict(zip(train_photo_to_biz.photo_id, train_photo_to_biz.business_id))"
   ]
  },
  {
   "cell_type": "code",
   "execution_count": 12,
   "metadata": {
    "collapsed": false
   },
   "outputs": [],
   "source": [
    "val_bids = set()\n",
    "train_bids = set()\n",
    "sval_pids = set(val_pids) \n",
    "for pid, bid in train_photo_id_to_biz_id.items():\n",
    "    if pid in sval_pids:\n",
    "        val_bids.add(bid)\n",
    "    else:\n",
    "        train_bids.add(bid)"
   ]
  },
  {
   "cell_type": "code",
   "execution_count": 13,
   "metadata": {
    "collapsed": true
   },
   "outputs": [],
   "source": [
    "from collections import defaultdict"
   ]
  },
  {
   "cell_type": "code",
   "execution_count": 14,
   "metadata": {
    "collapsed": true
   },
   "outputs": [],
   "source": [
    "bid_to_pids = defaultdict(list)\n",
    "for pid, bid in train_photo_id_to_biz_id.items():\n",
    "    bid_to_pids[bid].append(pid)"
   ]
  },
  {
   "cell_type": "code",
   "execution_count": 15,
   "metadata": {
    "collapsed": false
   },
   "outputs": [
    {
     "data": {
      "text/plain": [
       "(234842, 1024)"
      ]
     },
     "execution_count": 15,
     "metadata": {},
     "output_type": "execute_result"
    }
   ],
   "source": [
    "gnet_all.shape"
   ]
  },
  {
   "cell_type": "code",
   "execution_count": 16,
   "metadata": {
    "collapsed": true
   },
   "outputs": [],
   "source": [
    "X_train = np.zeros((len(train_bids), 1024))"
   ]
  },
  {
   "cell_type": "code",
   "execution_count": 17,
   "metadata": {
    "collapsed": true
   },
   "outputs": [],
   "source": [
    "for i, bid in enumerate(train_bids):\n",
    "    for pid in bid_to_pids[bid]:\n",
    "        index = pid_to_index[pid]\n",
    "        X_train[i] += gnet_all[index]\n",
    "    X_train[i] /= len(bid_to_pids[bid])"
   ]
  },
  {
   "cell_type": "code",
   "execution_count": 18,
   "metadata": {
    "collapsed": false
   },
   "outputs": [],
   "source": [
    "X_val = np.zeros((len(val_bids), 1024))"
   ]
  },
  {
   "cell_type": "code",
   "execution_count": 19,
   "metadata": {
    "collapsed": true
   },
   "outputs": [],
   "source": [
    "for i, bid in enumerate(val_bids):\n",
    "    for pid in bid_to_pids[bid]:\n",
    "        index = pid_to_index[pid]\n",
    "        X_val[i] += gnet_all[index]\n",
    "    X_val[i] /= len(bid_to_pids[bid])"
   ]
  },
  {
   "cell_type": "code",
   "execution_count": 20,
   "metadata": {
    "collapsed": false
   },
   "outputs": [
    {
     "data": {
      "text/plain": [
       "array([[ 0.95267509,  2.03563903,  0.15004862, ...,  0.49960505,\n",
       "         0.28688758,  0.3049866 ],\n",
       "       [ 1.18332484,  1.24298283,  0.27974792, ...,  0.6903441 ,\n",
       "         0.22187185,  0.55064937],\n",
       "       [ 0.81671498,  0.67376542,  0.54582791, ...,  0.77234137,\n",
       "         0.15175865,  0.53816518],\n",
       "       ..., \n",
       "       [ 0.95106818,  1.26992639,  0.14772708, ...,  0.61699631,\n",
       "         0.38141354,  0.32525882],\n",
       "       [ 0.84371509,  2.06388409,  0.35485263, ...,  0.40849259,\n",
       "         0.80597208,  0.68059153],\n",
       "       [ 0.95197373,  1.4948377 ,  0.45678396, ...,  0.71561163,\n",
       "         0.41972236,  0.73768763]])"
      ]
     },
     "execution_count": 20,
     "metadata": {},
     "output_type": "execute_result"
    }
   ],
   "source": [
    "X_val"
   ]
  },
  {
   "cell_type": "code",
   "execution_count": 21,
   "metadata": {
    "collapsed": true
   },
   "outputs": [],
   "source": [
    "train_df_cleaned = train_df.dropna()"
   ]
  },
  {
   "cell_type": "code",
   "execution_count": 22,
   "metadata": {
    "collapsed": false
   },
   "outputs": [],
   "source": [
    "biz_id_to_labels_str = dict(zip(train_df_cleaned.business_id, train_df_cleaned['labels']))"
   ]
  },
  {
   "cell_type": "code",
   "execution_count": 23,
   "metadata": {
    "collapsed": true
   },
   "outputs": [],
   "source": [
    "biz_id_to_labels = dict()\n",
    "for biz_id, labels_str in biz_id_to_labels_str.items():\n",
    "    biz_id_to_labels[biz_id] = [int(l) for l in labels_str.split()]"
   ]
  },
  {
   "cell_type": "code",
   "execution_count": 24,
   "metadata": {
    "collapsed": true
   },
   "outputs": [],
   "source": [
    "def OHE(labels, size=9):\n",
    "    ohe = np.zeros((9,))\n",
    "    for l in labels:\n",
    "        ohe[l] = 1\n",
    "    return ohe"
   ]
  },
  {
   "cell_type": "code",
   "execution_count": 25,
   "metadata": {
    "collapsed": true
   },
   "outputs": [],
   "source": [
    "biz_id_to_ohe_labels = dict()\n",
    "for biz_id, labels in biz_id_to_labels.items():\n",
    "    biz_id_to_ohe_labels[biz_id] = OHE(labels)"
   ]
  },
  {
   "cell_type": "code",
   "execution_count": 26,
   "metadata": {
    "collapsed": false
   },
   "outputs": [],
   "source": [
    "y_train = np.zeros((len(train_bids), 9))\n",
    "for i, bid in enumerate(train_bids):\n",
    "    if bid in biz_id_to_ohe_labels:\n",
    "        y_train[i] = biz_id_to_ohe_labels[bid]"
   ]
  },
  {
   "cell_type": "code",
   "execution_count": 27,
   "metadata": {
    "collapsed": true
   },
   "outputs": [],
   "source": [
    "y_val = np.zeros((len(val_bids), 9))\n",
    "for i, bid in enumerate(val_bids):\n",
    "    if bid in biz_id_to_ohe_labels:\n",
    "        y_val[i] = biz_id_to_ohe_labels[bid]"
   ]
  },
  {
   "cell_type": "code",
   "execution_count": 28,
   "metadata": {
    "collapsed": true
   },
   "outputs": [],
   "source": [
    "from sklearn.ensemble import RandomForestClassifier"
   ]
  },
  {
   "cell_type": "code",
   "execution_count": 29,
   "metadata": {
    "collapsed": false
   },
   "outputs": [
    {
     "data": {
      "text/plain": [
       "(1400, 1024)"
      ]
     },
     "execution_count": 29,
     "metadata": {},
     "output_type": "execute_result"
    }
   ],
   "source": [
    "X_train.shape"
   ]
  },
  {
   "cell_type": "code",
   "execution_count": 30,
   "metadata": {
    "collapsed": true
   },
   "outputs": [],
   "source": [
    "from sklearn.preprocessing import StandardScaler"
   ]
  },
  {
   "cell_type": "code",
   "execution_count": 31,
   "metadata": {
    "collapsed": true
   },
   "outputs": [],
   "source": [
    "scaler = StandardScaler()"
   ]
  },
  {
   "cell_type": "code",
   "execution_count": 32,
   "metadata": {
    "collapsed": true
   },
   "outputs": [],
   "source": [
    "X = np.vstack([X_train, X_val])"
   ]
  },
  {
   "cell_type": "code",
   "execution_count": 33,
   "metadata": {
    "collapsed": true
   },
   "outputs": [],
   "source": [
    "y = np.vstack([y_train, y_val])"
   ]
  },
  {
   "cell_type": "code",
   "execution_count": 34,
   "metadata": {
    "collapsed": true
   },
   "outputs": [],
   "source": [
    "from sklearn.linear_model import LogisticRegression\n",
    "from sklearn.metrics import f1_score"
   ]
  },
  {
   "cell_type": "code",
   "execution_count": 35,
   "metadata": {
    "collapsed": true
   },
   "outputs": [],
   "source": [
    "from sklearn.cross_validation import KFold"
   ]
  },
  {
   "cell_type": "code",
   "execution_count": null,
   "metadata": {
    "collapsed": true
   },
   "outputs": [],
   "source": []
  },
  {
   "cell_type": "code",
   "execution_count": 45,
   "metadata": {
    "collapsed": false
   },
   "outputs": [
    {
     "name": "stdout",
     "output_type": "stream",
     "text": [
      "Best for Attribute: 0, C: 0.00695192796178, T: 0.454545454545, F1-score: 0.72296570164\n",
      "Best for Attribute: 1, C: 0.00335981828628, T: 0.444444444444, F1-score: 0.842264307441\n",
      "Best for Attribute: 2, C: 0.00335981828628, T: 0.383838383838, F1-score: 0.878912664886\n",
      "Best for Attribute: 3, C: 0.00162377673919, T: 0.353535353535, F1-score: 0.715042052067\n",
      "Best for Attribute: 4, C: 0.0143844988829, T: 0.565656565657, F1-score: 0.797506275009\n",
      "Best for Attribute: 5, C: 0.00335981828628, T: 0.393939393939, F1-score: 0.894731625094\n",
      "Best for Attribute: 6, C: 0.00695192796178, T: 0.383838383838, F1-score: 0.933335663406\n",
      "Best for Attribute: 7, C: 0.00162377673919, T: 0.515151515152, F1-score: 0.77463203847\n",
      "Best for Attribute: 8, C: 0.00162377673919, T: 0.373737373737, F1-score: 0.895950993423\n"
     ]
    }
   ],
   "source": [
    "best_Cs = np.zeros((9, ))\n",
    "best_f1s = np.zeros((9, ))\n",
    "best_thresholds = np.zeros((9, ))\n",
    "\n",
    "Cs = np.logspace(-5, 1, num=20)\n",
    "thresholds = np.linspace(0, 1.0, 100)\n",
    "\n",
    "for att in range(9):\n",
    "    for C in Cs:\n",
    "        kfold = KFold(n = X.shape[0], n_folds = 5, shuffle=True)\n",
    "        \n",
    "        f1s = [[] for i in range(100)]\n",
    "        for train_index, test_index in kfold:\n",
    "            X_train, X_test = X[train_index], X[test_index]\n",
    "            y_train, y_test = y[train_index, att], y[test_index, att]\n",
    "            \n",
    "            scaler = StandardScaler()\n",
    "            X_train_s = scaler.fit_transform(X_train)\n",
    "            \n",
    "            clf = LogisticRegression(C=C)\n",
    "            clf.fit(X_train_s, y_train)\n",
    "            \n",
    "            X_test_s = scaler.transform(X_test)\n",
    "            y_probas_test = clf.predict_proba(X_test_s)\n",
    "            \n",
    "            for i, threshold in enumerate(thresholds):\n",
    "                y_pred_test = np.where(y_probas_test[:, 1] > threshold, 1, 0)\n",
    "                f1s[i].append(f1_score(y_test, y_pred_test))\n",
    "        \n",
    "        for i, threshold in enumerate(thresholds):\n",
    "            f1_mean = np.mean(f1s[i])\n",
    "            if f1_mean > best_f1s[att]:\n",
    "                best_f1s[att] = f1_mean\n",
    "                best_Cs[att] = C\n",
    "                best_thresholds[att] = threshold\n",
    "                \n",
    "    print(\"Best for Attribute: {a}, C: {C}, T: {t}, F1-score: {f1}\".format(a=att, C=best_Cs[att],\\\n",
    "            t=best_thresholds[att], f1=best_f1s[att]))"
   ]
  },
  {
   "cell_type": "code",
   "execution_count": 46,
   "metadata": {
    "collapsed": false
   },
   "outputs": [
    {
     "data": {
      "text/plain": [
       "array([ 0.00695193,  0.00335982,  0.00335982,  0.00162378,  0.0143845 ,\n",
       "        0.00335982,  0.00695193,  0.00162378,  0.00162378])"
      ]
     },
     "execution_count": 46,
     "metadata": {},
     "output_type": "execute_result"
    }
   ],
   "source": [
    "best_Cs"
   ]
  },
  {
   "cell_type": "code",
   "execution_count": 47,
   "metadata": {
    "collapsed": false
   },
   "outputs": [
    {
     "data": {
      "text/plain": [
       "array([ 0.45454545,  0.44444444,  0.38383838,  0.35353535,  0.56565657,\n",
       "        0.39393939,  0.38383838,  0.51515152,  0.37373737])"
      ]
     },
     "execution_count": 47,
     "metadata": {},
     "output_type": "execute_result"
    }
   ],
   "source": [
    "best_thresholds"
   ]
  },
  {
   "cell_type": "code",
   "execution_count": 48,
   "metadata": {
    "collapsed": false
   },
   "outputs": [
    {
     "data": {
      "text/plain": [
       "array([ 0.7229657 ,  0.84226431,  0.87891266,  0.71504205,  0.79750628,\n",
       "        0.89473163,  0.93333566,  0.77463204,  0.89595099])"
      ]
     },
     "execution_count": 48,
     "metadata": {},
     "output_type": "execute_result"
    }
   ],
   "source": [
    "best_f1s"
   ]
  },
  {
   "cell_type": "code",
   "execution_count": 103,
   "metadata": {
    "collapsed": false
   },
   "outputs": [
    {
     "data": {
      "text/plain": [
       "array([ 0.00335982,  0.00335982,  0.00335982,  0.00335982,  0.0143845 ,\n",
       "        0.0143845 ,  0.00695193,  0.00695193,  0.00335982])"
      ]
     },
     "execution_count": 103,
     "metadata": {},
     "output_type": "execute_result"
    }
   ],
   "source": [
    "best_Cs"
   ]
  },
  {
   "cell_type": "code",
   "execution_count": null,
   "metadata": {
    "collapsed": true
   },
   "outputs": [],
   "source": [
    "best_f1s"
   ]
  },
  {
   "cell_type": "code",
   "execution_count": 104,
   "metadata": {
    "collapsed": false
   },
   "outputs": [
    {
     "data": {
      "text/plain": [
       "array([ 0.7219946 ,  0.83872189,  0.87628017,  0.67585163,  0.79954874,\n",
       "        0.88640654,  0.92450377,  0.77203958,  0.88446557])"
      ]
     },
     "execution_count": 104,
     "metadata": {},
     "output_type": "execute_result"
    }
   ],
   "source": [
    "best_f1s"
   ]
  },
  {
   "cell_type": "code",
   "execution_count": 53,
   "metadata": {
    "collapsed": false
   },
   "outputs": [
    {
     "name": "stdout",
     "output_type": "stream",
     "text": [
      "Mean F1: 0.841043820468\n"
     ]
    }
   ],
   "source": [
    "kfold = KFold(n = X.shape[0], n_folds = 5, shuffle=True)\n",
    "\n",
    "f1s = []\n",
    "f1s_per_class = []\n",
    "for train_index, test_index in kfold:\n",
    "    y_pred_test = np.zeros((len(test_index), 9))\n",
    "    y_test = y[test_index]\n",
    "    for att in range(9):\n",
    "        X_train, X_test = X[train_index], X[test_index]\n",
    "        y_train = y[train_index, att]\n",
    "            \n",
    "        scaler = StandardScaler()\n",
    "        X_train_s = scaler.fit_transform(X_train)\n",
    "            \n",
    "        clf = LogisticRegression(C=best_Cs[att])\n",
    "        clf.fit(X_train_s, y_train)\n",
    "            \n",
    "        X_test_s = scaler.transform(X_test)\n",
    "        y_att_probas_test = clf.predict_proba(X_test_s)\n",
    "        y_att_pred_test = np.where(y_att_probas_test[:, 1] > best_thresholds[att], 1, 0)\n",
    "        y_pred_test[:, att] = y_att_pred_test\n",
    "        \n",
    "    f1s.append(f1_score(y_test, y_pred_test, 'micro'))\n",
    "    f1s_per_class.append(f1_score(y_test, y_pred_test, average=None))\n",
    "print(\"Mean F1: {f1}\".format(f1=np.mean(f1s)))"
   ]
  },
  {
   "cell_type": "code",
   "execution_count": 54,
   "metadata": {
    "collapsed": false
   },
   "outputs": [
    {
     "data": {
      "text/plain": [
       "array([ 0.71264766,  0.84480466,  0.86996249,  0.70162426,  0.7988557 ,\n",
       "        0.8903407 ,  0.93257989,  0.77235747,  0.89410482])"
      ]
     },
     "execution_count": 54,
     "metadata": {},
     "output_type": "execute_result"
    }
   ],
   "source": [
    "np.mean(np.array(f1s_per_class), axis=0)"
   ]
  },
  {
   "cell_type": "markdown",
   "metadata": {},
   "source": [
    "# Train on full dataset"
   ]
  },
  {
   "cell_type": "code",
   "execution_count": 55,
   "metadata": {
    "collapsed": true
   },
   "outputs": [],
   "source": [
    "scaler = StandardScaler()"
   ]
  },
  {
   "cell_type": "code",
   "execution_count": 56,
   "metadata": {
    "collapsed": true
   },
   "outputs": [],
   "source": [
    "X_s = scaler.fit_transform(X)"
   ]
  },
  {
   "cell_type": "code",
   "execution_count": 57,
   "metadata": {
    "collapsed": true
   },
   "outputs": [],
   "source": [
    "clfs = []\n",
    "for att in range(9):\n",
    "    clf = LogisticRegression(C=best_Cs[att])\n",
    "    clfs.append(clf.fit(X_s, y[:, att]))"
   ]
  },
  {
   "cell_type": "markdown",
   "metadata": {},
   "source": [
    "# Submission 002"
   ]
  },
  {
   "cell_type": "code",
   "execution_count": 58,
   "metadata": {
    "collapsed": true
   },
   "outputs": [],
   "source": [
    "gnet_test = np.load('../data/models/features/googlenet/test_pool5_7x7_s1.npy')"
   ]
  },
  {
   "cell_type": "code",
   "execution_count": 59,
   "metadata": {
    "collapsed": false
   },
   "outputs": [
    {
     "data": {
      "text/plain": [
       "(237152, 1024)"
      ]
     },
     "execution_count": 59,
     "metadata": {},
     "output_type": "execute_result"
    }
   ],
   "source": [
    "gnet_test.shape"
   ]
  },
  {
   "cell_type": "code",
   "execution_count": 60,
   "metadata": {
    "collapsed": false
   },
   "outputs": [
    {
     "name": "stdout",
     "output_type": "stream",
     "text": [
      "test_photos_256x256_noise/459084.jpg\r\n",
      "test_photos_256x256_noise/67847.jpg\r\n",
      "test_photos_256x256_noise/215999.jpg\r\n"
     ]
    }
   ],
   "source": [
    "!head -n 3 ../data/test.list"
   ]
  },
  {
   "cell_type": "code",
   "execution_count": 61,
   "metadata": {
    "collapsed": true
   },
   "outputs": [],
   "source": [
    "test_pid_to_index = dict()\n",
    "with open('../data/test.list', 'r') as lfile:\n",
    "    for i, line in enumerate(lfile):\n",
    "        _, filename = os.path.split(line)\n",
    "        pid_str, _ = os.path.splitext(filename)\n",
    "        test_pid_to_index[int(pid_str)] = i"
   ]
  },
  {
   "cell_type": "code",
   "execution_count": 62,
   "metadata": {
    "collapsed": false
   },
   "outputs": [
    {
     "data": {
      "text/plain": [
       "237152"
      ]
     },
     "execution_count": 62,
     "metadata": {},
     "output_type": "execute_result"
    }
   ],
   "source": [
    "len(test_pid_to_index)"
   ]
  },
  {
   "cell_type": "code",
   "execution_count": 63,
   "metadata": {
    "collapsed": true
   },
   "outputs": [],
   "source": [
    "test_photo_to_biz = pd.read_csv('../data/raw/test_photo_to_biz.csv')"
   ]
  },
  {
   "cell_type": "code",
   "execution_count": 64,
   "metadata": {
    "collapsed": true
   },
   "outputs": [],
   "source": [
    "def add_to_dict(x, bids_to_pids):\n",
    "    bids_to_pids[x.business_id].append(x.photo_id)"
   ]
  },
  {
   "cell_type": "code",
   "execution_count": 65,
   "metadata": {
    "collapsed": true
   },
   "outputs": [],
   "source": [
    "test_bids_to_pids = defaultdict(list)"
   ]
  },
  {
   "cell_type": "code",
   "execution_count": 66,
   "metadata": {
    "collapsed": true
   },
   "outputs": [],
   "source": [
    "_ = test_photo_to_biz.apply(lambda x: add_to_dict(x, test_bids_to_pids), axis=1)"
   ]
  },
  {
   "cell_type": "code",
   "execution_count": 67,
   "metadata": {
    "collapsed": false
   },
   "outputs": [],
   "source": [
    "X_test = np.zeros((len(test_bids_to_pids), 1024))\n",
    "for index, (bid, pids) in enumerate(test_bids_to_pids.items()):\n",
    "    for pid in pids:\n",
    "        X_test[index] += gnet_test[test_pid_to_index[pid]]\n",
    "    X_test[index] /= len(pids)"
   ]
  },
  {
   "cell_type": "code",
   "execution_count": 68,
   "metadata": {
    "collapsed": false
   },
   "outputs": [
    {
     "data": {
      "text/plain": [
       "(10000, 1024)"
      ]
     },
     "execution_count": 68,
     "metadata": {},
     "output_type": "execute_result"
    }
   ],
   "source": [
    "X_test.shape"
   ]
  },
  {
   "cell_type": "code",
   "execution_count": 69,
   "metadata": {
    "collapsed": true
   },
   "outputs": [],
   "source": [
    "X_test_s = scaler.transform(X_test)"
   ]
  },
  {
   "cell_type": "code",
   "execution_count": 70,
   "metadata": {
    "collapsed": true
   },
   "outputs": [],
   "source": [
    "y_test = np.zeros((X_test.shape[0], 9))"
   ]
  },
  {
   "cell_type": "code",
   "execution_count": 77,
   "metadata": {
    "collapsed": true
   },
   "outputs": [],
   "source": [
    "for att in range(9):\n",
    "    y_probas_att = clfs[att].predict_proba(X_test_s)\n",
    "    y_pred_att = np.where(y_probas_att[:, 1] > best_thresholds[att], 1, 0)\n",
    "    y_test[:, att] = y_pred_att"
   ]
  },
  {
   "cell_type": "code",
   "execution_count": 78,
   "metadata": {
    "collapsed": false
   },
   "outputs": [
    {
     "data": {
      "text/plain": [
       "array([[ 0.,  0.,  0., ...,  1.,  0.,  1.],\n",
       "       [ 0.,  1.,  1., ...,  1.,  1.,  0.],\n",
       "       [ 0.,  1.,  1., ...,  1.,  1.,  1.],\n",
       "       ..., \n",
       "       [ 1.,  1.,  1., ...,  1.,  0.,  1.],\n",
       "       [ 0.,  1.,  1., ...,  1.,  1.,  0.],\n",
       "       [ 0.,  1.,  1., ...,  1.,  1.,  0.]])"
      ]
     },
     "execution_count": 78,
     "metadata": {},
     "output_type": "execute_result"
    }
   ],
   "source": [
    "y_test"
   ]
  },
  {
   "cell_type": "code",
   "execution_count": 79,
   "metadata": {
    "collapsed": true
   },
   "outputs": [],
   "source": [
    "def inverse_ohe(ohe):\n",
    "    inv = []\n",
    "    for i, x in enumerate(ohe):\n",
    "        if x == 1:\n",
    "            inv.append(i) \n",
    "    return inv"
   ]
  },
  {
   "cell_type": "code",
   "execution_count": 80,
   "metadata": {
    "collapsed": true
   },
   "outputs": [],
   "source": [
    "test_bid_to_labels = dict()\n",
    "for index, (bid, _) in enumerate(test_bids_to_pids.items()):\n",
    "    test_bid_to_labels[bid] = inverse_ohe(y_test[index])"
   ]
  },
  {
   "cell_type": "code",
   "execution_count": 81,
   "metadata": {
    "collapsed": false
   },
   "outputs": [
    {
     "data": {
      "text/plain": [
       "{'af0iy': [3, 5, 6, 8],\n",
       " 's4n0d': [1, 2, 3, 4, 5, 6, 7],\n",
       " 's1e3l': [1, 2, 3, 4, 5, 6, 7, 8],\n",
       " 'yinms': [1, 2, 3, 5, 6, 7, 8],\n",
       " '3i26e': [1, 2, 3, 5, 6, 8],\n",
       " 'rl851': [0, 3, 8],\n",
       " '0zrov': [1, 2, 3, 5, 6, 7],\n",
       " 'ean2c': [1, 2, 3, 5, 6, 7],\n",
       " 'toisr': [1, 2, 3, 5, 6, 7, 8],\n",
       " '74ecy': [1, 2, 3, 5, 6, 8],\n",
       " '80dw9': [1, 2, 3, 4, 5, 6, 7],\n",
       " 'aitij': [1, 2, 3, 5, 6, 7],\n",
       " 's0m7q': [1, 2, 3, 4, 5, 6, 7],\n",
       " '7mcjz': [0, 3, 8],\n",
       " 'm3s1l': [0, 3, 5, 6, 8],\n",
       " 'l8fvq': [1, 2, 3, 5, 6, 7],\n",
       " 'z70r9': [1, 2, 3, 5, 6, 8],\n",
       " 'ugfqb': [1, 2, 3, 4, 5, 6, 8],\n",
       " 'tea06': [1, 2, 6, 8],\n",
       " 'imbxw': [1, 2, 3, 5, 6, 8],\n",
       " 'zpqo0': [1, 2, 3, 5, 6, 8],\n",
       " 'os9pk': [1, 2, 3, 5, 6, 8],\n",
       " 'o7d98': [1, 2, 3, 4, 5, 6, 7],\n",
       " '3acri': [1, 2, 3, 4, 5, 6, 7],\n",
       " 'd7awj': [0, 3, 8],\n",
       " '0pthg': [5],\n",
       " '8796k': [1, 2, 3, 5, 6, 7, 8],\n",
       " 'wedp4': [1, 2, 3, 5, 6, 7],\n",
       " 'l851z': [1, 2, 4, 5, 6, 7],\n",
       " 'dq7xa': [0, 3, 8],\n",
       " 'iayad': [1, 2, 3, 5, 6, 8],\n",
       " 'pgr7c': [1, 2, 3, 5, 6, 8],\n",
       " 'lqswi': [0, 3, 8],\n",
       " '68zwr': [0, 8],\n",
       " 'nju8j': [1, 2, 3, 5, 6, 8],\n",
       " '1f9nm': [1, 2, 3, 6],\n",
       " 'c0c21': [1, 2, 3, 5, 6, 7],\n",
       " 'bpq3x': [1, 2, 3, 5, 6, 7, 8],\n",
       " 'oars3': [1, 2, 3, 5, 6, 7],\n",
       " '4f65u': [1, 2, 3, 5, 6, 8],\n",
       " '20hsy': [0, 1, 5, 6, 8],\n",
       " 'zduww': [0, 8],\n",
       " 'gb434': [1, 2, 4, 5, 6, 7],\n",
       " '8pg6g': [1, 2, 3, 4, 5, 6, 7],\n",
       " 'vnoqh': [1, 2, 4, 5, 6, 7],\n",
       " 'xw37l': [0, 3, 8],\n",
       " '1dk14': [0, 1, 2, 3, 5, 6],\n",
       " 'je655': [6],\n",
       " 'upvpw': [1, 2, 4, 5, 6, 7],\n",
       " 'mradw': [1, 2, 3, 5, 6, 7, 8],\n",
       " 'b4e8h': [1, 2, 3, 4, 5, 6, 7],\n",
       " '9awrm': [1, 2, 5, 6, 8],\n",
       " '52kck': [0, 3, 8],\n",
       " 'cfh8i': [1, 2, 3, 4, 5, 6, 7],\n",
       " 'rx2lp': [1, 2, 3, 5, 6, 7],\n",
       " 'buh18': [1, 2, 3, 5, 6, 8],\n",
       " 'oug2o': [1, 2, 3, 4, 5, 6, 7, 8],\n",
       " 'wuo4x': [1, 2, 3, 5, 6, 8],\n",
       " 'm4c1o': [1, 2, 4, 5, 6, 7],\n",
       " 'f6lgj': [1, 2, 3, 5, 6, 8],\n",
       " 'mm8kq': [2, 3, 5, 6, 8],\n",
       " 'gye3v': [1, 2, 3, 5, 6],\n",
       " 'hnyrp': [1, 2, 3, 4, 5, 6, 7],\n",
       " 'i28t8': [1, 2, 3, 5, 6, 7, 8],\n",
       " '88m8c': [2, 3, 5, 6],\n",
       " '3n1vw': [1, 2, 3, 4, 5, 6, 7],\n",
       " 'yf1la': [1, 2, 3, 4, 5, 6, 7],\n",
       " '0z01d': [1, 2, 3, 4, 5, 6, 7],\n",
       " 'w2oi2': [0, 8],\n",
       " 'j5h6q': [1, 2, 3, 5, 6, 7],\n",
       " 'h31mf': [5, 6, 8],\n",
       " 'q6npi': [1, 2, 3, 5, 6, 8],\n",
       " 'l6hzo': [1, 2, 3, 5, 6, 8],\n",
       " '5f7q5': [1, 2, 3, 4, 5, 6, 7],\n",
       " 'ixq02': [0, 3, 8],\n",
       " 'nyovy': [2, 3, 5, 6, 7, 8],\n",
       " 'x0lqy': [1, 2, 3, 4, 5, 6, 7],\n",
       " '53xdp': [1, 2, 3, 5, 6, 8],\n",
       " '8ce6l': [1, 2, 3, 4, 5, 6, 7],\n",
       " '5821a': [6, 8],\n",
       " 'n27c4': [1, 2, 3, 4, 5, 6, 7],\n",
       " '5upg5': [1, 2, 3, 4, 5, 6],\n",
       " '4teqn': [1, 2, 3, 4, 5, 6, 7],\n",
       " 'm85at': [1, 2, 3, 4, 5, 6, 7],\n",
       " 'bc15t': [1, 2, 3, 4, 5, 6],\n",
       " 'c4kph': [0, 1, 2, 5, 6, 8],\n",
       " '9aoul': [3, 5, 6, 8],\n",
       " 'n35kq': [0, 1, 2, 3, 5, 6, 8],\n",
       " '2f6zq': [1, 2, 3, 5, 6, 7, 8],\n",
       " '035x6': [1, 2, 3, 5, 6, 7],\n",
       " 'tyxvh': [0, 3, 8],\n",
       " 'ivrep': [1, 2, 3, 5, 6, 7, 8],\n",
       " '2yfj8': [6, 8],\n",
       " 'y90ff': [0, 2, 3, 5, 6, 8],\n",
       " 'pfn09': [1, 2, 3, 4, 5, 6, 7],\n",
       " 'ia2g8': [1, 2, 4, 5, 6, 7, 8],\n",
       " 'leesd': [1, 2, 4, 5, 6, 8],\n",
       " '3s322': [1, 2, 3, 4, 5, 6, 7],\n",
       " 'wt1nw': [1, 2, 3, 5, 6, 7],\n",
       " '0573e': [0, 1, 2, 3, 5, 6, 8],\n",
       " 'tk2yj': [0, 3, 8],\n",
       " 'ke4pq': [1, 2, 3, 5, 6, 7],\n",
       " 'rr4bf': [1, 2, 3, 5, 6, 7],\n",
       " 'f8szl': [1, 2, 3, 5, 6],\n",
       " 'dj2ei': [1, 2, 5, 6, 7],\n",
       " 'f9tc6': [1, 2, 3, 4, 5, 6, 7],\n",
       " '41mcz': [2, 3, 5, 6, 8],\n",
       " 't6mxo': [1, 2, 3, 5, 6, 8],\n",
       " 'xifug': [1, 2, 3, 4, 5, 6, 7, 8],\n",
       " 'wh3t2': [1, 2, 3, 5, 6],\n",
       " '2afxe': [3, 5, 6, 8],\n",
       " '67tw0': [1, 2, 3, 5, 6, 8],\n",
       " '06fzh': [1, 2, 3, 5, 6, 7],\n",
       " 'btfnb': [1, 2, 3, 5, 6, 8],\n",
       " 'n8tv1': [1, 2, 5, 6, 7, 8],\n",
       " 'i9sbw': [0, 3, 8],\n",
       " 'seclx': [1, 2, 3, 5, 6, 8],\n",
       " 'ndzw7': [0, 1, 2, 3, 5, 6, 8],\n",
       " 'xs134': [1, 2, 3, 5, 6, 7],\n",
       " 'j1lj4': [1, 2, 3, 5, 6, 7, 8],\n",
       " '6xea2': [1, 2, 3, 4, 5, 6, 7],\n",
       " 'cnffw': [0, 2, 3, 8],\n",
       " 'bahz2': [1, 2, 3, 5, 6, 7],\n",
       " '2350j': [1, 2, 3, 5, 6, 8],\n",
       " 'o3p7g': [0, 1, 2, 3, 4, 5, 6],\n",
       " 'xkrdd': [1, 2, 4, 5, 6, 7],\n",
       " '0ddwy': [1, 2, 5, 8],\n",
       " '3n3w3': [1, 2, 3, 4, 5, 6, 7],\n",
       " '4so8s': [0, 3, 8],\n",
       " '5w7kz': [1, 2, 3, 5, 6, 8],\n",
       " 'o2b2f': [1, 2, 3, 4, 5, 6, 7],\n",
       " 'czl5i': [1, 2, 3, 5, 6, 8],\n",
       " 'd55xw': [1, 2, 5, 6, 7],\n",
       " '5atth': [0, 3, 8],\n",
       " '6otdh': [1, 2, 5, 6, 8],\n",
       " 'xhx25': [1, 2, 3, 5, 6],\n",
       " '00mc6': [1, 2, 3, 4, 5, 6, 8],\n",
       " '3f89e': [1, 2, 3, 5, 6, 7],\n",
       " '1zf3m': [1, 2, 5, 6, 7, 8],\n",
       " '53yb2': [1, 2, 3, 5, 6, 8],\n",
       " '97g8o': [3, 6, 8],\n",
       " 'el8dn': [1, 2, 3, 4, 5, 6, 7],\n",
       " '5h353': [1, 2, 3, 5, 6, 7],\n",
       " '164ok': [1, 2, 3, 5, 6],\n",
       " 'sdz5f': [1, 2, 3, 4, 5, 6, 7],\n",
       " 'hasf7': [1, 2, 4, 5, 6, 7],\n",
       " 'oz9t9': [1, 2, 3, 5, 6],\n",
       " '02pxt': [1, 2, 3, 5, 6, 8],\n",
       " 'gl60q': [3, 5, 6, 8],\n",
       " 'wey60': [1, 2, 3, 4, 5, 6, 7, 8],\n",
       " 'clr6m': [1, 2, 3, 5, 6, 8],\n",
       " '7b4iw': [1, 2, 3, 5, 6, 7, 8],\n",
       " 'l029s': [1, 2, 3, 4, 5, 6, 7],\n",
       " '9ri03': [2, 3, 5, 6, 8],\n",
       " '7tzp1': [1, 2, 5, 6, 8],\n",
       " 'n4kqz': [1, 2, 3, 5, 6, 7, 8],\n",
       " 'k1ln0': [3, 5, 6, 8],\n",
       " 'wzalq': [1, 2, 4, 5, 6, 7],\n",
       " '0jiz6': [0, 2, 3, 5, 6, 8],\n",
       " 'ibev2': [1, 2, 3, 5, 6, 8],\n",
       " '55hkz': [1, 2, 3, 5, 6, 8],\n",
       " 'sin1k': [8],\n",
       " 'lmzuw': [0, 6, 8],\n",
       " 'owld5': [2, 3, 5, 6, 8],\n",
       " 'mai4q': [1, 2, 3, 4, 5, 6, 7],\n",
       " 'xfpoz': [1, 2, 3, 5, 6],\n",
       " '9qiuf': [1, 2, 5, 6, 7, 8],\n",
       " 'b4jlj': [1, 2, 3, 5, 6, 7],\n",
       " 'cow4g': [1, 2, 3, 5, 6, 8],\n",
       " 'apdjl': [1, 2, 5, 6, 7, 8],\n",
       " '0xbc6': [2, 3, 5, 6, 8],\n",
       " 'ta0z5': [1, 2, 3, 5, 6, 8],\n",
       " '5hbs4': [1, 2, 3, 5, 6, 7, 8],\n",
       " 'v3rak': [1, 2, 3, 5, 6],\n",
       " 'qlx5g': [1, 2, 3, 5, 6],\n",
       " '7vmqv': [0, 1, 2, 3, 4, 5, 6, 7],\n",
       " 'syk1k': [1, 2, 5, 6, 7, 8],\n",
       " '42kip': [1, 2, 3, 4, 5, 6],\n",
       " 'jirro': [1, 2, 3, 4, 5, 6, 7],\n",
       " 'gh00f': [1, 2, 3, 4, 5, 6, 7],\n",
       " 't28dg': [1, 2, 3, 4, 5, 6],\n",
       " 'l1he0': [1, 2, 3, 5, 6, 8],\n",
       " '5d29c': [1, 2, 3, 5, 6, 8],\n",
       " 'c1u5t': [1, 2, 3, 5, 6, 8],\n",
       " 'mh68d': [1, 2, 5, 6],\n",
       " '8s8c6': [1, 2, 4, 5, 6, 7],\n",
       " '41rks': [1, 2, 3, 5, 6, 7, 8],\n",
       " '8yd82': [1, 2, 3, 5, 6, 8],\n",
       " '2cu1k': [1, 2, 5, 6, 8],\n",
       " 'ceb43': [1, 2, 4, 5, 6, 7],\n",
       " 'dmrzx': [1, 2, 3, 5, 6, 7],\n",
       " 'an1xl': [1, 2, 3, 5, 6, 8],\n",
       " 'uxlhw': [1, 2, 3, 4, 5, 6, 7, 8],\n",
       " '7vd3u': [1, 2, 3, 5, 6, 7],\n",
       " '2wd4x': [0, 8],\n",
       " 'vsaix': [1, 2, 5, 6, 7],\n",
       " '93u8s': [1, 2, 3, 4, 5, 6, 7],\n",
       " 'io20c': [6, 8],\n",
       " 'btpv5': [0, 2, 3, 5, 6, 7, 8],\n",
       " 'u4dry': [1, 2, 3, 5, 6, 7, 8],\n",
       " 'dhs7v': [1, 2, 3, 5, 6, 8],\n",
       " '6bym8': [1, 2, 4, 5, 6, 7],\n",
       " 'stb58': [1, 2, 3, 5, 6, 8],\n",
       " '8b8ex': [1, 2, 5, 6, 8],\n",
       " 'f73hk': [3, 8],\n",
       " '77fh6': [0, 1, 2, 3, 5, 6, 8],\n",
       " '8ay0y': [6, 7, 8],\n",
       " 'bypi0': [3, 6, 8],\n",
       " '06p0g': [1, 2, 3, 5, 6, 7, 8],\n",
       " '8c75a': [1, 2, 3, 5, 6],\n",
       " 'qt20a': [1, 2, 3, 5, 6, 7],\n",
       " 'ukbit': [1, 2, 3, 5, 6, 8],\n",
       " 'kqe89': [1, 2, 3, 5, 6, 7, 8],\n",
       " '2smnw': [1, 2, 3, 5, 6, 8],\n",
       " 'eyh3i': [0, 3, 8],\n",
       " 'iyryf': [2, 3, 5, 6, 8],\n",
       " 'y3kbi': [1, 2, 3, 5, 6, 8],\n",
       " '943oy': [1, 2, 3, 5, 6, 7, 8],\n",
       " 'fhatz': [1, 2, 3, 5, 6, 8],\n",
       " '3nkeq': [2, 3, 5, 6],\n",
       " 'ni6bb': [1, 2, 3, 4, 5, 6, 7],\n",
       " '5yawt': [1, 2, 3, 5, 6],\n",
       " 'ovxo8': [1, 2, 3, 4, 5, 6, 7],\n",
       " '64u84': [1, 2, 3, 5, 6, 7],\n",
       " 'zxwh1': [1, 2, 5, 6, 8],\n",
       " 'vmcip': [1, 2, 3, 4, 5, 6, 7],\n",
       " 't2183': [1, 2, 3, 5, 6, 7],\n",
       " 'p4wco': [1, 2, 3, 5, 6, 7],\n",
       " 'ml2ih': [1, 2, 3, 5, 6, 7, 8],\n",
       " '35dol': [1, 2, 3, 5, 6, 8],\n",
       " 'mrls2': [1, 2, 3, 5, 6, 7],\n",
       " 'zr4lk': [1, 2, 5, 6, 7],\n",
       " '0e2eh': [1, 2, 3, 5, 6, 8],\n",
       " 'h0iq1': [0, 2, 3, 5, 6, 8],\n",
       " '5i6ry': [1, 2, 3, 5, 6, 7],\n",
       " 'zeiyy': [1, 2, 3, 5, 6, 8],\n",
       " 's45f4': [1, 2, 3, 4, 5, 6, 8],\n",
       " 'xs3ar': [2, 3, 5, 6, 8],\n",
       " 'yo6u1': [6, 7, 8],\n",
       " '27rwo': [1, 2, 3, 5, 6, 8],\n",
       " 'l7jid': [1, 2, 3, 4, 5, 6],\n",
       " 'zda68': [1, 2, 3, 5, 6, 7],\n",
       " 'q0cmw': [3, 5, 6, 8],\n",
       " 'o7cxi': [1, 2, 3, 5, 6],\n",
       " 'okyvs': [1, 2, 5, 6, 7],\n",
       " 'n5qxd': [1, 2, 3, 5, 6, 8],\n",
       " 'nfsxi': [1, 2, 3, 4, 5, 6, 7],\n",
       " '9bl0y': [1, 2, 3, 5, 6, 8],\n",
       " 'al6pc': [1, 2, 3, 5, 6, 7],\n",
       " 'cd9cd': [1, 2, 3, 5, 6, 7, 8],\n",
       " 'nqm95': [1, 2, 3, 4, 5, 6, 7, 8],\n",
       " '5q2ts': [0, 3, 8],\n",
       " '7hgjj': [1, 2, 5, 6, 7],\n",
       " 'zpbgr': [1, 2, 3, 5, 6, 7],\n",
       " 'nfcxm': [1, 2, 3, 4, 5, 6, 7],\n",
       " '0hqkx': [1, 2, 3, 5, 6, 8],\n",
       " '0jfku': [0, 1, 2, 3, 5, 6, 8],\n",
       " 'yxx3y': [1, 2, 3, 4, 5, 6, 7],\n",
       " 'tcu2x': [1, 2, 3, 5, 6, 8],\n",
       " 'sd8qc': [1, 2, 3, 5, 6, 7],\n",
       " 'goib8': [1, 2, 3, 5, 6, 7],\n",
       " '8qmmb': [1, 2, 4, 5, 6, 7],\n",
       " 'las99': [1, 2, 3, 5, 6, 7, 8],\n",
       " 'iamhz': [1, 2, 3, 5, 6, 7],\n",
       " 'b1h73': [1, 2, 3, 5, 6, 8],\n",
       " 'jq3ql': [1, 2, 3, 5, 6, 8],\n",
       " '2s9i5': [1, 2, 4, 7],\n",
       " '39hup': [1, 2, 3, 5, 6, 7, 8],\n",
       " '5vknk': [1, 2, 3, 4, 5, 6, 7],\n",
       " 'i95mo': [2, 3, 5, 6, 8],\n",
       " '53z9l': [1, 2, 3, 5, 6],\n",
       " 't7tc5': [1, 2, 3, 5, 6, 7, 8],\n",
       " 'n31px': [1, 2, 3, 5, 6, 8],\n",
       " 'zj58w': [1, 2, 3, 5, 6],\n",
       " '6uko9': [1, 2, 3, 5, 6, 7],\n",
       " 'xg3pm': [1, 2, 3, 5, 6, 7, 8],\n",
       " 'uwjdd': [1, 2, 3, 5, 6, 8],\n",
       " 'veekm': [1, 2, 3, 5, 6, 7, 8],\n",
       " 'biih2': [1, 2, 4, 5, 6, 7],\n",
       " 'veoat': [1, 2, 3, 5, 6, 7],\n",
       " 'iznwu': [1, 2, 3, 4, 5, 6, 7, 8],\n",
       " '7ndz7': [1, 2, 6, 8],\n",
       " 'miqja': [1, 2, 5, 6, 7],\n",
       " 'wwozn': [1, 2, 3, 5, 6, 7, 8],\n",
       " '6327e': [1, 2, 3, 5, 6, 8],\n",
       " '88xhh': [0, 3, 8],\n",
       " 'ocvm1': [1, 2, 3, 4, 5, 6, 7],\n",
       " '7kw2k': [1, 2, 3, 5, 6, 7],\n",
       " 'hknmy': [1, 2, 6, 7, 8],\n",
       " 'ehpdr': [1, 2, 3, 4, 5, 6, 7],\n",
       " '2uj1k': [1, 2, 3, 5, 6, 8],\n",
       " 'homj4': [1, 2, 3, 5, 6, 7],\n",
       " 's5hdh': [1, 2, 3, 5, 6, 7],\n",
       " 'jd2df': [1, 2, 3, 4, 5, 6, 7],\n",
       " 'x4xg8': [1, 2, 3, 5, 6, 7],\n",
       " 'gm497': [1, 2, 3, 5, 6, 8],\n",
       " 'm7f0e': [1, 2, 6, 8],\n",
       " '4dskp': [1, 2, 3, 5, 6],\n",
       " '2w9im': [1, 2, 3, 4, 5, 6, 7],\n",
       " 'lr2l3': [1, 2, 3, 5, 6, 8],\n",
       " 'xth24': [1, 2, 3, 4, 5, 6, 7],\n",
       " 'opypz': [2, 3, 5, 6, 7],\n",
       " 'kfg1y': [1, 2, 3, 5, 6, 8],\n",
       " '2e0ln': [2, 3, 5, 6, 8],\n",
       " 'wxa8x': [0, 3, 8],\n",
       " '6se3b': [0, 6, 8],\n",
       " 'sgny3': [1, 2, 5, 6, 8],\n",
       " '2nrrq': [2, 3, 5, 6, 8],\n",
       " 'uiar1': [1, 2, 3, 4, 5, 6, 8],\n",
       " 'uvfuj': [1, 2, 3, 5, 6, 7, 8],\n",
       " '639hl': [1, 2, 3, 5, 6, 7],\n",
       " '77564': [1, 2, 3, 4, 5, 6, 8],\n",
       " '31578': [1, 2, 3, 5, 6, 8],\n",
       " '8uiug': [1, 2, 3, 5, 6, 8],\n",
       " '3h8zc': [1, 2, 3, 5, 6, 8],\n",
       " 'bozes': [1, 2, 3, 4, 5, 6, 7],\n",
       " 's1fyv': [0, 1, 2, 3, 5, 6, 8],\n",
       " '4fipv': [1, 2, 3, 5, 6, 7],\n",
       " 'mjjf8': [1, 2, 3, 5, 6, 7, 8],\n",
       " 's5fri': [3, 6, 8],\n",
       " 'o9k2b': [1, 2, 3, 5, 6, 8],\n",
       " '4ja8p': [0, 3, 8],\n",
       " 'tzehk': [1, 2, 3, 5, 6, 7, 8],\n",
       " 'zumiy': [1, 2, 3, 4, 5, 6, 7],\n",
       " 'm27fj': [1, 2, 3, 5, 6, 8],\n",
       " '73x96': [1, 2, 3, 5, 6, 8],\n",
       " 'd8kqe': [0, 1, 2, 4, 5, 6, 7],\n",
       " 'yrwe6': [1, 2, 3, 5, 6, 8],\n",
       " 'vkt65': [1, 2, 3, 5, 6],\n",
       " 'f83cm': [1, 2, 3, 5, 6],\n",
       " 'pb4sr': [1, 2, 3, 5, 6],\n",
       " 'dmp7a': [1, 2, 3, 5, 6, 8],\n",
       " '2zkot': [1, 2, 3, 4, 5, 6, 7],\n",
       " '2y2rp': [1, 2, 3, 5, 6, 7, 8],\n",
       " 'ygprv': [1, 2, 3, 5, 6, 8],\n",
       " 'p0ayq': [8],\n",
       " 'pq8ml': [1, 2, 3, 5, 6, 7],\n",
       " 'aske8': [1, 2, 3, 5, 6, 8],\n",
       " '6tfuj': [1, 2, 3, 5, 6],\n",
       " 'ynd10': [1, 2, 3, 5, 6, 7, 8],\n",
       " '1sdbh': [1, 2, 3, 5, 6, 8],\n",
       " 'cs5x4': [0, 3, 8],\n",
       " 'zpi43': [1, 2, 4, 5, 6, 7],\n",
       " '3omvg': [1, 2, 3, 4, 5, 6, 8],\n",
       " 'rlkd0': [1, 2, 3, 4, 5, 6, 7, 8],\n",
       " 'rywhb': [1, 2, 3, 5, 6],\n",
       " '36gec': [1, 2, 3, 4, 5, 6, 7],\n",
       " 'kmgky': [1, 2, 3, 4, 5, 6, 7, 8],\n",
       " 'r35su': [1, 2, 3, 5, 6, 8],\n",
       " 'v24vc': [1, 2, 3, 5, 6, 8],\n",
       " 'wbfdx': [0, 3, 8],\n",
       " 'bvhij': [1, 2, 5, 6, 8],\n",
       " 'u1wbw': [1, 2, 3, 5, 6, 7],\n",
       " '9e6p9': [1, 2, 3, 5, 6, 7, 8],\n",
       " 't2j5h': [1, 2, 3, 5, 6, 7, 8],\n",
       " 'c8g1q': [1, 2, 3, 5, 6],\n",
       " 'r7f8t': [1, 2, 3, 5, 6, 7],\n",
       " 'r03z7': [1, 2, 4, 5, 6, 7],\n",
       " 'xm5iu': [1, 2, 3, 4, 5, 6, 7],\n",
       " '0s9nf': [5, 6, 7, 8],\n",
       " '249oh': [1, 2, 3, 5, 6, 8],\n",
       " 'vdhyi': [1, 2, 3, 5, 6, 7],\n",
       " 'jg4tu': [1, 2, 3, 4, 5, 6, 7],\n",
       " '6jg4s': [0, 3, 8],\n",
       " 'hj9g4': [1, 2, 3, 5, 6, 7],\n",
       " 'n57og': [0, 1, 2, 3, 5, 6],\n",
       " 'gn5np': [1, 2, 3, 5, 6, 7, 8],\n",
       " '3ekst': [1, 2, 3, 5, 6],\n",
       " '5jdqz': [2, 3, 5, 6, 8],\n",
       " 'uyc8e': [1, 2, 3, 5, 6, 7],\n",
       " 'r7vpj': [1, 2, 3, 5, 6, 8],\n",
       " 'oso1l': [1, 2, 3, 5, 6, 7],\n",
       " 'qejfy': [1, 2, 3, 5, 6, 8],\n",
       " 'sliik': [0, 2, 3, 5, 6, 8],\n",
       " 'sahb7': [1, 2, 3, 4, 5, 6, 7],\n",
       " '2jw3q': [1, 2, 3, 5, 6, 7, 8],\n",
       " 'c80l1': [2, 3, 5, 6, 7, 8],\n",
       " 'assuo': [1, 2, 3, 5, 6, 7],\n",
       " 'ze5fl': [1, 2, 3, 5, 6, 8],\n",
       " 'wjtdb': [2, 3, 5, 6, 7, 8],\n",
       " 'zrk9a': [0, 1, 2, 3, 5, 6],\n",
       " 'zhtzd': [1, 2, 3, 5, 6, 8],\n",
       " '9vqkt': [0, 1, 3, 6, 8],\n",
       " 'ukb2f': [1, 2, 3, 5, 6, 8],\n",
       " 'rrwhn': [0, 1, 6, 8],\n",
       " 'zko07': [1, 2, 3, 5, 6, 7, 8],\n",
       " 'avhji': [2, 5, 6, 8],\n",
       " 'c1vav': [0, 3, 5, 6],\n",
       " 'ctb9z': [1, 2, 3, 5, 6, 8],\n",
       " 'rj5da': [1, 2, 3, 5, 6, 7, 8],\n",
       " 'sgze8': [1, 2, 3, 5, 6, 8],\n",
       " 'pyafn': [1, 2, 3, 5, 6, 8],\n",
       " 'at4is': [1, 2, 3, 4, 5, 6, 7],\n",
       " '3m2tp': [1, 2, 3, 5, 6, 7],\n",
       " '3dnyh': [1, 2, 3, 4, 5, 6, 7],\n",
       " 'j6vdi': [5, 6, 8],\n",
       " 'vf4mm': [1, 2, 3, 5, 6, 7, 8],\n",
       " 'lkqk1': [1, 2, 3, 5, 6, 7, 8],\n",
       " '1xelt': [1, 2, 3, 5, 6],\n",
       " 'rcegl': [0, 1, 2, 5, 6, 8],\n",
       " 'zg8rb': [1, 2, 3, 5, 6, 8],\n",
       " '7w70k': [1, 2, 3, 4, 5, 6, 7],\n",
       " '0cnbh': [1, 2, 3, 5, 6, 7],\n",
       " 'd3inn': [1, 2, 3, 5, 6, 8],\n",
       " 'hjvcn': [1, 2, 3, 5, 6],\n",
       " '7qzrf': [1, 2, 3, 4, 5, 6, 7],\n",
       " '92f86': [1, 2, 5, 6, 8],\n",
       " '34kyx': [1, 2, 3, 5, 6, 7, 8],\n",
       " 'fq2io': [0, 1, 2, 3, 5, 6, 8],\n",
       " '02d9t': [1, 2, 3, 5, 6, 7],\n",
       " 's4g31': [1, 2, 3, 5, 6, 8],\n",
       " 'grvp1': [1, 2, 3, 5, 6, 7],\n",
       " 'e85q4': [1, 2, 3, 4, 5, 6, 7],\n",
       " 'yh8jz': [5, 6, 8],\n",
       " '5vooj': [1, 2, 3, 5, 6, 8],\n",
       " 'fmndk': [1, 2, 3, 5, 6],\n",
       " 'i0088': [1, 6, 7, 8],\n",
       " 'h66tx': [1, 2, 3, 5, 6, 8],\n",
       " 'i1ub2': [1, 2, 3, 5, 6, 8],\n",
       " 'escyq': [1, 2, 3, 4, 5, 6, 7],\n",
       " 'jtfll': [0, 1, 2, 5, 6, 8],\n",
       " 'pg52e': [1, 2, 3, 5, 6, 8],\n",
       " 'hbyxx': [1, 2, 3, 5, 6, 7],\n",
       " 'tw1d5': [1, 2, 3, 5, 6, 8],\n",
       " 'f9e84': [1, 2, 3, 4, 5, 6, 7],\n",
       " 'somli': [1, 2, 3, 5, 6, 7, 8],\n",
       " 'ovk9k': [1, 2, 3, 5, 6, 8],\n",
       " 'w73ld': [1, 2, 3, 5, 6, 7, 8],\n",
       " '69k69': [1, 2, 3, 5, 6, 7, 8],\n",
       " 'g8s6m': [1, 2, 3, 5, 6],\n",
       " 'fn1y0': [1, 2, 3, 5, 6, 8],\n",
       " 'na2ma': [1, 3, 4, 5],\n",
       " '5ow1r': [2, 3, 5, 6, 8],\n",
       " '1lneo': [1, 2, 5, 6, 8],\n",
       " '6j7rx': [1, 2, 3, 5, 6, 7],\n",
       " '7bklq': [1, 2, 3, 5, 6],\n",
       " 'm4rhy': [1, 2, 3, 5, 6, 7],\n",
       " 'nwk38': [1, 2, 3, 4, 5, 6, 7],\n",
       " 'hhfga': [1, 2, 3, 5, 6, 8],\n",
       " 'pk9ni': [0, 1, 2, 3, 5, 6, 8],\n",
       " '3uzvp': [1, 2, 3, 5, 6, 7],\n",
       " 'xvwe6': [1, 2, 3, 5, 6, 7],\n",
       " 'mtjdh': [1, 2, 3, 5, 6, 7],\n",
       " '9yp77': [1, 2, 5, 6, 8],\n",
       " 'i99li': [1, 2, 3, 5, 6, 7],\n",
       " '1e34p': [1, 2, 3, 5, 6, 7, 8],\n",
       " '3j8ta': [1, 2, 3, 8],\n",
       " '7064k': [1, 2, 3, 5, 6, 7, 8],\n",
       " 'isb0x': [1, 2, 3, 5, 6],\n",
       " 'e17l4': [0, 2, 3, 5, 6, 8],\n",
       " 'uw2uw': [1, 2, 3, 5, 6, 8],\n",
       " 'lfxjn': [1, 2, 3, 4, 5, 6, 7],\n",
       " 'x8mfh': [1, 2, 3, 4, 5, 6],\n",
       " '2kswt': [0, 1, 2, 3, 5, 6, 8],\n",
       " '31xwa': [1, 2, 3, 5, 6],\n",
       " '8i7dh': [1, 2, 3, 6, 7, 8],\n",
       " 'oeq9j': [1, 2, 3, 5, 6, 8],\n",
       " '4o2co': [6, 8],\n",
       " 'nkbfd': [1, 2, 3, 4, 5, 6, 7],\n",
       " '8e2qw': [1, 2, 5, 6, 8],\n",
       " 'kixz8': [1, 2, 3, 5, 6, 7],\n",
       " 't7ok0': [1, 2, 3, 4, 5, 6, 7],\n",
       " 'w6cv7': [1, 2, 3, 5, 6, 7],\n",
       " 'drlcg': [1, 2, 3, 5, 6, 8],\n",
       " 'tmj6v': [1, 2, 3, 5, 6, 8],\n",
       " 'fragn': [1, 2, 3, 5, 6, 8],\n",
       " 'iu75d': [0, 8],\n",
       " 'r26ek': [0, 1, 2, 3, 5, 8],\n",
       " 'ovzd8': [1, 2, 3, 5, 6, 7, 8],\n",
       " '01s0p': [0, 1, 2, 3, 5, 6, 8],\n",
       " 'rdhm6': [1, 2, 3, 4, 5, 6, 7],\n",
       " 'lg9rx': [2, 4, 5, 6, 8],\n",
       " '6dfrq': [2, 3, 5, 6, 8],\n",
       " 'znyn5': [0, 1, 2, 3, 5, 6, 8],\n",
       " '4ov5m': [1, 2, 3, 5, 6, 8],\n",
       " 'rph7o': [1, 2, 3, 5, 6, 7, 8],\n",
       " 'dkmzq': [1, 2, 3, 5, 6, 8],\n",
       " '34i42': [1, 2, 4, 5, 6, 7],\n",
       " 'qfis8': [1, 2, 3, 5, 6, 7],\n",
       " 'vlrhj': [2, 3, 5, 6, 8],\n",
       " 'dmeal': [1, 2, 3, 5, 6, 8],\n",
       " 'g0a0e': [1, 2, 3, 5, 6],\n",
       " 'matci': [1, 2, 3, 6, 8],\n",
       " '6dty9': [1, 2, 3, 5, 6, 8],\n",
       " 'rqtzp': [1, 2, 3, 5, 6, 7, 8],\n",
       " 'fw57k': [1, 2, 3, 4, 5, 6, 7, 8],\n",
       " 'qb6jk': [1, 2, 3, 4, 5, 6, 7],\n",
       " '0hv5j': [0, 2, 3, 5, 8],\n",
       " '7myag': [1, 2, 3, 5, 6, 8],\n",
       " 'c0rij': [0, 5, 6, 8],\n",
       " 'y76f5': [1, 2, 3, 5, 6],\n",
       " 'bhiz4': [3, 5, 6, 8],\n",
       " '6lich': [2, 3, 5, 6, 7, 8],\n",
       " 'h8nm1': [6, 8],\n",
       " 'n36hy': [1, 2, 5, 6, 8],\n",
       " '8te1j': [1, 2, 3, 5, 6],\n",
       " 'b5pys': [1, 2, 3, 5, 6, 8],\n",
       " 'axgl7': [1, 2, 3, 4, 5, 6, 7, 8],\n",
       " 'lwux5': [1, 2, 5, 6, 8],\n",
       " 'm841a': [1, 2, 3, 4, 5, 6, 7],\n",
       " '3e7aa': [0, 6, 8],\n",
       " 'jg00g': [1, 2, 3, 5, 6, 7, 8],\n",
       " 'c242q': [1, 2, 3, 5, 6, 8],\n",
       " 'qemjv': [1, 2, 3, 5, 6, 8],\n",
       " 'ni7ah': [1, 2, 5, 6, 7],\n",
       " 'gh3gy': [1, 2, 3, 5, 6],\n",
       " 'xqsal': [1, 2, 3, 5, 6, 7],\n",
       " 'bgvtw': [1, 2, 3, 4, 5, 6, 7],\n",
       " 'e87lb': [0, 3, 5, 6, 8],\n",
       " 'b3m5u': [1, 2, 3, 5, 6],\n",
       " 'kwxar': [3, 6, 8],\n",
       " 'eok7m': [1, 2, 3, 5, 6, 7, 8],\n",
       " '3eoj5': [0, 3, 8],\n",
       " 'pf586': [1, 2, 3, 5, 6, 7, 8],\n",
       " 'owep3': [1, 2, 3, 4, 5, 6, 7],\n",
       " '3jj09': [1, 2, 3, 4, 5, 6, 7, 8],\n",
       " '4udt2': [1, 2, 3, 5, 6, 7, 8],\n",
       " 'sk2ce': [0, 1, 2, 5, 6, 8],\n",
       " 'pi3sf': [1, 2, 3, 5, 6, 8],\n",
       " 'ljg7l': [1, 2, 4, 5, 6, 7, 8],\n",
       " '3nogw': [1, 2, 3, 5, 6, 8],\n",
       " 'ooeq3': [0, 1, 2, 3, 5, 6, 8],\n",
       " '7bpr3': [1, 2, 3, 5, 6, 7],\n",
       " 'ot6g1': [1, 2, 3, 5, 6, 7, 8],\n",
       " 'x0kic': [1, 2, 3, 4, 5, 6, 7],\n",
       " '6syrf': [1, 2, 4, 5, 6, 7],\n",
       " 'qxxnc': [1, 2, 3, 5, 6, 7],\n",
       " 'dahdp': [1, 2, 3, 5, 6],\n",
       " 'j0b3u': [1, 2, 3, 5, 6, 8],\n",
       " 'pp1eq': [0, 8],\n",
       " 'dz934': [1, 2, 3, 5, 6, 7, 8],\n",
       " 'aj9eu': [0, 3, 8],\n",
       " 'foljn': [1, 3, 5, 6, 8],\n",
       " '5mtgx': [1, 2, 3, 4, 5, 6, 7],\n",
       " 'awhvd': [0, 3, 5, 6, 8],\n",
       " '8jq2k': [1, 2, 3, 5, 6, 7, 8],\n",
       " '05rwc': [1, 2, 3, 5, 6, 7],\n",
       " '3lnc9': [1, 2, 3, 5, 6, 8],\n",
       " 'ykij8': [1, 2, 4, 5, 6, 7, 8],\n",
       " 'y8sa7': [0, 1, 2, 3, 5, 6, 8],\n",
       " 'dv29s': [1, 2, 3, 4, 5, 6, 7],\n",
       " 'c7jw4': [1, 2, 3, 5, 6, 7],\n",
       " '4a2th': [1, 2, 3, 5, 6, 7, 8],\n",
       " 'a6158': [1, 2, 5, 6, 8],\n",
       " 'y45c2': [0, 2, 3, 5, 6, 8],\n",
       " 'cphr3': [1, 2, 3, 5, 6],\n",
       " '2l2fz': [1, 2, 3, 5, 6, 7],\n",
       " '3clst': [3, 8],\n",
       " '118ux': [1, 2, 4, 5, 6, 7],\n",
       " 'u4xla': [2, 3, 5, 6],\n",
       " 'ae1oc': [1, 2, 3, 5, 6, 7],\n",
       " '4gq0l': [1, 2, 5, 6, 7, 8],\n",
       " 'vjgg0': [1, 2, 3, 5, 6],\n",
       " '0n1ay': [1, 2, 3, 4, 5, 6, 7],\n",
       " 'j5k84': [1, 2, 3, 5, 6, 7],\n",
       " 'ys32m': [1, 2, 3, 5, 6, 8],\n",
       " 'lligq': [1, 2, 3, 4, 5, 6, 7],\n",
       " 'nzbjz': [1, 2, 3, 5, 6, 8],\n",
       " '5y7ev': [0, 1, 5, 6, 8],\n",
       " 'hijlc': [1, 2, 3, 4, 5, 6, 7, 8],\n",
       " 'q45a0': [1, 2, 3, 5, 6, 8],\n",
       " 'yx24c': [0, 8],\n",
       " 'i74vu': [2, 6, 8],\n",
       " '29wh3': [2, 3, 5, 6, 8],\n",
       " 'whovj': [2, 5, 6, 7, 8],\n",
       " 'l65rs': [1, 2, 3, 5, 6, 8],\n",
       " 'ibext': [1, 2, 4, 5, 6, 8],\n",
       " 'zx17c': [1, 2, 3, 4, 5, 6, 7],\n",
       " 'oj69x': [1, 2, 5, 6, 7, 8],\n",
       " 'f517f': [1, 2, 3, 5, 6, 8],\n",
       " 'g2h23': [1, 2, 3, 4, 5, 6, 7, 8],\n",
       " '1n9ss': [6, 8],\n",
       " 'wmjec': [1, 2, 3, 4, 5, 6, 7],\n",
       " '7rwom': [1, 2, 3, 5, 6, 7, 8],\n",
       " 'gg8zq': [1, 2, 3, 5, 6, 8],\n",
       " '4kbi0': [1, 2, 3, 5, 6],\n",
       " 'riduw': [1, 2, 3, 5, 6],\n",
       " '0eqm9': [1, 2, 3, 4, 5, 6, 7],\n",
       " '8r1nw': [1, 2, 3, 4, 5, 6, 7],\n",
       " 'nbpt5': [1, 2, 3, 5, 6],\n",
       " '6ewjw': [1, 2, 3, 4, 5, 6, 7],\n",
       " '45mki': [2, 6, 8],\n",
       " 'p5ku2': [1, 2, 3, 4, 5, 6, 8],\n",
       " 'wwqm2': [0, 3, 8],\n",
       " 'm234u': [1, 2, 3, 5, 6, 7],\n",
       " 'd2cqh': [1, 2, 3, 5, 6, 8],\n",
       " '688xo': [1, 2, 3, 5, 6, 7, 8],\n",
       " 'nxki9': [1, 2, 3, 4, 5, 6, 7, 8],\n",
       " 'k5keb': [1, 2, 3, 5, 6],\n",
       " 't5w2l': [0, 3, 8],\n",
       " 'i7pkn': [0, 3, 6, 8],\n",
       " 'la9om': [1, 2, 3, 5, 6, 8],\n",
       " 'o1dla': [1, 2, 3, 5, 6, 8],\n",
       " '6z3ky': [0, 1, 3, 8],\n",
       " 'j145a': [1, 2, 3, 5, 6],\n",
       " '9novp': [1, 2, 3, 4, 5, 6, 7],\n",
       " 'yvl1z': [1, 2, 4, 5, 6, 7],\n",
       " '8mnv9': [0, 1, 2, 4, 5, 6, 7],\n",
       " 'zminj': [0, 1, 2, 3, 5, 6, 8],\n",
       " 'mahdr': [1, 2, 3, 5, 6, 8],\n",
       " '3yp11': [1, 2, 3, 4, 5, 6, 8],\n",
       " 'i38g2': [1, 2, 5, 6, 7, 8],\n",
       " 'gdyli': [1, 2, 5, 6, 8],\n",
       " 'jen2y': [1, 2, 3, 5, 6, 7],\n",
       " '43ndv': [1, 2, 3, 5, 6, 8],\n",
       " 'tf8b0': [1, 2, 3, 5, 6, 7],\n",
       " 'wum31': [1, 2, 3, 5, 6, 8],\n",
       " 'c1aqa': [2, 3, 5, 6, 8],\n",
       " 'saeci': [1, 2, 3, 5, 6, 8],\n",
       " '30mrn': [1, 2, 5, 6, 7, 8],\n",
       " '9svr8': [1, 2, 3, 5, 6, 8],\n",
       " 'd4o3p': [1, 2, 3, 4, 5, 6],\n",
       " 'xzc7u': [1, 2, 3, 4, 5, 6, 7],\n",
       " '5b5tb': [1, 2, 3, 5, 6, 8],\n",
       " 'lj3kq': [1, 2, 3, 5, 6, 7, 8],\n",
       " 'ena8f': [1, 2, 3, 4, 5, 6, 7, 8],\n",
       " '6pce4': [0, 3, 8],\n",
       " 'swaad': [1, 2, 3, 5, 6],\n",
       " '4q512': [0, 1, 2, 3, 7, 8],\n",
       " 'n7ef6': [1, 2, 3, 5, 6, 7, 8],\n",
       " 'mo4vw': [1, 2, 3, 8],\n",
       " 'u8o7f': [1, 2, 3, 5, 6, 7, 8],\n",
       " '69bex': [1, 2, 3, 5, 6, 8],\n",
       " 'ph06u': [1, 2, 3, 5, 6, 8],\n",
       " '8lkj3': [0, 1, 2, 5, 6, 8],\n",
       " 'heas2': [1, 2, 3, 7],\n",
       " '0beyy': [1, 2, 3, 4, 5, 6, 7, 8],\n",
       " 'dq3z7': [1, 2, 3, 5, 6, 7, 8],\n",
       " '50ywf': [2, 3, 5, 6, 8],\n",
       " 'dkgez': [1, 2, 3, 5, 6],\n",
       " '4nalr': [2, 3, 5, 6, 8],\n",
       " '0nq6o': [1, 2, 3, 5, 6, 8],\n",
       " '4hg1u': [1, 2, 3, 4, 5, 6],\n",
       " '4hznd': [3, 6, 8],\n",
       " 'xuqto': [1, 2, 3, 5, 6, 7],\n",
       " 'xbkp1': [1, 2, 3, 5, 6, 7, 8],\n",
       " '9zdj7': [1, 2, 3, 5, 6, 8],\n",
       " '48t5s': [1, 2, 3, 5, 6, 8],\n",
       " '8wuhw': [2, 3, 5, 6],\n",
       " '1tq1t': [1, 2, 3, 5, 6, 8],\n",
       " '66xpz': [1, 2, 5, 6, 8],\n",
       " 'wmx5v': [1, 2, 3, 4, 5, 6, 7],\n",
       " '2iqvb': [1, 2, 3, 4, 5, 6, 7],\n",
       " 'v59xr': [1, 2, 3, 5, 6, 8],\n",
       " '1lbe9': [1, 2, 3, 5, 6, 8],\n",
       " 'rsn45': [2, 3, 5, 6, 8],\n",
       " '9nvye': [1, 2, 4, 5, 6, 7],\n",
       " 'inyw3': [1, 2, 3, 5, 6, 8],\n",
       " '44uar': [1, 2, 3, 5, 6, 8],\n",
       " 'y9bgs': [0, 3, 8],\n",
       " 'zg8io': [1, 2, 3, 4, 5, 6],\n",
       " 'b8rq9': [1, 2, 3, 5, 6, 7],\n",
       " '89xzy': [0, 1, 2, 3, 4, 5, 7],\n",
       " 'cz2g9': [1, 2, 3, 5, 6, 7, 8],\n",
       " '6sduz': [1, 2, 6, 7, 8],\n",
       " 'vtpyx': [1, 2, 3, 5, 6, 8],\n",
       " '0v6gl': [1, 2, 3, 4, 5, 6, 7, 8],\n",
       " 'texnt': [1, 2, 3, 4, 5, 6, 7],\n",
       " 'aiwlv': [0, 1, 2, 3, 4, 5, 7],\n",
       " 'czvu4': [1, 2, 3, 5, 6, 8],\n",
       " 'tiwra': [1, 2, 3, 4, 5, 6, 7],\n",
       " 'qsc9j': [1, 2, 3, 4, 5, 6, 7],\n",
       " 't6ftq': [1, 2, 3, 5, 6, 7],\n",
       " '9z4n1': [1, 2, 3, 5, 6, 8],\n",
       " '57z69': [1, 2, 3, 5, 6, 7, 8],\n",
       " '04wn2': [2, 3, 5, 6, 8],\n",
       " '1f99i': [1, 2, 3, 5, 6, 7],\n",
       " 'whswt': [1, 2, 3, 4, 5, 6, 7],\n",
       " 'anfic': [1, 2, 3, 6, 8],\n",
       " '0axc7': [1, 2, 4, 5, 6, 7],\n",
       " 'wmn1d': [0, 1, 2, 3, 5, 6, 8],\n",
       " 'y4mvm': [1, 2, 3, 5, 6, 7, 8],\n",
       " 'l3wea': [1, 2, 3, 4, 5, 6, 7, 8],\n",
       " 'sjlix': [1, 2, 3, 5, 6, 7, 8],\n",
       " 'rnyhv': [1, 2, 3, 5, 6],\n",
       " '75yva': [1, 2, 3, 5, 6, 7],\n",
       " 'yxzgo': [1, 2, 3, 5, 6, 7],\n",
       " 'pqwff': [0, 1, 2, 3, 5, 6, 8],\n",
       " 'y0xq5': [1, 2, 3, 5, 6, 7, 8],\n",
       " 'e8fub': [1, 2, 5, 6],\n",
       " 'lfpow': [1, 2, 5, 6, 7],\n",
       " '7f24o': [1, 2, 3, 5, 6],\n",
       " 'z0g2s': [1, 2, 3, 5, 6, 7],\n",
       " 'b18n2': [1, 2, 3, 4, 5, 6, 7],\n",
       " 'hudvx': [0, 3, 5, 8],\n",
       " '9d8jy': [1, 2, 3, 5, 6, 8],\n",
       " 'daz05': [1, 2, 3, 5, 6, 8],\n",
       " 'yj0ak': [1, 2, 3, 4, 5, 6, 7, 8],\n",
       " 'lm720': [1, 2, 5, 6, 7, 8],\n",
       " '1to59': [1, 2, 3, 4, 5, 6, 7],\n",
       " 'z11f5': [0, 3, 8],\n",
       " 'bnq69': [1, 2, 3, 5, 6, 8],\n",
       " 'modil': [1, 3, 4, 5, 6, 7],\n",
       " 'mn3jp': [3, 8],\n",
       " 'i6fs3': [1, 2, 3, 4, 5, 6, 7],\n",
       " 'lw0bg': [1, 2, 3, 4, 5, 6, 8],\n",
       " 'hy64o': [1, 2, 3, 5, 6, 7, 8],\n",
       " '7n3zq': [1, 2, 3, 5, 6, 8],\n",
       " '723jl': [0, 1, 2, 5, 6, 7, 8],\n",
       " 'bhid0': [1, 2, 3, 5, 6, 7],\n",
       " '3dng5': [0, 3, 5, 8],\n",
       " 'm4dhm': [1, 2, 3, 5, 6],\n",
       " 'qf4kk': [1, 2, 3, 4, 5, 6, 7],\n",
       " 'm3x3o': [1, 2, 3, 4, 5, 6, 7],\n",
       " 'iyfgh': [3, 8],\n",
       " '79lsn': [1, 2, 3, 4, 5, 6, 7],\n",
       " 'stvpl': [1, 2, 3, 5, 6, 8],\n",
       " '8z5r5': [1, 2, 3, 5, 6, 7],\n",
       " 'tm3le': [1, 2, 3, 5, 6, 8],\n",
       " 'ocjt4': [0, 1, 5, 6, 8],\n",
       " 'rco2l': [1, 2, 3, 5, 6, 8],\n",
       " '7fxft': [0, 1, 2, 3, 5, 6, 8],\n",
       " 'sotdn': [1, 2, 3, 5, 6],\n",
       " '8azm0': [1, 2, 3, 5, 6, 7, 8],\n",
       " 'yfppz': [1, 2, 3, 5, 6, 7],\n",
       " 'gy3f7': [1, 2, 3, 5, 6, 8],\n",
       " 'vaodc': [1, 2, 3, 5, 6, 8],\n",
       " 'mkmli': [1, 2, 5, 6],\n",
       " 'why8d': [1, 2, 3, 5, 6, 7, 8],\n",
       " '27002': [1, 2, 3, 5, 6, 8],\n",
       " 'mq0t0': [1, 2, 3, 5, 6, 7, 8],\n",
       " '3gke3': [1, 2, 4, 5, 6, 7],\n",
       " '70f7x': [1, 2, 3, 4, 5, 6, 8],\n",
       " 'cuof8': [1, 2, 5, 6, 8],\n",
       " '874fh': [1, 2, 3, 5, 6, 8],\n",
       " '8n4w1': [1, 2, 3, 4, 5, 6],\n",
       " 'cwc93': [2, 3, 6, 8],\n",
       " '07nri': [0, 1, 2, 3, 5, 6, 8],\n",
       " '77agd': [1, 3, 5],\n",
       " 'jr2w8': [1, 2, 3, 4, 5, 6, 7],\n",
       " '9358x': [1, 2, 3, 5, 6, 7],\n",
       " 'pirup': [1, 2, 3, 5, 6, 8],\n",
       " 'a9xlr': [1, 2, 3, 5, 6, 7],\n",
       " 'hz7fy': [1, 2, 3, 5, 6, 8],\n",
       " '1b0u4': [1, 2, 3, 4, 5, 6, 7],\n",
       " 'sfswb': [1, 2, 3, 4, 5, 6, 7],\n",
       " 'u45w8': [2, 3, 5, 6, 7, 8],\n",
       " 'n7yjz': [1, 2, 3, 5, 6, 7, 8],\n",
       " 'f4bil': [0, 3, 8],\n",
       " 'mjtet': [1, 2, 3, 5, 6],\n",
       " '4hoyc': [0, 2, 3, 5, 6, 8],\n",
       " 'mfr85': [1, 2, 3, 4, 5, 6, 7],\n",
       " '7gqir': [1, 2, 3, 4, 5, 6, 7],\n",
       " 'wwmme': [1, 2, 3, 4, 5, 6, 7],\n",
       " 'w4n1b': [2, 3, 5, 6, 8],\n",
       " '750ds': [1, 2, 3, 5, 6, 8],\n",
       " 'saop5': [2, 3, 4, 5, 6, 7, 8],\n",
       " 'tzmix': [1, 2, 3, 5, 6, 7, 8],\n",
       " '7ats1': [0, 2, 3, 5, 8],\n",
       " 'o7d57': [0, 1, 2, 3, 5, 6, 8],\n",
       " '60ky8': [3, 5, 8],\n",
       " 'fy17i': [1, 2, 3, 5, 6, 7, 8],\n",
       " '0m7ri': [1, 2, 3, 5, 6],\n",
       " 'gb1kb': [1, 2, 3, 5, 6, 7],\n",
       " 'jsh7j': [1, 2, 5, 6, 8],\n",
       " 't9r2f': [1, 2, 3, 5, 6, 7, 8],\n",
       " 'kxghm': [0, 1, 6, 8],\n",
       " '62rzb': [0, 1, 2, 3, 5, 6, 7],\n",
       " 'dsy9m': [0, 3, 8],\n",
       " 'thnsp': [1, 2, 3, 4, 5, 6, 7],\n",
       " 'myy4o': [1, 2, 4, 5, 6, 7, 8],\n",
       " 'h8l1y': [1, 2, 3, 5, 6],\n",
       " 'bk70b': [1, 2, 3, 5, 6, 8],\n",
       " '0ib7h': [1, 2, 3, 4, 5, 6, 7],\n",
       " '5ixab': [1, 2, 3, 5, 6, 8],\n",
       " 'f2zdp': [1, 2, 3, 5, 6],\n",
       " 'g11s4': [6, 8],\n",
       " 'wlxkr': [1, 2, 3, 5, 6, 8],\n",
       " 'yyz24': [2, 3, 6, 8],\n",
       " 'kw3py': [0, 1, 2, 3, 5, 6, 7],\n",
       " 'npbyd': [1, 2, 3, 4, 5, 6, 7],\n",
       " 'w2rg4': [1, 2, 3, 5, 6, 7, 8],\n",
       " 'zsx9a': [1, 2, 3, 5, 6, 8],\n",
       " 'q48d0': [1, 2, 3, 5, 6],\n",
       " '23dbq': [2, 3, 5, 6, 8],\n",
       " 'm7ll2': [0, 1, 2, 3, 5, 6, 8],\n",
       " '79gzl': [1, 2, 3, 5, 6, 7, 8],\n",
       " 'rs1xg': [1, 2, 3, 4, 5, 6, 7],\n",
       " '8j0rc': [1, 2, 4, 5, 6, 7],\n",
       " 'kxm7c': [1, 2, 3, 5, 6, 8],\n",
       " 'bgsqq': [1, 2, 3, 5, 6],\n",
       " 'hyhdg': [1, 2, 3, 5, 6, 7, 8],\n",
       " 'xo689': [1, 2, 3, 5, 6, 8],\n",
       " 'd2wxj': [1, 2, 3, 4, 5, 6],\n",
       " '6jvtf': [1, 2, 3, 4, 5, 6, 7],\n",
       " 'mwykh': [1, 2, 3, 5, 6, 7],\n",
       " 'mj5o0': [1, 2, 3, 5, 6, 7],\n",
       " 'woslg': [1, 2, 3, 5, 6, 8],\n",
       " '8j0cb': [3, 8],\n",
       " 'pyjhx': [1, 2, 3, 5, 6, 8],\n",
       " 'u7x3q': [0, 1, 2, 5, 6, 8],\n",
       " 'lidre': [6, 8],\n",
       " '7qr5j': [1, 2, 3, 5, 6, 8],\n",
       " 'z8pik': [1, 2, 5, 6, 7],\n",
       " 'ozagq': [1, 2, 3, 5, 6, 8],\n",
       " '9mu01': [1, 2, 3, 4, 5, 6, 7],\n",
       " 'hqe2a': [1, 2, 3, 5, 6, 7],\n",
       " '96xnn': [1, 2, 3, 5, 6, 7],\n",
       " 'uuab2': [1, 2, 3, 5, 6, 8],\n",
       " '7bavu': [1, 2, 3, 5, 6, 8],\n",
       " 'kfh6v': [1, 2, 3, 5, 6, 7],\n",
       " '8438w': [1, 2, 3, 4, 5, 6, 7],\n",
       " 'iut3h': [2, 3, 5, 6],\n",
       " 'ikjv0': [0, 2, 3, 5, 6, 8],\n",
       " 'bp50e': [1, 2, 5, 6, 8],\n",
       " 'hms2b': [1, 2, 3, 5, 6, 8],\n",
       " '350m1': [1, 2, 3, 4, 5, 6, 7],\n",
       " 'vdi9t': [1, 2, 3, 4, 5, 6, 7],\n",
       " 'zf0zo': [1, 2, 3, 4, 5, 6, 7],\n",
       " 'mq3if': [2, 3, 5, 6, 7, 8],\n",
       " '8wjeu': [0, 3, 8],\n",
       " '649kt': [1, 2, 3, 5, 6, 8],\n",
       " '6zfh7': [1, 2, 3, 4, 5, 6, 7],\n",
       " '6yg21': [1, 2, 3, 5, 6, 7],\n",
       " '0maca': [1, 2, 3, 5, 6],\n",
       " '9n1cb': [1, 2, 3, 4, 5, 6, 7],\n",
       " 'pqdoa': [1, 2, 3, 4, 5, 6, 7],\n",
       " 'dyf6p': [1, 2, 3, 5, 6, 8],\n",
       " '3l16a': [3, 5, 8],\n",
       " 'itpyh': [1, 2, 3, 4, 5, 6, 7, 8],\n",
       " 'rfcos': [0, 3, 8],\n",
       " 'j0rok': [1, 2, 3, 5, 6, 8],\n",
       " 'c383h': [1, 2, 3, 4, 5, 6, 7],\n",
       " '1pdge': [0, 1, 2, 3, 5, 6, 7, 8],\n",
       " 'fwr4n': [1, 2, 3, 5, 6, 8],\n",
       " 'q1yqb': [8],\n",
       " 'jikdj': [1, 2, 3, 5, 6, 8],\n",
       " 'wk8nk': [1, 2, 3, 4, 5, 6, 7],\n",
       " 'ialgn': [1, 2, 3, 5, 6, 8],\n",
       " 'swnvb': [1, 2, 3, 5, 6, 7],\n",
       " 'k0knx': [1, 2, 3, 5, 6, 8],\n",
       " 'ye98v': [1, 2, 3, 5, 6, 7],\n",
       " '7jp8y': [1, 2, 3, 5, 6, 7],\n",
       " 'kuyu9': [0, 1, 2, 3, 4, 5, 6, 7],\n",
       " 'ilfwj': [3, 5, 6, 8],\n",
       " 'nywzc': [0, 1, 2, 3, 5, 6, 8],\n",
       " 'voba7': [0, 3, 8],\n",
       " 'jyvqv': [1, 2, 3, 5, 6, 7],\n",
       " 'if6zr': [1, 2, 3, 5, 6, 8],\n",
       " 'lox99': [1, 2, 5, 6, 7, 8],\n",
       " '5repx': [0, 1, 2, 4, 5, 6, 7, 8],\n",
       " 'z7hxq': [1, 2, 3, 5, 6, 8],\n",
       " 'mdmlm': [1, 2, 3, 4, 5, 6, 7, 8],\n",
       " 'qd35j': [1, 2, 3, 4, 5, 6, 8],\n",
       " 'r4t9g': [1, 2, 3, 5, 6, 7],\n",
       " '59bk7': [1, 2, 3, 5, 6, 7, 8],\n",
       " 'sc92v': [8],\n",
       " 'bjhkq': [1, 2, 3, 4, 5, 6, 7],\n",
       " 'go91c': [2, 3, 5, 6, 8],\n",
       " '3e3ov': [1, 2, 3, 5, 6, 8],\n",
       " 'mg5p6': [1, 2, 3, 4, 5, 6, 7],\n",
       " 'plxbw': [1, 2, 3, 4, 5, 6, 7],\n",
       " 'fq2v2': [1, 2, 3, 4, 5, 6, 7],\n",
       " '2j9qa': [1, 2, 3, 5, 6],\n",
       " 'tpmr6': [1, 2, 3, 5, 6, 8],\n",
       " '4zhac': [1, 2, 3, 5, 6, 7],\n",
       " 'nvszg': [1, 2, 3, 5, 6, 8],\n",
       " 'ctno8': [1, 2, 3, 4, 5, 6, 7],\n",
       " 'nbgnn': [1, 2, 3, 5, 6, 8],\n",
       " 'crjol': [1, 2, 3, 5, 6, 8],\n",
       " '1lyyo': [1, 2, 3, 5, 6, 8],\n",
       " '0x9my': [1, 2, 3, 5, 6, 7],\n",
       " 'weti3': [1, 2, 3, 5, 6, 8],\n",
       " 'g7kyk': [1, 2, 3, 5, 6, 7],\n",
       " 'ctno3': [1, 2, 3, 5, 6, 7, 8],\n",
       " 'w0p5r': [1, 2, 3, 5, 6],\n",
       " 'x2a92': [1, 2, 3, 5, 6, 7],\n",
       " 'dbjxf': [1, 2, 3, 4, 5, 6, 7],\n",
       " '0h8d5': [1, 2, 4, 6, 7, 8],\n",
       " '0h8d4': [1, 2, 3, 4, 5, 6],\n",
       " 'w8pfl': [1, 2, 3, 5, 6, 7, 8],\n",
       " 'weawj': [1, 2, 3, 4, 5, 6, 7],\n",
       " '693is': [1, 2, 5, 6, 8],\n",
       " 'oxcaf': [1, 2, 3, 5, 6, 7, 8],\n",
       " 'u9uje': [1, 2, 3, 5, 6, 8],\n",
       " 'laal7': [1, 2, 3, 4, 5, 6, 7, 8],\n",
       " 't4qx0': [0, 6, 8],\n",
       " 'pzf98': [1, 2, 3, 4, 5, 7],\n",
       " 'drafo': [2, 3, 5, 6, 8],\n",
       " 'b1qqp': [3, 8],\n",
       " 'd5jut': [1, 2, 5, 6, 8],\n",
       " 'qx4nc': [1, 2, 5, 6, 8],\n",
       " 'hm3fz': [1, 2, 3, 5, 6, 7],\n",
       " '026nc': [1, 2, 3, 5, 6, 7],\n",
       " 'twywe': [1, 2, 3, 4, 5, 6, 7],\n",
       " 'wl1z6': [1, 2, 3, 5, 6, 7],\n",
       " '4apr2': [4, 5, 6, 8],\n",
       " 'k70d0': [1, 2, 3, 4, 5, 6, 7],\n",
       " 'cks78': [1, 2, 3, 5, 6, 7, 8],\n",
       " 'wdjua': [1, 2, 5, 6],\n",
       " 'nmtih': [1, 2, 3, 5, 6, 8],\n",
       " 'npip2': [3, 8],\n",
       " 'ff8eg': [1, 2, 3, 5, 6, 7, 8],\n",
       " '36btp': [2, 3, 5, 6, 8],\n",
       " '30sn8': [1, 2, 3, 4, 5, 6, 7],\n",
       " 'h7bzo': [1, 2, 3, 5, 6, 7, 8],\n",
       " 'ij60k': [1, 2, 3, 5, 6],\n",
       " '9iems': [0, 3, 5, 8],\n",
       " '4nwyt': [1, 2, 3, 4, 5, 6, 7, 8],\n",
       " 'indyg': [1, 2, 3, 5, 6, 7, 8],\n",
       " 'nvphe': [3, 8],\n",
       " '4hkpt': [1, 2, 3, 5, 6, 7],\n",
       " 'vc29h': [1, 2, 3, 5, 6, 7, 8],\n",
       " 'f5690': [1, 2, 3, 4, 5, 6, 7],\n",
       " 's09vu': [1, 2, 5, 6],\n",
       " 'cpxub': [0, 3, 8],\n",
       " 'dq2ym': [0, 3, 8],\n",
       " '9o6qt': [1, 2, 3, 5, 6],\n",
       " 'jv0pr': [1, 2, 3, 5, 6, 8],\n",
       " '9ue7h': [1, 2, 3, 5, 6, 7],\n",
       " 'vmdvv': [1, 3, 5, 6, 8],\n",
       " 'jxope': [1, 2, 3, 5, 6, 8],\n",
       " 'r1e7i': [1, 2, 3, 5, 6, 7, 8],\n",
       " '9xhs9': [1, 2, 3, 5, 6, 7],\n",
       " '7lyxb': [1, 2, 3, 4, 5, 6, 7],\n",
       " '6jsrb': [1, 2, 3, 5, 6],\n",
       " '9s8uo': [1, 2, 3, 5, 6, 8],\n",
       " 'sdiep': [1, 2, 3, 5, 6, 8],\n",
       " 'c9uub': [1, 2, 3, 5, 6, 8],\n",
       " '7rt2m': [1, 2, 3, 5, 6, 8],\n",
       " 'w6hgt': [1, 2, 5, 6, 7, 8],\n",
       " 'bkgin': [1, 2, 3, 5, 6, 8],\n",
       " '2pnu5': [2, 3, 5, 6, 8],\n",
       " '0mreo': [1, 2, 5, 6, 7, 8],\n",
       " 'v3ilv': [1, 2, 3, 6, 8],\n",
       " 'r70q9': [1, 2, 3, 4, 5, 6, 7],\n",
       " 'oyjn0': [1, 2, 3, 4, 5, 6, 7],\n",
       " 'ne01j': [1, 2, 3, 5, 6],\n",
       " 'gs2hm': [1, 2, 3, 4, 5, 6, 7],\n",
       " '7f5n9': [1, 2, 3, 5, 6, 7],\n",
       " 'o0et8': [1, 2, 3, 4, 5, 6, 7],\n",
       " 'ttalp': [3, 5, 6, 8],\n",
       " '9qdsb': [1, 2, 3, 4, 5, 6, 7],\n",
       " '0oq6q': [1, 2, 3, 5, 6],\n",
       " '69010': [1, 2, 3, 5, 6, 8],\n",
       " 'jblze': [1, 2, 3, 5, 6, 8],\n",
       " '6ssbi': [1, 2, 3, 5, 6, 7, 8],\n",
       " 'lgb2w': [1, 2, 3, 5, 6, 7],\n",
       " 'kdi6e': [1, 2, 3, 4, 5, 6, 7],\n",
       " 'orgf3': [1, 2, 3, 4, 5, 6, 7],\n",
       " '11aib': [1, 2, 3, 4, 5, 6, 7],\n",
       " '698t0': [1, 2, 3, 4, 5, 6, 7],\n",
       " '42chg': [1, 2, 5, 6, 8],\n",
       " '6mida': [1, 2, 3, 4, 5, 6, 7],\n",
       " 'gawn7': [1, 2, 3, 5, 6, 8],\n",
       " 'hj5x4': [2, 3, 6, 8],\n",
       " '5ltvs': [1, 2, 3, 4, 5, 6, 7],\n",
       " '6khuf': [1, 2, 3, 5, 8],\n",
       " '3dgri': [1, 2, 3, 4, 5, 6, 7],\n",
       " 'cic9r': [1, 2, 5, 6, 7],\n",
       " 'qojn7': [1, 2, 3, 5, 6, 7],\n",
       " 'wm9fe': [1, 2, 5, 6],\n",
       " 'rljgv': [1, 2, 3, 5, 6, 7],\n",
       " 'jddiu': [2, 3, 5, 6, 8],\n",
       " 'yk34t': [1, 2, 3, 4, 5, 6, 8],\n",
       " 'qlonu': [0, 2, 3, 5, 6, 8],\n",
       " '3imha': [1, 2, 3, 5, 6, 8],\n",
       " 'mbpr2': [1, 2, 3, 5, 6, 7, 8],\n",
       " 'g1j4j': [1, 2, 3, 5, 6, 8],\n",
       " 'b5qd0': [1, 2, 3, 5, 6, 7],\n",
       " '8w266': [1, 2, 3, 5, 6, 7],\n",
       " '5qz8x': [1, 2, 3, 5, 6, 7, 8],\n",
       " '6vk9w': [1, 2, 3, 5, 6, 7, 8],\n",
       " '00er5': [1, 2, 3, 5, 6, 8],\n",
       " 'rbyck': [1, 2, 3, 5, 6, 7, 8],\n",
       " 'ggobq': [1, 2, 3, 6, 8],\n",
       " 'uij9v': [3, 5, 6, 8],\n",
       " '1ta3y': [1, 2, 3, 5, 6, 8],\n",
       " 'h5555': [1, 2, 3, 5, 6, 7, 8],\n",
       " 'wueke': [1, 2, 5, 6, 7, 8],\n",
       " 'm5n21': [1, 2, 4, 5, 6, 7, 8],\n",
       " 'je74r': [1, 2, 3, 4, 5, 6, 7],\n",
       " 'qocvw': [1, 2, 3, 5, 6, 7],\n",
       " 'yafre': [1, 2, 4, 5, 6, 7],\n",
       " 'bmrn0': [1, 2, 3, 5, 6, 8],\n",
       " 'ua7yn': [1, 2, 3, 5, 6, 8],\n",
       " '40b18': [1, 2, 3, 5, 6],\n",
       " 'n9j1z': [3, 8],\n",
       " 'qdg5a': [2, 3, 6, 8],\n",
       " 'xle7a': [1, 2, 3, 4, 5, 6, 7],\n",
       " 'd0duk': [3, 7],\n",
       " '64it1': [0, 3, 8],\n",
       " 'oahb1': [1, 2, 3, 5, 6, 7, 8],\n",
       " '5ffru': [3, 6, 8],\n",
       " 'rsfms': [1, 2, 3, 4, 5, 6, 7, 8],\n",
       " 'kz6hl': [0, 3, 8],\n",
       " '6vgxa': [3, 5, 6, 8],\n",
       " '0nq8g': [1, 2, 5, 6],\n",
       " 'wn5cs': [1, 2, 3, 5, 6, 7, 8],\n",
       " 'p838b': [1, 2, 3, 5, 6, 7],\n",
       " 'zg39i': [1, 2, 5, 6, 7, 8],\n",
       " 'apmkq': [1, 2, 3, 5, 6, 8],\n",
       " '9im2h': [1, 2, 3, 5, 6, 7, 8],\n",
       " 'h1z46': [1, 2, 3, 5, 6],\n",
       " 'l5oqr': [2, 3, 6, 8],\n",
       " '8l7ur': [1, 2, 3, 5, 6, 7],\n",
       " 'qs5l6': [1, 2, 3, 5, 6, 7, 8],\n",
       " 'uj80t': [1, 2, 3, 5, 6, 8],\n",
       " '5qjc3': [0, 3, 8],\n",
       " 'owp2y': [1, 2, 3, 5, 6, 8],\n",
       " ...}"
      ]
     },
     "execution_count": 81,
     "metadata": {},
     "output_type": "execute_result"
    }
   ],
   "source": [
    "test_bid_to_labels"
   ]
  },
  {
   "cell_type": "code",
   "execution_count": 84,
   "metadata": {
    "collapsed": true
   },
   "outputs": [],
   "source": [
    "with open('../data/submission_003.csv', 'w') as sfile:\n",
    "    sfile.write('business_id,labels\\n')\n",
    "    for bid, labels in test_bid_to_labels.items():\n",
    "        labels_str = [str(l) for l in labels]\n",
    "        line = '{bid},{labels}\\n'.format(bid=bid, labels=' '.join(labels_str))\n",
    "        sfile.write(line)"
   ]
  },
  {
   "cell_type": "code",
   "execution_count": 85,
   "metadata": {
    "collapsed": false
   },
   "outputs": [
    {
     "name": "stdout",
     "output_type": "stream",
     "text": [
      "business_id,labels\r\n",
      "af0iy,3 5 6 8\r\n",
      "s4n0d,1 2 3 4 5 6 7\r\n",
      "s1e3l,1 2 3 4 5 6 7 8\r\n",
      "yinms,1 2 3 5 6 7 8\r\n",
      "3i26e,1 2 3 5 6 8\r\n",
      "rl851,0 3 8\r\n",
      "0zrov,1 2 3 5 6 7\r\n",
      "ean2c,1 2 3 5 6 7\r\n",
      "toisr,1 2 3 5 6 7 8\r\n"
     ]
    }
   ],
   "source": [
    "!head ../data/submission_003.csv"
   ]
  },
  {
   "cell_type": "code",
   "execution_count": 86,
   "metadata": {
    "collapsed": false
   },
   "outputs": [
    {
     "name": "stdout",
     "output_type": "stream",
     "text": [
      "   10001 ../data/submission_003.csv\r\n"
     ]
    }
   ],
   "source": [
    "!wc -l ../data/submission_003.csv"
   ]
  },
  {
   "cell_type": "code",
   "execution_count": null,
   "metadata": {
    "collapsed": true
   },
   "outputs": [],
   "source": []
  }
 ],
 "metadata": {
  "kernelspec": {
   "display_name": "Python 2",
   "language": "python",
   "name": "python2"
  },
  "language_info": {
   "codemirror_mode": {
    "name": "ipython",
    "version": 2
   },
   "file_extension": ".py",
   "mimetype": "text/x-python",
   "name": "python",
   "nbconvert_exporter": "python",
   "pygments_lexer": "ipython2",
   "version": "2.7.10"
  }
 },
 "nbformat": 4,
 "nbformat_minor": 0
}
