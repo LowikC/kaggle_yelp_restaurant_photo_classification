{
 "cells": [
  {
   "cell_type": "code",
   "execution_count": 1,
   "metadata": {
    "collapsed": true
   },
   "outputs": [],
   "source": [
    "import pandas as pd\n",
    "import numpy as np\n",
    "import matplotlib.pyplot as plt\n",
    "import os\n",
    "%matplotlib inline"
   ]
  },
  {
   "cell_type": "code",
   "execution_count": 2,
   "metadata": {
    "collapsed": true
   },
   "outputs": [],
   "source": [
    "gnet_all = np.load('../data/models/features/googlenet/train_pool5_7x7_s1.npy')"
   ]
  },
  {
   "cell_type": "code",
   "execution_count": 3,
   "metadata": {
    "collapsed": false
   },
   "outputs": [
    {
     "name": "stdout",
     "output_type": "stream",
     "text": [
      "train_photos_256x256_noise/262212.jpg\r\n",
      "train_photos_256x256_noise/333665.jpg\r\n",
      "train_photos_256x256_noise/421372.jpg\r\n",
      "train_photos_256x256_noise/394322.jpg\r\n"
     ]
    }
   ],
   "source": [
    "!head -n 4 ../data/train.list"
   ]
  },
  {
   "cell_type": "code",
   "execution_count": 4,
   "metadata": {
    "collapsed": true
   },
   "outputs": [],
   "source": [
    "all_pids = []\n",
    "with open('../data/train.list', 'r') as lfile:\n",
    "    for line in lfile:\n",
    "        _, filename = os.path.split(line)\n",
    "        pid_str, _ = os.path.splitext(filename)\n",
    "        all_pids.append(int(pid_str))"
   ]
  },
  {
   "cell_type": "code",
   "execution_count": 5,
   "metadata": {
    "collapsed": false
   },
   "outputs": [
    {
     "data": {
      "text/plain": [
       "234842"
      ]
     },
     "execution_count": 5,
     "metadata": {},
     "output_type": "execute_result"
    }
   ],
   "source": [
    "len(all_pids)"
   ]
  },
  {
   "cell_type": "code",
   "execution_count": 6,
   "metadata": {
    "collapsed": false
   },
   "outputs": [
    {
     "name": "stdout",
     "output_type": "stream",
     "text": [
      "262147.jpg 0\r\n",
      "131078.jpg 0\r\n",
      "10.jpg 0\r\n",
      "393227.jpg 0\r\n"
     ]
    }
   ],
   "source": [
    "!head -n 4 ../data/val_caffe.txt"
   ]
  },
  {
   "cell_type": "code",
   "execution_count": 7,
   "metadata": {
    "collapsed": false
   },
   "outputs": [],
   "source": [
    "val_pids = []\n",
    "with open('../data/val_caffe.txt', 'r') as lfile:\n",
    "    for line in lfile:\n",
    "        pid_str, _ = os.path.splitext(line.split()[0])\n",
    "        val_pids.append(int(pid_str))"
   ]
  },
  {
   "cell_type": "code",
   "execution_count": 8,
   "metadata": {
    "collapsed": true
   },
   "outputs": [],
   "source": [
    "pid_to_index = {pid: i for i, pid in enumerate(all_pids)}"
   ]
  },
  {
   "cell_type": "code",
   "execution_count": 9,
   "metadata": {
    "collapsed": true
   },
   "outputs": [],
   "source": [
    "train_df = pd.read_csv('../data/raw/train.csv')"
   ]
  },
  {
   "cell_type": "code",
   "execution_count": 10,
   "metadata": {
    "collapsed": true
   },
   "outputs": [],
   "source": [
    "train_photo_to_biz = pd.read_csv('../data/raw/train_photo_to_biz_ids.csv')"
   ]
  },
  {
   "cell_type": "code",
   "execution_count": 11,
   "metadata": {
    "collapsed": true
   },
   "outputs": [],
   "source": [
    "train_photo_id_to_biz_id = dict(zip(train_photo_to_biz.photo_id, train_photo_to_biz.business_id))"
   ]
  },
  {
   "cell_type": "code",
   "execution_count": 12,
   "metadata": {
    "collapsed": false
   },
   "outputs": [],
   "source": [
    "val_bids = set()\n",
    "train_bids = set()\n",
    "sval_pids = set(val_pids) \n",
    "for pid, bid in train_photo_id_to_biz_id.items():\n",
    "    if pid in sval_pids:\n",
    "        val_bids.add(bid)\n",
    "    else:\n",
    "        train_bids.add(bid)"
   ]
  },
  {
   "cell_type": "code",
   "execution_count": 13,
   "metadata": {
    "collapsed": true
   },
   "outputs": [],
   "source": [
    "from collections import defaultdict"
   ]
  },
  {
   "cell_type": "code",
   "execution_count": 14,
   "metadata": {
    "collapsed": true
   },
   "outputs": [],
   "source": [
    "bid_to_pids = defaultdict(list)\n",
    "for pid, bid in train_photo_id_to_biz_id.items():\n",
    "    bid_to_pids[bid].append(pid)"
   ]
  },
  {
   "cell_type": "code",
   "execution_count": 15,
   "metadata": {
    "collapsed": false
   },
   "outputs": [
    {
     "data": {
      "text/plain": [
       "(234842, 1024)"
      ]
     },
     "execution_count": 15,
     "metadata": {},
     "output_type": "execute_result"
    }
   ],
   "source": [
    "gnet_all.shape"
   ]
  },
  {
   "cell_type": "code",
   "execution_count": 16,
   "metadata": {
    "collapsed": true
   },
   "outputs": [],
   "source": [
    "X_train = np.zeros((len(train_bids), 1024))"
   ]
  },
  {
   "cell_type": "code",
   "execution_count": 17,
   "metadata": {
    "collapsed": true
   },
   "outputs": [],
   "source": [
    "for i, bid in enumerate(train_bids):\n",
    "    for pid in bid_to_pids[bid]:\n",
    "        index = pid_to_index[pid]\n",
    "        X_train[i] += gnet_all[index]\n",
    "    X_train[i] /= len(bid_to_pids[bid])"
   ]
  },
  {
   "cell_type": "code",
   "execution_count": 18,
   "metadata": {
    "collapsed": false
   },
   "outputs": [],
   "source": [
    "X_val = np.zeros((len(val_bids), 1024))"
   ]
  },
  {
   "cell_type": "code",
   "execution_count": 19,
   "metadata": {
    "collapsed": true
   },
   "outputs": [],
   "source": [
    "for i, bid in enumerate(val_bids):\n",
    "    for pid in bid_to_pids[bid]:\n",
    "        index = pid_to_index[pid]\n",
    "        X_val[i] += gnet_all[index]\n",
    "    X_val[i] /= len(bid_to_pids[bid])"
   ]
  },
  {
   "cell_type": "code",
   "execution_count": 20,
   "metadata": {
    "collapsed": false
   },
   "outputs": [
    {
     "data": {
      "text/plain": [
       "array([[ 0.95267509,  2.03563903,  0.15004862, ...,  0.49960505,\n",
       "         0.28688758,  0.3049866 ],\n",
       "       [ 1.18332484,  1.24298283,  0.27974792, ...,  0.6903441 ,\n",
       "         0.22187185,  0.55064937],\n",
       "       [ 0.81671498,  0.67376542,  0.54582791, ...,  0.77234137,\n",
       "         0.15175865,  0.53816518],\n",
       "       ..., \n",
       "       [ 0.95106818,  1.26992639,  0.14772708, ...,  0.61699631,\n",
       "         0.38141354,  0.32525882],\n",
       "       [ 0.84371509,  2.06388409,  0.35485263, ...,  0.40849259,\n",
       "         0.80597208,  0.68059153],\n",
       "       [ 0.95197373,  1.4948377 ,  0.45678396, ...,  0.71561163,\n",
       "         0.41972236,  0.73768763]])"
      ]
     },
     "execution_count": 20,
     "metadata": {},
     "output_type": "execute_result"
    }
   ],
   "source": [
    "X_val"
   ]
  },
  {
   "cell_type": "code",
   "execution_count": 21,
   "metadata": {
    "collapsed": true
   },
   "outputs": [],
   "source": [
    "train_df_cleaned = train_df.dropna()"
   ]
  },
  {
   "cell_type": "code",
   "execution_count": 22,
   "metadata": {
    "collapsed": false
   },
   "outputs": [],
   "source": [
    "biz_id_to_labels_str = dict(zip(train_df_cleaned.business_id, train_df_cleaned['labels']))"
   ]
  },
  {
   "cell_type": "code",
   "execution_count": 23,
   "metadata": {
    "collapsed": true
   },
   "outputs": [],
   "source": [
    "biz_id_to_labels = dict()\n",
    "for biz_id, labels_str in biz_id_to_labels_str.items():\n",
    "    biz_id_to_labels[biz_id] = [int(l) for l in labels_str.split()]"
   ]
  },
  {
   "cell_type": "code",
   "execution_count": 24,
   "metadata": {
    "collapsed": true
   },
   "outputs": [],
   "source": [
    "def OHE(labels, size=9):\n",
    "    ohe = np.zeros((9,))\n",
    "    for l in labels:\n",
    "        ohe[l] = 1\n",
    "    return ohe"
   ]
  },
  {
   "cell_type": "code",
   "execution_count": 25,
   "metadata": {
    "collapsed": true
   },
   "outputs": [],
   "source": [
    "biz_id_to_ohe_labels = dict()\n",
    "for biz_id, labels in biz_id_to_labels.items():\n",
    "    biz_id_to_ohe_labels[biz_id] = OHE(labels)"
   ]
  },
  {
   "cell_type": "code",
   "execution_count": 26,
   "metadata": {
    "collapsed": false
   },
   "outputs": [],
   "source": [
    "y_train = np.zeros((len(train_bids), 9))\n",
    "for i, bid in enumerate(train_bids):\n",
    "    if bid in biz_id_to_ohe_labels:\n",
    "        y_train[i] = biz_id_to_ohe_labels[bid]"
   ]
  },
  {
   "cell_type": "code",
   "execution_count": 27,
   "metadata": {
    "collapsed": true
   },
   "outputs": [],
   "source": [
    "y_val = np.zeros((len(val_bids), 9))\n",
    "for i, bid in enumerate(val_bids):\n",
    "    if bid in biz_id_to_ohe_labels:\n",
    "        y_val[i] = biz_id_to_ohe_labels[bid]"
   ]
  },
  {
   "cell_type": "code",
   "execution_count": 28,
   "metadata": {
    "collapsed": true
   },
   "outputs": [],
   "source": [
    "from sklearn.ensemble import RandomForestClassifier"
   ]
  },
  {
   "cell_type": "code",
   "execution_count": 29,
   "metadata": {
    "collapsed": false
   },
   "outputs": [
    {
     "data": {
      "text/plain": [
       "(1400, 1024)"
      ]
     },
     "execution_count": 29,
     "metadata": {},
     "output_type": "execute_result"
    }
   ],
   "source": [
    "X_train.shape"
   ]
  },
  {
   "cell_type": "code",
   "execution_count": 30,
   "metadata": {
    "collapsed": true
   },
   "outputs": [],
   "source": [
    "from sklearn.preprocessing import StandardScaler"
   ]
  },
  {
   "cell_type": "code",
   "execution_count": 31,
   "metadata": {
    "collapsed": true
   },
   "outputs": [],
   "source": [
    "scaler = StandardScaler()"
   ]
  },
  {
   "cell_type": "code",
   "execution_count": 88,
   "metadata": {
    "collapsed": true
   },
   "outputs": [],
   "source": [
    "X = np.vstack([X_train, X_val])"
   ]
  },
  {
   "cell_type": "code",
   "execution_count": 89,
   "metadata": {
    "collapsed": true
   },
   "outputs": [],
   "source": [
    "y = np.vstack([y_train, y_val])"
   ]
  },
  {
   "cell_type": "code",
   "execution_count": 90,
   "metadata": {
    "collapsed": true
   },
   "outputs": [],
   "source": [
    "from sklearn.linear_model import LogisticRegression\n",
    "from sklearn.metrics import f1_score"
   ]
  },
  {
   "cell_type": "code",
   "execution_count": 97,
   "metadata": {
    "collapsed": true
   },
   "outputs": [],
   "source": [
    "from sklearn.cross_validation import KFold"
   ]
  },
  {
   "cell_type": "code",
   "execution_count": 102,
   "metadata": {
    "collapsed": false
   },
   "outputs": [
    {
     "name": "stdout",
     "output_type": "stream",
     "text": [
      "Attribute: 0, C: 1e-05, F1-score: 0.673099787951\n",
      "Attribute: 0, C: 2.06913808111e-05, F1-score: 0.6758773502\n",
      "Attribute: 0, C: 4.28133239872e-05, F1-score: 0.683126231365\n",
      "Attribute: 0, C: 8.8586679041e-05, F1-score: 0.687059518755\n",
      "Attribute: 0, C: 0.000183298071083, F1-score: 0.69605181616\n",
      "Attribute: 0, C: 0.000379269019073, F1-score: 0.705873775499\n",
      "Attribute: 0, C: 0.000784759970351, F1-score: 0.712129316965\n",
      "Attribute: 0, C: 0.00162377673919, F1-score: 0.718194003275\n",
      "Attribute: 0, C: 0.00335981828628, F1-score: 0.721994600861\n",
      "Attribute: 0, C: 0.00695192796178, F1-score: 0.700545505773\n",
      "Attribute: 0, C: 0.0143844988829, F1-score: 0.691337372933\n",
      "Attribute: 0, C: 0.0297635144163, F1-score: 0.666452270559\n",
      "Attribute: 0, C: 0.0615848211066, F1-score: 0.648461993493\n",
      "Attribute: 0, C: 0.12742749857, F1-score: 0.645925724716\n",
      "Attribute: 0, C: 0.263665089873, F1-score: 0.646467448575\n",
      "Attribute: 0, C: 0.545559478117, F1-score: 0.622262434349\n",
      "Attribute: 0, C: 1.12883789168, F1-score: 0.620242964303\n",
      "Attribute: 0, C: 2.33572146909, F1-score: 0.62476604424\n",
      "Attribute: 0, C: 4.83293023857, F1-score: 0.61375773573\n",
      "Attribute: 0, C: 10.0, F1-score: 0.613836211124\n",
      "Attribute: 1, C: 1e-05, F1-score: 0.804264182571\n",
      "Attribute: 1, C: 2.06913808111e-05, F1-score: 0.807956996349\n",
      "Attribute: 1, C: 4.28133239872e-05, F1-score: 0.814432782842\n",
      "Attribute: 1, C: 8.8586679041e-05, F1-score: 0.821006041525\n",
      "Attribute: 1, C: 0.000183298071083, F1-score: 0.824971698971\n",
      "Attribute: 1, C: 0.000379269019073, F1-score: 0.830442003225\n",
      "Attribute: 1, C: 0.000784759970351, F1-score: 0.83382075672\n",
      "Attribute: 1, C: 0.00162377673919, F1-score: 0.834252625424\n",
      "Attribute: 1, C: 0.00335981828628, F1-score: 0.838721889222\n",
      "Attribute: 1, C: 0.00695192796178, F1-score: 0.838213052785\n",
      "Attribute: 1, C: 0.0143844988829, F1-score: 0.832335480184\n",
      "Attribute: 1, C: 0.0297635144163, F1-score: 0.823294462007\n",
      "Attribute: 1, C: 0.0615848211066, F1-score: 0.817199783024\n",
      "Attribute: 1, C: 0.12742749857, F1-score: 0.804972744915\n",
      "Attribute: 1, C: 0.263665089873, F1-score: 0.792203108325\n",
      "Attribute: 1, C: 0.545559478117, F1-score: 0.787174310035\n",
      "Attribute: 1, C: 1.12883789168, F1-score: 0.791516959066\n",
      "Attribute: 1, C: 2.33572146909, F1-score: 0.779282924938\n",
      "Attribute: 1, C: 4.83293023857, F1-score: 0.776306553989\n",
      "Attribute: 1, C: 10.0, F1-score: 0.776446771714\n",
      "Attribute: 2, C: 1e-05, F1-score: 0.848595256091\n",
      "Attribute: 2, C: 2.06913808111e-05, F1-score: 0.859324996924\n",
      "Attribute: 2, C: 4.28133239872e-05, F1-score: 0.868351793813\n",
      "Attribute: 2, C: 8.8586679041e-05, F1-score: 0.867286758473\n",
      "Attribute: 2, C: 0.000183298071083, F1-score: 0.871788117248\n",
      "Attribute: 2, C: 0.000379269019073, F1-score: 0.86882772788\n",
      "Attribute: 2, C: 0.000784759970351, F1-score: 0.869779698466\n",
      "Attribute: 2, C: 0.00162377673919, F1-score: 0.871556363412\n",
      "Attribute: 2, C: 0.00335981828628, F1-score: 0.876280166636\n",
      "Attribute: 2, C: 0.00695192796178, F1-score: 0.87166598591\n",
      "Attribute: 2, C: 0.0143844988829, F1-score: 0.868586191854\n",
      "Attribute: 2, C: 0.0297635144163, F1-score: 0.868339570189\n",
      "Attribute: 2, C: 0.0615848211066, F1-score: 0.867623182371\n",
      "Attribute: 2, C: 0.12742749857, F1-score: 0.847837643695\n",
      "Attribute: 2, C: 0.263665089873, F1-score: 0.834066811905\n",
      "Attribute: 2, C: 0.545559478117, F1-score: 0.829626909788\n",
      "Attribute: 2, C: 1.12883789168, F1-score: 0.823885198708\n",
      "Attribute: 2, C: 2.33572146909, F1-score: 0.829320350834\n",
      "Attribute: 2, C: 4.83293023857, F1-score: 0.823990581492\n",
      "Attribute: 2, C: 10.0, F1-score: 0.819015523212\n",
      "Attribute: 3, C: 1e-05, F1-score: 0.582646098411\n",
      "Attribute: 3, C: 2.06913808111e-05, F1-score: 0.606061618431\n",
      "Attribute: 3, C: 4.28133239872e-05, F1-score: 0.615097986393\n",
      "Attribute: 3, C: 8.8586679041e-05, F1-score: 0.631282395848\n",
      "Attribute: 3, C: 0.000183298071083, F1-score: 0.640315017138\n",
      "Attribute: 3, C: 0.000379269019073, F1-score: 0.655062764616\n",
      "Attribute: 3, C: 0.000784759970351, F1-score: 0.657688776283\n",
      "Attribute: 3, C: 0.00162377673919, F1-score: 0.674798245061\n",
      "Attribute: 3, C: 0.00335981828628, F1-score: 0.675851629012\n",
      "Attribute: 3, C: 0.00695192796178, F1-score: 0.671038062081\n",
      "Attribute: 3, C: 0.0143844988829, F1-score: 0.660803428483\n",
      "Attribute: 3, C: 0.0297635144163, F1-score: 0.659019869746\n",
      "Attribute: 3, C: 0.0615848211066, F1-score: 0.641073139687\n",
      "Attribute: 3, C: 0.12742749857, F1-score: 0.632792378037\n",
      "Attribute: 3, C: 0.263665089873, F1-score: 0.640146629331\n",
      "Attribute: 3, C: 0.545559478117, F1-score: 0.622730562861\n",
      "Attribute: 3, C: 1.12883789168, F1-score: 0.624708392995\n",
      "Attribute: 3, C: 2.33572146909, F1-score: 0.603002713556\n",
      "Attribute: 3, C: 4.83293023857, F1-score: 0.618306293965\n",
      "Attribute: 3, C: 10.0, F1-score: 0.613780841169\n",
      "Attribute: 4, C: 1e-05, F1-score: 0.694748886995\n",
      "Attribute: 4, C: 2.06913808111e-05, F1-score: 0.704867886394\n",
      "Attribute: 4, C: 4.28133239872e-05, F1-score: 0.716679911393\n",
      "Attribute: 4, C: 8.8586679041e-05, F1-score: 0.7319016331\n",
      "Attribute: 4, C: 0.000183298071083, F1-score: 0.736733640991\n",
      "Attribute: 4, C: 0.000379269019073, F1-score: 0.748054300997\n",
      "Attribute: 4, C: 0.000784759970351, F1-score: 0.759730203557\n",
      "Attribute: 4, C: 0.00162377673919, F1-score: 0.774989972967\n",
      "Attribute: 4, C: 0.00335981828628, F1-score: 0.776280593847\n",
      "Attribute: 4, C: 0.00695192796178, F1-score: 0.794947905708\n",
      "Attribute: 4, C: 0.0143844988829, F1-score: 0.799548739\n",
      "Attribute: 4, C: 0.0297635144163, F1-score: 0.775020456127\n",
      "Attribute: 4, C: 0.0615848211066, F1-score: 0.784533567519\n",
      "Attribute: 4, C: 0.12742749857, F1-score: 0.770451929344\n",
      "Attribute: 4, C: 0.263665089873, F1-score: 0.75159058768\n",
      "Attribute: 4, C: 0.545559478117, F1-score: 0.748948655394\n",
      "Attribute: 4, C: 1.12883789168, F1-score: 0.756305000242\n",
      "Attribute: 4, C: 2.33572146909, F1-score: 0.747267066908\n",
      "Attribute: 4, C: 4.83293023857, F1-score: 0.752073270631\n",
      "Attribute: 4, C: 10.0, F1-score: 0.747642378447\n",
      "Attribute: 5, C: 1e-05, F1-score: 0.836749643345\n",
      "Attribute: 5, C: 2.06913808111e-05, F1-score: 0.845378172215\n",
      "Attribute: 5, C: 4.28133239872e-05, F1-score: 0.84931710062\n",
      "Attribute: 5, C: 8.8586679041e-05, F1-score: 0.852283381429\n",
      "Attribute: 5, C: 0.000183298071083, F1-score: 0.86223806062\n",
      "Attribute: 5, C: 0.000379269019073, F1-score: 0.864219745601\n",
      "Attribute: 5, C: 0.000784759970351, F1-score: 0.87511954737\n",
      "Attribute: 5, C: 0.00162377673919, F1-score: 0.878493030034\n",
      "Attribute: 5, C: 0.00335981828628, F1-score: 0.884430145047\n",
      "Attribute: 5, C: 0.00695192796178, F1-score: 0.88524853844\n",
      "Attribute: 5, C: 0.0143844988829, F1-score: 0.886406537094\n",
      "Attribute: 5, C: 0.0297635144163, F1-score: 0.874238655954\n",
      "Attribute: 5, C: 0.0615848211066, F1-score: 0.877580610122\n",
      "Attribute: 5, C: 0.12742749857, F1-score: 0.870007909421\n",
      "Attribute: 5, C: 0.263665089873, F1-score: 0.861682282579\n",
      "Attribute: 5, C: 0.545559478117, F1-score: 0.850172452975\n",
      "Attribute: 5, C: 1.12883789168, F1-score: 0.864825091198\n",
      "Attribute: 5, C: 2.33572146909, F1-score: 0.851339644936\n",
      "Attribute: 5, C: 4.83293023857, F1-score: 0.852149745166\n",
      "Attribute: 5, C: 10.0, F1-score: 0.855086689279\n",
      "Attribute: 6, C: 1e-05, F1-score: 0.839792380835\n",
      "Attribute: 6, C: 2.06913808111e-05, F1-score: 0.84367273401\n",
      "Attribute: 6, C: 4.28133239872e-05, F1-score: 0.85248220366\n",
      "Attribute: 6, C: 8.8586679041e-05, F1-score: 0.867944086951\n",
      "Attribute: 6, C: 0.000183298071083, F1-score: 0.877620294914\n",
      "Attribute: 6, C: 0.000379269019073, F1-score: 0.898231692662\n",
      "Attribute: 6, C: 0.000784759970351, F1-score: 0.912053505113\n",
      "Attribute: 6, C: 0.00162377673919, F1-score: 0.917855648229\n",
      "Attribute: 6, C: 0.00335981828628, F1-score: 0.920445186537\n",
      "Attribute: 6, C: 0.00695192796178, F1-score: 0.924503766637\n",
      "Attribute: 6, C: 0.0143844988829, F1-score: 0.923840493023\n",
      "Attribute: 6, C: 0.0297635144163, F1-score: 0.924101951527\n",
      "Attribute: 6, C: 0.0615848211066, F1-score: 0.923700732607\n",
      "Attribute: 6, C: 0.12742749857, F1-score: 0.913071056289\n",
      "Attribute: 6, C: 0.263665089873, F1-score: 0.915246398526\n",
      "Attribute: 6, C: 0.545559478117, F1-score: 0.914357039127\n",
      "Attribute: 6, C: 1.12883789168, F1-score: 0.911869990757\n",
      "Attribute: 6, C: 2.33572146909, F1-score: 0.912229444393\n",
      "Attribute: 6, C: 4.83293023857, F1-score: 0.905472551305\n",
      "Attribute: 6, C: 10.0, F1-score: 0.910731013985\n",
      "Attribute: 7, C: 1e-05, F1-score: 0.704558357733\n",
      "Attribute: 7, C: 2.06913808111e-05, F1-score: 0.715667441702\n",
      "Attribute: 7, C: 4.28133239872e-05, F1-score: 0.730877686214\n",
      "Attribute: 7, C: 8.8586679041e-05, F1-score: 0.737216102936\n",
      "Attribute: 7, C: 0.000183298071083, F1-score: 0.74019061311\n",
      "Attribute: 7, C: 0.000379269019073, F1-score: 0.74860544199\n",
      "Attribute: 7, C: 0.000784759970351, F1-score: 0.758413355923\n",
      "Attribute: 7, C: 0.00162377673919, F1-score: 0.767966791055\n",
      "Attribute: 7, C: 0.00335981828628, F1-score: 0.76558893129\n",
      "Attribute: 7, C: 0.00695192796178, F1-score: 0.772039576306\n",
      "Attribute: 7, C: 0.0143844988829, F1-score: 0.766302760407\n",
      "Attribute: 7, C: 0.0297635144163, F1-score: 0.746306631553\n",
      "Attribute: 7, C: 0.0615848211066, F1-score: 0.724479734123\n",
      "Attribute: 7, C: 0.12742749857, F1-score: 0.713062170778\n",
      "Attribute: 7, C: 0.263665089873, F1-score: 0.713002310629\n",
      "Attribute: 7, C: 0.545559478117, F1-score: 0.695173119361\n",
      "Attribute: 7, C: 1.12883789168, F1-score: 0.691248260929\n",
      "Attribute: 7, C: 2.33572146909, F1-score: 0.709809935637\n",
      "Attribute: 7, C: 4.83293023857, F1-score: 0.680311039711\n",
      "Attribute: 7, C: 10.0, F1-score: 0.676443955061\n",
      "Attribute: 8, C: 1e-05, F1-score: 0.82497259732\n",
      "Attribute: 8, C: 2.06913808111e-05, F1-score: 0.831899856692\n",
      "Attribute: 8, C: 4.28133239872e-05, F1-score: 0.839685960074\n",
      "Attribute: 8, C: 8.8586679041e-05, F1-score: 0.845940905979\n",
      "Attribute: 8, C: 0.000183298071083, F1-score: 0.852707984962\n",
      "Attribute: 8, C: 0.000379269019073, F1-score: 0.861030316038\n",
      "Attribute: 8, C: 0.000784759970351, F1-score: 0.869680688016\n",
      "Attribute: 8, C: 0.00162377673919, F1-score: 0.874639819481\n",
      "Attribute: 8, C: 0.00335981828628, F1-score: 0.884465569135\n",
      "Attribute: 8, C: 0.00695192796178, F1-score: 0.881794732778\n",
      "Attribute: 8, C: 0.0143844988829, F1-score: 0.880386516051\n",
      "Attribute: 8, C: 0.0297635144163, F1-score: 0.875115363634\n",
      "Attribute: 8, C: 0.0615848211066, F1-score: 0.874964419908\n",
      "Attribute: 8, C: 0.12742749857, F1-score: 0.865884274318\n",
      "Attribute: 8, C: 0.263665089873, F1-score: 0.86021938203\n",
      "Attribute: 8, C: 0.545559478117, F1-score: 0.858006827077\n",
      "Attribute: 8, C: 1.12883789168, F1-score: 0.842092449558\n",
      "Attribute: 8, C: 2.33572146909, F1-score: 0.842683790491\n",
      "Attribute: 8, C: 4.83293023857, F1-score: 0.844492586386\n",
      "Attribute: 8, C: 10.0, F1-score: 0.841529840036\n"
     ]
    }
   ],
   "source": [
    "best_Cs = np.zeros((9, ))\n",
    "best_f1s = np.zeros((9, ))\n",
    "Cs = np.logspace(-5, 1, num=20)\n",
    "for att in range(9):\n",
    "    for C in Cs:\n",
    "        kfold = KFold(n = X.shape[0], n_folds = 5, shuffle=True)\n",
    "        \n",
    "        f1s = []\n",
    "        for train_index, test_index in kfold:\n",
    "            X_train, X_test = X[train_index], X[test_index]\n",
    "            y_train, y_test = y[train_index, att], y[test_index, att]\n",
    "            \n",
    "            scaler = StandardScaler()\n",
    "            X_train_s = scaler.fit_transform(X_train)\n",
    "            \n",
    "            clf = LogisticRegression(C=C)\n",
    "            clf.fit(X_train_s, y_train)\n",
    "            \n",
    "            X_test_s = scaler.transform(X_test)\n",
    "            y_pred_test = clf.predict(X_test_s)\n",
    "            \n",
    "            f1s.append(f1_score(y_test, y_pred_test))\n",
    "        \n",
    "        f1_mean = np.mean(f1s)    \n",
    "        print(\"Attribute: {a}, C: {C}, F1-score: {f1}\".format(a=att, C=C, f1=f1_mean))\n",
    "            \n",
    "        if f1_mean > best_f1s[att]:\n",
    "            best_f1s[att] = f1_mean\n",
    "            best_Cs[att] = C"
   ]
  },
  {
   "cell_type": "code",
   "execution_count": 103,
   "metadata": {
    "collapsed": false
   },
   "outputs": [
    {
     "data": {
      "text/plain": [
       "array([ 0.00335982,  0.00335982,  0.00335982,  0.00335982,  0.0143845 ,\n",
       "        0.0143845 ,  0.00695193,  0.00695193,  0.00335982])"
      ]
     },
     "execution_count": 103,
     "metadata": {},
     "output_type": "execute_result"
    }
   ],
   "source": [
    "best_Cs"
   ]
  },
  {
   "cell_type": "code",
   "execution_count": 104,
   "metadata": {
    "collapsed": false
   },
   "outputs": [
    {
     "data": {
      "text/plain": [
       "array([ 0.7219946 ,  0.83872189,  0.87628017,  0.67585163,  0.79954874,\n",
       "        0.88640654,  0.92450377,  0.77203958,  0.88446557])"
      ]
     },
     "execution_count": 104,
     "metadata": {},
     "output_type": "execute_result"
    }
   ],
   "source": [
    "best_f1s"
   ]
  },
  {
   "cell_type": "code",
   "execution_count": 121,
   "metadata": {
    "collapsed": false
   },
   "outputs": [
    {
     "name": "stdout",
     "output_type": "stream",
     "text": [
      "Mean F1: 0.834589687202\n"
     ]
    }
   ],
   "source": [
    "kfold = KFold(n = X.shape[0], n_folds = 5, shuffle=True)\n",
    "\n",
    "f1s = []\n",
    "for train_index, test_index in kfold:\n",
    "    y_pred_test = np.zeros((len(test_index), 9))\n",
    "    y_test = y[test_index]\n",
    "    for att in range(9):\n",
    "        X_train, X_test = X[train_index], X[test_index]\n",
    "        y_train = y[train_index, att]\n",
    "            \n",
    "        scaler = StandardScaler()\n",
    "        X_train_s = scaler.fit_transform(X_train)\n",
    "            \n",
    "        clf = LogisticRegression(C=best_Cs[att])\n",
    "        clf.fit(X_train_s, y_train)\n",
    "            \n",
    "        X_test_s = scaler.transform(X_test)\n",
    "        y_pred_test[:, att] = clf.predict(X_test_s)\n",
    "        \n",
    "    f1s.append(f1_score(y_test, y_pred_test, 'micro'))\n",
    "print(\"Mean F1: {f1}\".format(f1=np.mean(f1s)))"
   ]
  },
  {
   "cell_type": "markdown",
   "metadata": {},
   "source": [
    "# Train on full dataset"
   ]
  },
  {
   "cell_type": "code",
   "execution_count": 136,
   "metadata": {
    "collapsed": true
   },
   "outputs": [],
   "source": [
    "scaler = StandardScaler()"
   ]
  },
  {
   "cell_type": "code",
   "execution_count": 137,
   "metadata": {
    "collapsed": true
   },
   "outputs": [],
   "source": [
    "X_s = scaler.fit_transform(X)"
   ]
  },
  {
   "cell_type": "code",
   "execution_count": 138,
   "metadata": {
    "collapsed": true
   },
   "outputs": [],
   "source": [
    "clfs = []\n",
    "for att in range(9):\n",
    "    clf = LogisticRegression(C=best_Cs[att])\n",
    "    clfs.append(clf.fit(X_s, y[:, att]))"
   ]
  },
  {
   "cell_type": "markdown",
   "metadata": {},
   "source": [
    "# Submission 002"
   ]
  },
  {
   "cell_type": "code",
   "execution_count": 128,
   "metadata": {
    "collapsed": true
   },
   "outputs": [],
   "source": [
    "gnet_test = np.load('../data/models/features/googlenet/test_pool5_7x7_s1.npy')"
   ]
  },
  {
   "cell_type": "code",
   "execution_count": 129,
   "metadata": {
    "collapsed": false
   },
   "outputs": [
    {
     "data": {
      "text/plain": [
       "(237152, 1024)"
      ]
     },
     "execution_count": 129,
     "metadata": {},
     "output_type": "execute_result"
    }
   ],
   "source": [
    "gnet_test.shape"
   ]
  },
  {
   "cell_type": "code",
   "execution_count": 130,
   "metadata": {
    "collapsed": false
   },
   "outputs": [
    {
     "name": "stdout",
     "output_type": "stream",
     "text": [
      "test_photos_256x256_noise/459084.jpg\r\n",
      "test_photos_256x256_noise/67847.jpg\r\n",
      "test_photos_256x256_noise/215999.jpg\r\n"
     ]
    }
   ],
   "source": [
    "!head -n 3 ../data/test.list"
   ]
  },
  {
   "cell_type": "code",
   "execution_count": 133,
   "metadata": {
    "collapsed": true
   },
   "outputs": [],
   "source": [
    "test_pid_to_index = dict()\n",
    "with open('../data/test.list', 'r') as lfile:\n",
    "    for i, line in enumerate(lfile):\n",
    "        _, filename = os.path.split(line)\n",
    "        pid_str, _ = os.path.splitext(filename)\n",
    "        test_pid_to_index[int(pid_str)] = i"
   ]
  },
  {
   "cell_type": "code",
   "execution_count": 134,
   "metadata": {
    "collapsed": false
   },
   "outputs": [
    {
     "data": {
      "text/plain": [
       "237152"
      ]
     },
     "execution_count": 134,
     "metadata": {},
     "output_type": "execute_result"
    }
   ],
   "source": [
    "len(test_pid_to_index)"
   ]
  },
  {
   "cell_type": "code",
   "execution_count": 141,
   "metadata": {
    "collapsed": true
   },
   "outputs": [],
   "source": [
    "test_photo_to_biz = pd.read_csv('../data/raw/test_photo_to_biz.csv')"
   ]
  },
  {
   "cell_type": "code",
   "execution_count": 142,
   "metadata": {
    "collapsed": true
   },
   "outputs": [],
   "source": [
    "def add_to_dict(x, bids_to_pids):\n",
    "    bids_to_pids[x.business_id].append(x.photo_id)"
   ]
  },
  {
   "cell_type": "code",
   "execution_count": 143,
   "metadata": {
    "collapsed": true
   },
   "outputs": [],
   "source": [
    "test_bids_to_pids = defaultdict(list)"
   ]
  },
  {
   "cell_type": "code",
   "execution_count": 144,
   "metadata": {
    "collapsed": true
   },
   "outputs": [],
   "source": [
    "_ = test_photo_to_biz.apply(lambda x: add_to_dict(x, test_bids_to_pids), axis=1)"
   ]
  },
  {
   "cell_type": "code",
   "execution_count": 146,
   "metadata": {
    "collapsed": false
   },
   "outputs": [],
   "source": [
    "X_test = np.zeros((len(test_bids_to_pids), 1024))\n",
    "for index, (bid, pids) in enumerate(test_bids_to_pids.items()):\n",
    "    for pid in pids:\n",
    "        X_test[index] += gnet_test[test_pid_to_index[pid]]\n",
    "    X_test[index] /= len(pids)"
   ]
  },
  {
   "cell_type": "code",
   "execution_count": 147,
   "metadata": {
    "collapsed": false
   },
   "outputs": [
    {
     "data": {
      "text/plain": [
       "(10000, 1024)"
      ]
     },
     "execution_count": 147,
     "metadata": {},
     "output_type": "execute_result"
    }
   ],
   "source": [
    "X_test.shape"
   ]
  },
  {
   "cell_type": "code",
   "execution_count": 148,
   "metadata": {
    "collapsed": true
   },
   "outputs": [],
   "source": [
    "X_test_s = scaler.transform(X_test)"
   ]
  },
  {
   "cell_type": "code",
   "execution_count": 149,
   "metadata": {
    "collapsed": true
   },
   "outputs": [],
   "source": [
    "y_test = np.zeros((X_test.shape[0], 9))"
   ]
  },
  {
   "cell_type": "code",
   "execution_count": 151,
   "metadata": {
    "collapsed": true
   },
   "outputs": [],
   "source": [
    "for att in range(9):\n",
    "    y_pred_att = clfs[att].predict(X_test_s)\n",
    "    y_test[:, att] = y_pred_att"
   ]
  },
  {
   "cell_type": "code",
   "execution_count": 152,
   "metadata": {
    "collapsed": false
   },
   "outputs": [
    {
     "data": {
      "text/plain": [
       "array([[ 0.,  0.,  0., ...,  1.,  0.,  1.],\n",
       "       [ 0.,  1.,  1., ...,  1.,  0.,  0.],\n",
       "       [ 0.,  1.,  1., ...,  1.,  1.,  0.],\n",
       "       ..., \n",
       "       [ 1.,  1.,  1., ...,  1.,  0.,  1.],\n",
       "       [ 0.,  1.,  1., ...,  1.,  1.,  0.],\n",
       "       [ 0.,  1.,  1., ...,  1.,  0.,  0.]])"
      ]
     },
     "execution_count": 152,
     "metadata": {},
     "output_type": "execute_result"
    }
   ],
   "source": [
    "y_test"
   ]
  },
  {
   "cell_type": "code",
   "execution_count": 153,
   "metadata": {
    "collapsed": true
   },
   "outputs": [],
   "source": [
    "def inverse_ohe(ohe):\n",
    "    inv = []\n",
    "    for i, x in enumerate(ohe):\n",
    "        if x == 1:\n",
    "            inv.append(i) \n",
    "    return inv"
   ]
  },
  {
   "cell_type": "code",
   "execution_count": 154,
   "metadata": {
    "collapsed": true
   },
   "outputs": [],
   "source": [
    "test_bid_to_labels = dict()\n",
    "for index, (bid, _) in enumerate(test_bids_to_pids.items()):\n",
    "    test_bid_to_labels[bid] = inverse_ohe(y_test[index])"
   ]
  },
  {
   "cell_type": "code",
   "execution_count": 155,
   "metadata": {
    "collapsed": false
   },
   "outputs": [
    {
     "data": {
      "text/plain": [
       "{'af0iy': [3, 6, 8],\n",
       " 's4n0d': [1, 2, 3, 4, 5, 6],\n",
       " 's1e3l': [1, 2, 4, 5, 6, 7],\n",
       " 'yinms': [1, 2, 5, 6],\n",
       " '3i26e': [1, 2, 4, 5, 6, 8],\n",
       " 'rl851': [0, 8],\n",
       " '0zrov': [1, 2, 5, 6],\n",
       " 'ean2c': [1, 2, 5, 6, 7],\n",
       " 'toisr': [2, 5, 6],\n",
       " '74ecy': [5, 6],\n",
       " '80dw9': [1, 2, 3, 4, 5, 6, 7],\n",
       " 'aitij': [1, 2, 3, 4, 5, 6, 7],\n",
       " 's0m7q': [1, 2, 4, 5, 6],\n",
       " '7mcjz': [0, 3, 8],\n",
       " 'm3s1l': [0, 3, 5, 6, 8],\n",
       " 'l8fvq': [1, 2, 3, 5, 6],\n",
       " 'z70r9': [1, 2, 3, 4, 5, 6, 8],\n",
       " 'ugfqb': [1, 2, 4, 5, 6, 8],\n",
       " 'tea06': [1, 2, 6, 8],\n",
       " 'imbxw': [1, 2, 3, 5, 6, 8],\n",
       " 'zpqo0': [1, 2, 3, 5, 6],\n",
       " 'os9pk': [1, 2, 5, 6],\n",
       " 'o7d98': [1, 2, 3, 4, 5, 6, 7],\n",
       " '3acri': [1, 2, 3, 4, 6, 7],\n",
       " 'd7awj': [0, 8],\n",
       " '0pthg': [4, 5],\n",
       " '8796k': [1, 2, 5, 6],\n",
       " 'wedp4': [1, 2, 5, 6],\n",
       " 'l851z': [1, 2, 4, 5, 6],\n",
       " 'dq7xa': [0, 3, 8],\n",
       " 'iayad': [1, 2, 3, 5, 6],\n",
       " 'pgr7c': [2, 3, 5, 6, 8],\n",
       " 'lqswi': [0, 3, 8],\n",
       " '68zwr': [0, 8],\n",
       " 'nju8j': [1, 2, 5, 6],\n",
       " '1f9nm': [1, 2, 3, 6],\n",
       " 'c0c21': [1, 2, 3, 5, 6],\n",
       " 'bpq3x': [1, 2, 5, 6],\n",
       " 'oars3': [1, 2, 3, 4, 5, 6, 7],\n",
       " '4f65u': [2, 5, 6, 8],\n",
       " '20hsy': [0, 6, 8],\n",
       " 'zduww': [0, 8],\n",
       " 'gb434': [1, 2, 4, 5, 6, 7],\n",
       " '8pg6g': [1, 2, 4, 5, 6, 7],\n",
       " 'vnoqh': [1, 2, 4, 5, 6, 7],\n",
       " 'xw37l': [0, 3, 8],\n",
       " '1dk14': [1, 2, 5, 6],\n",
       " 'je655': [6],\n",
       " 'upvpw': [1, 2, 4, 5, 6, 7],\n",
       " 'mradw': [1, 2, 4, 5, 6],\n",
       " 'b4e8h': [1, 2, 4, 5, 6],\n",
       " '9awrm': [1, 2, 5, 6],\n",
       " '52kck': [0, 3, 8],\n",
       " 'cfh8i': [1, 2, 3, 4, 5, 6, 7],\n",
       " 'rx2lp': [1, 2, 3, 4, 5, 6, 7],\n",
       " 'buh18': [1, 2, 3, 5, 6, 8],\n",
       " 'oug2o': [1, 2, 4, 5, 6],\n",
       " 'wuo4x': [1, 2, 3, 5, 6],\n",
       " 'm4c1o': [1, 2, 4, 5, 6, 7],\n",
       " 'f6lgj': [2, 3, 5, 6, 8],\n",
       " 'mm8kq': [2, 5, 6, 8],\n",
       " 'gye3v': [1, 2, 3, 5, 6],\n",
       " 'hnyrp': [1, 2, 4, 5, 6, 7],\n",
       " 'i28t8': [1, 2, 5, 6],\n",
       " '88m8c': [2, 3, 5],\n",
       " '3n1vw': [1, 2, 3, 4, 5, 6, 7],\n",
       " 'yf1la': [1, 2, 4, 5, 6, 7],\n",
       " '0z01d': [1, 2, 3, 4, 5, 6, 7],\n",
       " 'w2oi2': [0, 8],\n",
       " 'j5h6q': [1, 2, 3, 5, 6],\n",
       " 'h31mf': [6, 8],\n",
       " 'q6npi': [1, 2, 5, 6],\n",
       " 'l6hzo': [1, 2, 5, 6],\n",
       " '5f7q5': [1, 2, 3, 4, 5, 6, 7],\n",
       " 'ixq02': [0, 3, 8],\n",
       " 'nyovy': [2, 3, 5, 6, 7, 8],\n",
       " 'x0lqy': [1, 2, 4, 5, 6, 7],\n",
       " '53xdp': [1, 2, 5, 6, 8],\n",
       " '8ce6l': [1, 2, 4, 5, 6, 7],\n",
       " '5821a': [6, 8],\n",
       " 'n27c4': [1, 2, 3, 4, 5, 6],\n",
       " '5upg5': [1, 2, 4, 6],\n",
       " '4teqn': [1, 2, 3, 4, 5, 6, 7],\n",
       " 'm85at': [1, 2, 3, 4, 5, 6, 7],\n",
       " 'bc15t': [1, 3, 4, 5, 6],\n",
       " 'c4kph': [0, 1, 2, 5, 6, 7, 8],\n",
       " '9aoul': [5, 6, 8],\n",
       " 'n35kq': [0, 1, 2, 3, 5, 6, 8],\n",
       " '2f6zq': [1, 2, 3, 5, 6],\n",
       " '035x6': [1, 2, 3, 4, 5, 6],\n",
       " 'tyxvh': [0, 8],\n",
       " 'ivrep': [1, 2, 4, 5, 6],\n",
       " '2yfj8': [6, 8],\n",
       " 'y90ff': [0, 3, 5, 6],\n",
       " 'pfn09': [1, 2, 4, 5, 6, 7],\n",
       " 'ia2g8': [1, 2, 4, 5, 6],\n",
       " 'leesd': [1, 4, 5],\n",
       " '3s322': [1, 2, 4, 5, 6, 7],\n",
       " 'wt1nw': [1, 2, 5, 6, 7],\n",
       " '0573e': [0, 1, 2, 3, 5, 6, 8],\n",
       " 'tk2yj': [0, 3, 8],\n",
       " 'ke4pq': [1, 2, 3, 4, 5, 6, 7],\n",
       " 'rr4bf': [1, 2, 3, 5, 6],\n",
       " 'f8szl': [1, 2, 3, 5, 6],\n",
       " 'dj2ei': [1, 2, 4, 5, 6, 7],\n",
       " 'f9tc6': [1, 2, 3, 4, 5, 6, 7],\n",
       " '41mcz': [2, 3, 5, 6, 8],\n",
       " 't6mxo': [1, 2, 5, 8],\n",
       " 'xifug': [1, 2, 3, 4, 5, 6],\n",
       " 'wh3t2': [1, 2, 3, 5, 6],\n",
       " '2afxe': [3, 6, 8],\n",
       " '67tw0': [1, 2, 5, 6, 8],\n",
       " '06fzh': [1, 2, 3, 5, 6, 7],\n",
       " 'btfnb': [1, 2, 5, 6, 8],\n",
       " 'n8tv1': [1, 2, 4, 5, 6, 8],\n",
       " 'i9sbw': [0, 8],\n",
       " 'seclx': [1, 2, 5, 6],\n",
       " 'ndzw7': [0, 1, 2, 5, 6, 8],\n",
       " 'xs134': [1, 2, 3, 5, 6, 7],\n",
       " 'j1lj4': [1, 2, 5, 6, 8],\n",
       " '6xea2': [1, 2, 3, 4, 5, 6, 7],\n",
       " 'cnffw': [0, 3, 8],\n",
       " 'bahz2': [1, 2, 3, 5, 6],\n",
       " '2350j': [1, 2, 3, 5, 6],\n",
       " 'o3p7g': [1, 2, 3, 4, 5, 6],\n",
       " 'xkrdd': [1, 2, 4, 5, 6],\n",
       " '0ddwy': [1, 2],\n",
       " '3n3w3': [1, 2, 4, 5, 6],\n",
       " '4so8s': [0, 3, 8],\n",
       " '5w7kz': [1, 2, 3, 5, 6],\n",
       " 'o2b2f': [1, 2, 4, 5, 6, 7],\n",
       " 'czl5i': [1, 2, 3, 5, 6, 8],\n",
       " 'd55xw': [1, 2, 5, 6],\n",
       " '5atth': [0, 8],\n",
       " '6otdh': [1, 5, 6, 8],\n",
       " 'xhx25': [1, 2, 5, 6],\n",
       " '00mc6': [1, 2, 4, 6],\n",
       " '3f89e': [1, 2, 5, 6],\n",
       " '1zf3m': [1, 2, 5, 6, 7],\n",
       " '53yb2': [3, 5, 6, 8],\n",
       " '97g8o': [6, 8],\n",
       " 'el8dn': [1, 2, 3, 4, 5, 6],\n",
       " '5h353': [1, 2, 5, 6],\n",
       " '164ok': [1, 2, 3, 5, 6],\n",
       " 'sdz5f': [1, 2, 3, 4, 5, 6, 7],\n",
       " 'hasf7': [1, 2, 4, 5, 6, 7],\n",
       " 'oz9t9': [1, 2, 3, 5, 6],\n",
       " '02pxt': [1, 2, 3, 5, 6],\n",
       " 'gl60q': [3, 5, 6],\n",
       " 'wey60': [1, 2, 3, 4, 5, 6],\n",
       " 'clr6m': [1, 2, 5, 6],\n",
       " '7b4iw': [1, 2, 4, 6, 7],\n",
       " 'l029s': [2, 3, 4, 5, 6, 7],\n",
       " '9ri03': [5, 6, 8],\n",
       " '7tzp1': [1, 2, 5, 6],\n",
       " 'n4kqz': [1, 2, 5, 6, 8],\n",
       " 'k1ln0': [3, 5, 6, 8],\n",
       " 'wzalq': [1, 2, 4, 5, 6, 7],\n",
       " '0jiz6': [0, 2, 3, 5, 6, 8],\n",
       " 'ibev2': [1, 2, 3, 4, 5, 6, 8],\n",
       " '55hkz': [1, 2, 3, 5, 6],\n",
       " 'sin1k': [0, 8],\n",
       " 'lmzuw': [0, 8],\n",
       " 'owld5': [2, 3, 5, 6, 8],\n",
       " 'mai4q': [1, 2, 4, 5, 6, 7],\n",
       " 'xfpoz': [2, 5, 6],\n",
       " '9qiuf': [1, 2, 5, 6, 7, 8],\n",
       " 'b4jlj': [1, 2, 3, 4, 5, 6],\n",
       " 'cow4g': [1, 2, 5, 6, 8],\n",
       " 'apdjl': [1, 2, 5, 6, 8],\n",
       " '0xbc6': [2, 3, 5, 6, 8],\n",
       " 'ta0z5': [1, 2, 3, 5, 6],\n",
       " '5hbs4': [1, 2, 3, 5, 6],\n",
       " 'v3rak': [1, 2, 5, 6],\n",
       " 'qlx5g': [1, 2, 5, 6],\n",
       " '7vmqv': [0, 1, 2, 3, 4, 5, 6, 7],\n",
       " 'syk1k': [1, 2, 4, 5, 6],\n",
       " '42kip': [1, 2, 4, 5, 6],\n",
       " 'jirro': [1, 2, 4, 5, 6],\n",
       " 'gh00f': [1, 2, 4, 5, 6],\n",
       " 't28dg': [1, 2, 3, 4, 5, 6],\n",
       " 'l1he0': [1, 2, 5, 6],\n",
       " '5d29c': [1, 6, 8],\n",
       " 'c1u5t': [1, 3, 5, 6],\n",
       " 'mh68d': [1, 2, 5, 6],\n",
       " '8s8c6': [1, 2, 4, 5, 6, 7],\n",
       " '41rks': [1, 2, 3, 5, 6, 7, 8],\n",
       " '8yd82': [1, 2, 3, 5, 6],\n",
       " '2cu1k': [1, 2, 5, 6],\n",
       " 'ceb43': [1, 2, 4, 5, 6, 7],\n",
       " 'dmrzx': [1, 2, 4, 5, 6],\n",
       " 'an1xl': [1, 3, 5],\n",
       " 'uxlhw': [1, 2, 4, 5, 6, 7, 8],\n",
       " '7vd3u': [1, 2, 3, 5, 6, 7],\n",
       " '2wd4x': [0, 8],\n",
       " 'vsaix': [1, 2, 4, 5, 6, 7],\n",
       " '93u8s': [1, 2, 4, 5, 6, 7],\n",
       " 'io20c': [6, 8],\n",
       " 'btpv5': [0, 3, 5, 6, 7, 8],\n",
       " 'u4dry': [1, 2, 5, 6],\n",
       " 'dhs7v': [1, 2, 5, 6],\n",
       " '6bym8': [1, 2, 4, 5, 6, 7],\n",
       " 'stb58': [1, 3, 5, 6],\n",
       " '8b8ex': [1, 2, 5, 6, 8],\n",
       " 'f73hk': [3, 8],\n",
       " '77fh6': [0, 1, 2, 6, 8],\n",
       " '8ay0y': [7, 8],\n",
       " 'bypi0': [6, 8],\n",
       " '06p0g': [1, 2, 3, 4, 5, 6],\n",
       " '8c75a': [1, 2, 3, 5, 6],\n",
       " 'qt20a': [1, 2, 3, 5, 6],\n",
       " 'ukbit': [1, 2, 5],\n",
       " 'kqe89': [1, 2, 5, 6],\n",
       " '2smnw': [1, 2, 3, 5, 6, 8],\n",
       " 'eyh3i': [0, 3, 8],\n",
       " 'iyryf': [2, 3, 5, 8],\n",
       " 'y3kbi': [1, 2, 5, 6],\n",
       " '943oy': [1, 2, 3, 5, 6],\n",
       " 'fhatz': [1, 2, 5, 6],\n",
       " '3nkeq': [2, 3, 5, 6],\n",
       " 'ni6bb': [1, 2, 3, 4, 5, 6, 7],\n",
       " '5yawt': [1, 2, 4, 5, 6],\n",
       " 'ovxo8': [1, 2, 4, 5, 6, 7],\n",
       " '64u84': [1, 2, 3, 5, 6],\n",
       " 'zxwh1': [1, 5, 6],\n",
       " 'vmcip': [1, 2, 4, 5, 6],\n",
       " 't2183': [1, 2, 3, 5, 6, 7],\n",
       " 'p4wco': [1, 2, 4, 5, 6],\n",
       " 'ml2ih': [1, 2, 5, 6, 8],\n",
       " '35dol': [1, 2, 5, 6],\n",
       " 'mrls2': [1, 2, 3, 4, 5, 6],\n",
       " 'zr4lk': [1, 2, 5, 6],\n",
       " '0e2eh': [1, 2, 3, 5, 6],\n",
       " 'h0iq1': [0, 2, 3, 5],\n",
       " '5i6ry': [1, 2, 5, 6, 7],\n",
       " 'zeiyy': [2, 3, 5, 6, 8],\n",
       " 's45f4': [1, 2, 4, 5, 6, 8],\n",
       " 'xs3ar': [2, 3, 5, 6, 8],\n",
       " 'yo6u1': [4, 7, 8],\n",
       " '27rwo': [1, 2, 5, 6],\n",
       " 'l7jid': [1, 2, 3, 4, 5, 6],\n",
       " 'zda68': [1, 2, 3, 5, 6],\n",
       " 'q0cmw': [3, 8],\n",
       " 'o7cxi': [1, 2, 3, 5, 6],\n",
       " 'okyvs': [1, 5, 6, 7],\n",
       " 'n5qxd': [1, 2, 6, 8],\n",
       " 'nfsxi': [1, 2, 3, 4, 5, 6, 7],\n",
       " '9bl0y': [2, 3, 5, 6, 8],\n",
       " 'al6pc': [1, 2, 5, 6],\n",
       " 'cd9cd': [1, 2, 3, 5, 6],\n",
       " 'nqm95': [1, 2, 3, 4, 5, 6, 7, 8],\n",
       " '5q2ts': [0, 3, 8],\n",
       " '7hgjj': [1, 2, 5, 6, 7],\n",
       " 'zpbgr': [1, 2, 4, 5, 6],\n",
       " 'nfcxm': [1, 2, 4, 5, 6],\n",
       " '0hqkx': [1, 2, 5, 6],\n",
       " '0jfku': [1, 2, 3, 5, 6, 8],\n",
       " 'yxx3y': [1, 2, 3, 4, 5, 6, 7],\n",
       " 'tcu2x': [1, 2, 5, 6, 8],\n",
       " 'sd8qc': [1, 2, 5, 6, 7],\n",
       " 'goib8': [1, 2, 5, 6],\n",
       " '8qmmb': [1, 2, 4, 5, 6, 7],\n",
       " 'las99': [1, 2, 5, 6],\n",
       " 'iamhz': [1, 2, 5, 6],\n",
       " 'b1h73': [1, 2, 5, 6],\n",
       " 'jq3ql': [1, 2, 5, 6],\n",
       " '2s9i5': [4],\n",
       " '39hup': [1, 2, 5, 6, 7, 8],\n",
       " '5vknk': [1, 2, 4, 5, 6, 7],\n",
       " 'i95mo': [3, 5, 6, 8],\n",
       " '53z9l': [1, 2, 5, 6],\n",
       " 't7tc5': [1, 5, 6],\n",
       " 'n31px': [2, 5, 6, 8],\n",
       " 'zj58w': [1, 2, 5, 6],\n",
       " '6uko9': [1, 2, 3, 5, 6, 7],\n",
       " 'xg3pm': [1, 2, 5, 6],\n",
       " 'uwjdd': [1, 2, 5, 6],\n",
       " 'veekm': [6, 7],\n",
       " 'biih2': [1, 2, 4, 5, 6],\n",
       " 'veoat': [1, 2, 3, 5, 6, 7],\n",
       " 'iznwu': [1, 2, 3, 4, 5, 6],\n",
       " '7ndz7': [1, 2, 6, 8],\n",
       " 'miqja': [1, 2, 5, 6, 7],\n",
       " 'wwozn': [1, 2, 5, 6, 8],\n",
       " '6327e': [1, 2, 5, 6],\n",
       " '88xhh': [0, 3, 8],\n",
       " 'ocvm1': [1, 2, 4, 5, 6, 7],\n",
       " '7kw2k': [1, 2, 3, 5, 6, 7],\n",
       " 'hknmy': [1, 2, 6, 7],\n",
       " 'ehpdr': [1, 2, 4, 5, 6, 7],\n",
       " '2uj1k': [1, 2, 5, 6, 8],\n",
       " 'homj4': [1, 2, 3, 5, 6, 7],\n",
       " 's5hdh': [1, 2, 5, 6],\n",
       " 'jd2df': [1, 2, 4, 5, 6, 7],\n",
       " 'x4xg8': [1, 2, 5, 6],\n",
       " 'gm497': [1, 2, 5, 6, 8],\n",
       " 'm7f0e': [1, 2, 6, 8],\n",
       " '4dskp': [1, 2, 3, 5, 6],\n",
       " '2w9im': [1, 2, 4, 5, 6, 7],\n",
       " 'lr2l3': [2, 3, 5, 6, 8],\n",
       " 'xth24': [1, 2, 4, 5, 6, 7],\n",
       " 'opypz': [2, 3, 5, 6, 7],\n",
       " 'kfg1y': [1, 5, 6, 8],\n",
       " '2e0ln': [2, 3, 5, 6, 8],\n",
       " 'wxa8x': [0, 3, 8],\n",
       " '6se3b': [0, 6, 8],\n",
       " 'sgny3': [2, 5, 6, 8],\n",
       " '2nrrq': [5, 6, 8],\n",
       " 'uiar1': [1, 2, 3, 4, 5, 6, 8],\n",
       " 'uvfuj': [1, 2, 3, 5, 6],\n",
       " '639hl': [1, 2, 5, 6, 7],\n",
       " '77564': [1, 2, 3, 4, 5, 6],\n",
       " '31578': [1, 2, 5, 6],\n",
       " '8uiug': [1, 2, 5, 6],\n",
       " '3h8zc': [1, 2, 5, 6],\n",
       " 'bozes': [1, 2, 3, 4, 5, 6],\n",
       " 's1fyv': [0, 2, 5, 6, 8],\n",
       " '4fipv': [1, 2, 5, 6, 7],\n",
       " 'mjjf8': [1, 2, 5, 6],\n",
       " 's5fri': [6, 8],\n",
       " 'o9k2b': [1, 2, 3, 5, 6],\n",
       " '4ja8p': [0, 5, 8],\n",
       " 'tzehk': [1, 2, 3, 5, 6],\n",
       " 'zumiy': [1, 2, 4, 5, 6],\n",
       " 'm27fj': [1, 2, 5, 6, 8],\n",
       " '73x96': [1, 2, 5, 6],\n",
       " 'd8kqe': [0, 1, 2, 4, 5, 6],\n",
       " 'yrwe6': [1, 3, 5, 6, 8],\n",
       " 'vkt65': [1, 2, 5, 6],\n",
       " 'f83cm': [1, 2, 5, 6],\n",
       " 'pb4sr': [3, 5, 6],\n",
       " 'dmp7a': [1, 2, 3, 5, 6],\n",
       " '2zkot': [1, 2, 3, 4, 5, 6, 7],\n",
       " '2y2rp': [1, 2, 5, 6],\n",
       " 'ygprv': [1, 2, 5, 6, 8],\n",
       " 'p0ayq': [8],\n",
       " 'pq8ml': [1, 2, 4, 5, 6, 7],\n",
       " 'aske8': [1, 2, 3, 5, 6, 8],\n",
       " '6tfuj': [1, 2, 3, 5, 6],\n",
       " 'ynd10': [1, 2, 4, 5, 6, 7, 8],\n",
       " '1sdbh': [1, 2, 5, 6, 8],\n",
       " 'cs5x4': [0, 3, 8],\n",
       " 'zpi43': [1, 2, 4, 5, 6, 7],\n",
       " '3omvg': [1, 2, 4, 6, 8],\n",
       " 'rlkd0': [1, 2, 3, 4, 5, 6],\n",
       " 'rywhb': [1, 2, 3, 5, 6],\n",
       " '36gec': [1, 2, 4, 5, 6],\n",
       " 'kmgky': [1, 2, 3, 4, 5, 6, 7],\n",
       " 'r35su': [1, 2, 5, 6],\n",
       " 'v24vc': [2, 5, 6, 8],\n",
       " 'wbfdx': [0, 3, 8],\n",
       " 'bvhij': [1, 2, 5, 6, 8],\n",
       " 'u1wbw': [1, 2, 5, 6],\n",
       " '9e6p9': [1, 2, 5, 6, 7],\n",
       " 't2j5h': [1, 2, 3, 5, 6],\n",
       " 'c8g1q': [1, 2, 5, 6],\n",
       " 'r7f8t': [1, 2, 3, 5, 6, 7],\n",
       " 'r03z7': [1, 2, 4, 5, 6, 7],\n",
       " 'xm5iu': [2, 4, 6, 7],\n",
       " '0s9nf': [5, 6, 7],\n",
       " '249oh': [1, 2, 3, 5, 6],\n",
       " 'vdhyi': [1, 2, 4, 5, 6, 7],\n",
       " 'jg4tu': [1, 2, 4, 5, 6, 7],\n",
       " '6jg4s': [0, 8],\n",
       " 'hj9g4': [1, 2, 4, 5, 6],\n",
       " 'n57og': [1, 2, 3, 5, 6],\n",
       " 'gn5np': [1, 2, 5, 6],\n",
       " '3ekst': [1, 2, 5, 6],\n",
       " '5jdqz': [3, 5, 6, 8],\n",
       " 'uyc8e': [1, 2, 5, 6],\n",
       " 'r7vpj': [2, 5, 6],\n",
       " 'oso1l': [1, 2, 4, 5, 6, 7],\n",
       " 'qejfy': [1, 2, 3, 5, 6, 8],\n",
       " 'sliik': [0, 2, 3, 5, 6, 8],\n",
       " 'sahb7': [1, 2, 4, 5, 6, 7],\n",
       " '2jw3q': [1, 2, 5, 6, 7, 8],\n",
       " 'c80l1': [3, 5, 6, 8],\n",
       " 'assuo': [1, 2, 3, 5, 6, 7],\n",
       " 'ze5fl': [1, 2, 5, 6],\n",
       " 'wjtdb': [5, 6, 7, 8],\n",
       " 'zrk9a': [0, 1, 2, 5, 6],\n",
       " 'zhtzd': [1, 2, 5, 6],\n",
       " '9vqkt': [0, 3, 6, 8],\n",
       " 'ukb2f': [1, 2, 5, 6, 8],\n",
       " 'rrwhn': [0, 8],\n",
       " 'zko07': [1, 2, 3, 5, 6],\n",
       " 'avhji': [6, 8],\n",
       " 'c1vav': [0, 3, 5],\n",
       " 'ctb9z': [1, 2, 5, 6, 8],\n",
       " 'rj5da': [1, 2, 5, 6],\n",
       " 'sgze8': [2, 3, 5, 6, 8],\n",
       " 'pyafn': [1, 2, 3, 4, 5, 6],\n",
       " 'at4is': [1, 2, 3, 4, 5, 6, 7],\n",
       " '3m2tp': [1, 2, 5, 6],\n",
       " '3dnyh': [1, 2, 4, 5, 6, 7],\n",
       " 'j6vdi': [6, 8],\n",
       " 'vf4mm': [1, 2, 5, 6, 7],\n",
       " 'lkqk1': [1, 2, 4, 5, 6, 7],\n",
       " '1xelt': [1, 2, 5, 6],\n",
       " 'rcegl': [0, 1, 5, 8],\n",
       " 'zg8rb': [1, 2, 5, 6, 8],\n",
       " '7w70k': [1, 2, 4, 5, 6],\n",
       " '0cnbh': [1, 2, 3, 5, 6, 7],\n",
       " 'd3inn': [1, 2, 5, 6],\n",
       " 'hjvcn': [1, 2, 5, 6],\n",
       " '7qzrf': [1, 2, 3, 4, 5, 6, 7],\n",
       " '92f86': [6, 8],\n",
       " '34kyx': [1, 2, 5, 6, 8],\n",
       " 'fq2io': [0, 1, 2, 5, 6, 8],\n",
       " '02d9t': [1, 2, 5, 6, 7],\n",
       " 's4g31': [1, 5, 6],\n",
       " 'grvp1': [1, 2, 5, 6, 7],\n",
       " 'e85q4': [1, 2, 4, 5, 6, 7],\n",
       " 'yh8jz': [5, 6, 8],\n",
       " '5vooj': [1, 2, 5, 6, 8],\n",
       " 'fmndk': [1, 2, 5, 6],\n",
       " 'i0088': [1, 6, 7, 8],\n",
       " 'h66tx': [1, 2, 3, 5, 6, 8],\n",
       " 'i1ub2': [1, 2, 5, 6],\n",
       " 'escyq': [1, 2, 3, 4, 5, 6, 7],\n",
       " 'jtfll': [0, 1, 2, 5, 6, 8],\n",
       " 'pg52e': [1, 2, 5, 6, 8],\n",
       " 'hbyxx': [1, 2, 3, 5, 6, 7],\n",
       " 'tw1d5': [1, 2, 5, 6, 8],\n",
       " 'f9e84': [1, 2, 4, 5, 6, 7],\n",
       " 'somli': [1, 2, 5, 6],\n",
       " 'ovk9k': [1, 2, 5, 6, 8],\n",
       " 'w73ld': [2, 5, 6, 7, 8],\n",
       " '69k69': [1, 2, 3, 5, 6, 7],\n",
       " 'g8s6m': [1, 2, 4, 5, 6],\n",
       " 'fn1y0': [1, 2, 3, 5, 6],\n",
       " 'na2ma': [3, 4, 5],\n",
       " '5ow1r': [2, 5, 6, 8],\n",
       " '1lneo': [1, 2, 5, 6, 8],\n",
       " '6j7rx': [1, 2, 5, 6],\n",
       " '7bklq': [1, 2, 3, 5, 6],\n",
       " 'm4rhy': [1, 2, 5, 6],\n",
       " 'nwk38': [1, 2, 4, 5, 6, 7],\n",
       " 'hhfga': [2, 5, 6, 8],\n",
       " 'pk9ni': [1, 2, 5, 6],\n",
       " '3uzvp': [1, 2, 4, 5, 6, 7],\n",
       " 'xvwe6': [1, 2, 3, 5, 6],\n",
       " 'mtjdh': [1, 2, 5, 6, 7],\n",
       " '9yp77': [1, 5, 6, 8],\n",
       " 'i99li': [1, 2, 5, 6],\n",
       " '1e34p': [1, 2, 3, 4, 5, 6, 8],\n",
       " '3j8ta': [4],\n",
       " '7064k': [1, 2, 5, 6],\n",
       " 'isb0x': [1, 2, 3, 5, 6],\n",
       " 'e17l4': [0, 5, 6, 8],\n",
       " 'uw2uw': [1, 2, 3, 5, 6, 8],\n",
       " 'lfxjn': [1, 2, 4, 5, 6, 7],\n",
       " 'x8mfh': [1, 2, 3, 4, 5, 6, 7],\n",
       " '2kswt': [1, 2, 3, 5, 6],\n",
       " '31xwa': [1, 2, 5, 6],\n",
       " '8i7dh': [1, 2, 3, 6, 7, 8],\n",
       " 'oeq9j': [1, 2, 5, 6],\n",
       " '4o2co': [6, 8],\n",
       " 'nkbfd': [1, 2, 4, 5, 6, 7],\n",
       " '8e2qw': [1, 2, 5, 6, 8],\n",
       " 'kixz8': [1, 2, 5, 6],\n",
       " 't7ok0': [1, 2, 3, 4, 5, 6],\n",
       " 'w6cv7': [1, 2, 3, 5, 6, 7],\n",
       " 'drlcg': [1, 2, 6, 8],\n",
       " 'tmj6v': [1, 2, 5, 6],\n",
       " 'fragn': [1, 2, 3, 5, 6],\n",
       " 'iu75d': [0, 8],\n",
       " 'r26ek': [0, 1, 4],\n",
       " 'ovzd8': [1, 2, 5, 6],\n",
       " '01s0p': [0, 1, 3, 5, 6, 8],\n",
       " 'rdhm6': [1, 2, 4, 5, 6, 7],\n",
       " 'lg9rx': [2, 4, 6, 8],\n",
       " '6dfrq': [2, 5, 6, 8],\n",
       " 'znyn5': [0, 1, 2, 5, 6, 8],\n",
       " '4ov5m': [1, 2, 3, 5, 6, 8],\n",
       " 'rph7o': [1, 2, 4, 5, 6, 7],\n",
       " 'dkmzq': [1, 2, 5, 6],\n",
       " '34i42': [1, 2, 4, 5, 6, 7],\n",
       " 'qfis8': [1, 2, 3, 5, 6, 7],\n",
       " 'vlrhj': [2, 5, 6, 8],\n",
       " 'dmeal': [1, 2, 3, 5, 6, 8],\n",
       " 'g0a0e': [1, 2, 5, 6],\n",
       " 'matci': [1, 2, 6, 8],\n",
       " '6dty9': [1, 2, 5, 6, 8],\n",
       " 'rqtzp': [1, 2, 3, 5, 6, 8],\n",
       " 'fw57k': [1, 2, 4, 5, 6, 7, 8],\n",
       " 'qb6jk': [2, 3, 4, 5, 6, 7],\n",
       " '0hv5j': [0, 2, 5],\n",
       " '7myag': [1, 2, 3, 5, 6, 8],\n",
       " 'c0rij': [0, 6, 7, 8],\n",
       " 'y76f5': [1, 2, 3, 5, 6],\n",
       " 'bhiz4': [5, 6, 8],\n",
       " '6lich': [2, 5, 6, 7, 8],\n",
       " 'h8nm1': [6, 8],\n",
       " 'n36hy': [1, 2, 5, 6],\n",
       " '8te1j': [0, 2, 3, 5, 6],\n",
       " 'b5pys': [1, 2, 3, 5, 6],\n",
       " 'axgl7': [1, 2, 3, 4, 5, 6, 7, 8],\n",
       " 'lwux5': [1, 2, 4, 5, 6, 8],\n",
       " 'm841a': [1, 2, 3, 4, 5, 6, 7],\n",
       " '3e7aa': [0, 6, 8],\n",
       " 'jg00g': [1, 2, 3, 4, 5, 6, 7, 8],\n",
       " 'c242q': [1, 2, 3, 5, 6, 8],\n",
       " 'qemjv': [1, 2, 5, 6],\n",
       " 'ni7ah': [1, 2, 4, 5, 6],\n",
       " 'gh3gy': [1, 2, 3, 5, 6],\n",
       " 'xqsal': [1, 2, 5, 6],\n",
       " 'bgvtw': [1, 2, 4, 5, 6, 7],\n",
       " 'e87lb': [0, 3, 5, 6, 8],\n",
       " 'b3m5u': [1, 2, 5, 6],\n",
       " 'kwxar': [6, 8],\n",
       " 'eok7m': [1, 2, 8],\n",
       " '3eoj5': [0, 3, 8],\n",
       " 'pf586': [1, 2, 5, 6, 7],\n",
       " 'owep3': [1, 2, 3, 4, 5, 6, 7],\n",
       " '3jj09': [1, 2, 4, 5, 6, 7, 8],\n",
       " '4udt2': [1, 2, 3, 5, 6],\n",
       " 'sk2ce': [0, 1, 2, 5, 6, 8],\n",
       " 'pi3sf': [1, 2, 3, 5, 6],\n",
       " 'ljg7l': [1, 2, 4, 5, 6],\n",
       " '3nogw': [1, 2, 3, 5, 6],\n",
       " 'ooeq3': [0, 1, 2, 5, 6],\n",
       " '7bpr3': [1, 2, 3, 5, 6, 7],\n",
       " 'ot6g1': [1, 2, 5, 6],\n",
       " 'x0kic': [1, 2, 3, 4, 5, 6],\n",
       " '6syrf': [1, 2, 4, 5, 6, 7],\n",
       " 'qxxnc': [1, 2, 4, 5, 6],\n",
       " 'dahdp': [1, 2, 3, 5, 6],\n",
       " 'j0b3u': [1, 2, 3, 5, 6],\n",
       " 'pp1eq': [0, 8],\n",
       " 'dz934': [1, 2, 5, 6],\n",
       " 'aj9eu': [0, 3, 8],\n",
       " 'foljn': [3, 5, 6, 8],\n",
       " '5mtgx': [1, 2, 4, 5, 6],\n",
       " 'awhvd': [0, 3, 5, 8],\n",
       " '8jq2k': [1, 2, 3, 5, 6, 7],\n",
       " '05rwc': [1, 2, 3, 4, 5, 6],\n",
       " '3lnc9': [1, 2, 5, 6, 8],\n",
       " 'ykij8': [1, 2, 4, 5, 6, 8],\n",
       " 'y8sa7': [1, 2, 5, 6, 8],\n",
       " 'dv29s': [1, 2, 3, 4, 5, 6, 7],\n",
       " 'c7jw4': [1, 2, 5, 6, 7],\n",
       " '4a2th': [1, 2, 3, 4, 5, 6],\n",
       " 'a6158': [2, 5, 6],\n",
       " 'y45c2': [2, 3, 5, 6, 8],\n",
       " 'cphr3': [1, 2, 5, 6],\n",
       " '2l2fz': [1, 2, 5, 6, 7],\n",
       " '3clst': [3],\n",
       " '118ux': [1, 2, 4, 5, 6],\n",
       " 'u4xla': [2, 3, 5, 6],\n",
       " 'ae1oc': [1, 2, 3, 5, 6],\n",
       " '4gq0l': [1, 2, 5, 6, 7, 8],\n",
       " 'vjgg0': [1, 2, 5, 6],\n",
       " '0n1ay': [1, 2, 4, 5, 6, 7],\n",
       " 'j5k84': [1, 2, 5, 6],\n",
       " 'ys32m': [1, 2, 3, 5, 6],\n",
       " 'lligq': [1, 2, 4, 5, 6, 7],\n",
       " 'nzbjz': [1, 2, 5, 6, 8],\n",
       " '5y7ev': [0, 6, 8],\n",
       " 'hijlc': [1, 2, 3, 4, 5, 6, 7],\n",
       " 'q45a0': [1, 2, 3, 5, 6, 8],\n",
       " 'yx24c': [0, 8],\n",
       " 'i74vu': [6, 8],\n",
       " '29wh3': [2, 5, 6, 8],\n",
       " 'whovj': [2, 5, 6, 7, 8],\n",
       " 'l65rs': [1, 2, 3, 5, 6],\n",
       " 'ibext': [1, 2, 4, 5, 6, 8],\n",
       " 'zx17c': [1, 2, 3, 4, 5, 6, 7],\n",
       " 'oj69x': [1, 2, 5, 6, 7, 8],\n",
       " 'f517f': [2, 3, 5, 6, 8],\n",
       " 'g2h23': [1, 3, 4, 5, 6, 8],\n",
       " '1n9ss': [6, 8],\n",
       " 'wmjec': [1, 2, 3, 4, 5, 6, 7],\n",
       " '7rwom': [1, 2, 5, 6],\n",
       " 'gg8zq': [1, 2, 5, 6],\n",
       " '4kbi0': [1, 2, 5, 6],\n",
       " 'riduw': [1, 2, 5, 6],\n",
       " '0eqm9': [1, 2, 4, 5, 6, 7],\n",
       " '8r1nw': [1, 2, 4, 5, 6],\n",
       " 'nbpt5': [1, 2, 3, 5, 6],\n",
       " '6ewjw': [1, 2, 4, 5, 6, 7],\n",
       " '45mki': [6, 8],\n",
       " 'p5ku2': [1, 2, 3, 4, 5, 6, 8],\n",
       " 'wwqm2': [0, 8],\n",
       " 'm234u': [1, 2, 4, 5, 6],\n",
       " 'd2cqh': [1, 2, 5, 6],\n",
       " '688xo': [1, 2, 4, 5, 6],\n",
       " 'nxki9': [1, 2, 3, 4, 5, 6, 7],\n",
       " 'k5keb': [1, 2, 3, 5, 6],\n",
       " 't5w2l': [0, 8],\n",
       " 'i7pkn': [3, 6, 8],\n",
       " 'la9om': [1, 2, 3, 5, 6, 8],\n",
       " 'o1dla': [1, 2, 5, 6],\n",
       " '6z3ky': [0, 8],\n",
       " 'j145a': [1, 2, 5, 6],\n",
       " '9novp': [1, 2, 4, 5, 6],\n",
       " 'yvl1z': [1, 2, 4, 5, 6],\n",
       " '8mnv9': [0, 1, 2, 4, 5, 6, 7],\n",
       " 'zminj': [0, 1, 3, 5, 6, 8],\n",
       " 'mahdr': [1, 2, 3, 5, 6],\n",
       " '3yp11': [1, 2, 3, 4, 5, 6, 8],\n",
       " 'i38g2': [1, 2, 5, 6],\n",
       " 'gdyli': [1, 2, 5, 6, 8],\n",
       " 'jen2y': [1, 2, 3, 4, 5, 6, 7],\n",
       " '43ndv': [1, 2, 3, 5, 6],\n",
       " 'tf8b0': [1, 2, 3, 5, 6],\n",
       " 'wum31': [1, 3, 5, 6, 8],\n",
       " 'c1aqa': [3, 5, 6, 8],\n",
       " 'saeci': [2, 3, 5, 6],\n",
       " '30mrn': [1, 2, 5, 6, 8],\n",
       " '9svr8': [1, 2, 5, 6],\n",
       " 'd4o3p': [1, 2, 4, 5, 6],\n",
       " 'xzc7u': [1, 2, 3, 4, 5, 6, 7],\n",
       " '5b5tb': [1, 2, 3, 5, 6, 8],\n",
       " 'lj3kq': [1, 2, 5, 6, 7, 8],\n",
       " 'ena8f': [1, 2, 3, 4, 5, 6, 7],\n",
       " '6pce4': [0, 8],\n",
       " 'swaad': [1, 2, 3, 5, 6],\n",
       " '4q512': [0, 1, 2, 3, 4, 7, 8],\n",
       " 'n7ef6': [1, 2, 5, 6],\n",
       " 'mo4vw': [1, 8],\n",
       " 'u8o7f': [1, 2, 4, 5, 6],\n",
       " '69bex': [1, 2, 3, 5, 6],\n",
       " 'ph06u': [2, 5, 6],\n",
       " '8lkj3': [0, 1, 2, 5, 6, 8],\n",
       " 'heas2': [1, 2, 3],\n",
       " '0beyy': [1, 2, 4, 5, 6],\n",
       " 'dq3z7': [1, 2, 5, 6],\n",
       " '50ywf': [5, 6, 8],\n",
       " 'dkgez': [1, 2, 3, 4, 5, 6],\n",
       " '4nalr': [2, 3, 5, 6],\n",
       " '0nq6o': [1, 3, 5, 6, 8],\n",
       " '4hg1u': [1, 2, 3, 4, 5, 6],\n",
       " '4hznd': [3, 6, 8],\n",
       " 'xuqto': [1, 2, 3, 5, 6],\n",
       " 'xbkp1': [1, 2, 5, 6],\n",
       " '9zdj7': [1, 2, 4, 5, 6, 8],\n",
       " '48t5s': [1, 2, 5, 6, 8],\n",
       " '8wuhw': [2, 3, 5, 6],\n",
       " '1tq1t': [1, 2, 5, 6, 8],\n",
       " '66xpz': [1, 2, 4, 5, 6],\n",
       " 'wmx5v': [1, 2, 3, 4, 5, 6],\n",
       " '2iqvb': [1, 2, 3, 4, 5, 6],\n",
       " 'v59xr': [2, 5, 6],\n",
       " '1lbe9': [1, 2, 3, 5, 6, 8],\n",
       " 'rsn45': [2, 3, 5, 6, 8],\n",
       " '9nvye': [1, 2, 4, 5, 6, 7],\n",
       " 'inyw3': [1, 2, 5, 6, 8],\n",
       " '44uar': [1, 2, 6, 8],\n",
       " 'y9bgs': [0, 3, 8],\n",
       " 'zg8io': [1, 2, 4, 5, 6],\n",
       " 'b8rq9': [1, 2, 3, 4, 5, 6],\n",
       " '89xzy': [0, 1, 2, 3, 4, 5, 7],\n",
       " 'cz2g9': [1, 2, 5, 6, 7],\n",
       " '6sduz': [1, 2, 6, 7, 8],\n",
       " 'vtpyx': [1, 2, 3, 5, 6],\n",
       " '0v6gl': [1, 2, 3, 4, 5, 6],\n",
       " 'texnt': [1, 2, 4, 5, 6, 7],\n",
       " 'aiwlv': [1, 2, 4, 5],\n",
       " 'czvu4': [1, 2, 5, 6],\n",
       " 'tiwra': [1, 2, 4, 5, 6],\n",
       " 'qsc9j': [1, 2, 4, 5, 6, 7],\n",
       " 't6ftq': [1, 2, 4, 5, 6, 7],\n",
       " '9z4n1': [1, 2, 3, 5, 6, 8],\n",
       " '57z69': [1, 2, 5, 6, 7],\n",
       " '04wn2': [2, 3, 6, 8],\n",
       " '1f99i': [1, 2, 3, 5, 6, 7],\n",
       " 'whswt': [1, 2, 4, 5, 6, 7],\n",
       " 'anfic': [6, 8],\n",
       " '0axc7': [1, 2, 4, 5, 6, 7],\n",
       " 'wmn1d': [1, 2, 3, 5, 6],\n",
       " 'y4mvm': [1, 2, 3, 4, 5, 6],\n",
       " 'l3wea': [1, 2, 4, 5, 6, 7],\n",
       " 'sjlix': [1, 2, 5, 6],\n",
       " 'rnyhv': [1, 2, 5, 6],\n",
       " '75yva': [1, 2, 5, 6, 7],\n",
       " 'yxzgo': [1, 2, 3, 4, 5, 6, 7],\n",
       " 'pqwff': [0, 1, 2, 3, 5, 6, 8],\n",
       " 'y0xq5': [1, 2, 5, 6],\n",
       " 'e8fub': [1, 2, 4, 5, 6],\n",
       " 'lfpow': [1, 2, 4, 5, 6, 7],\n",
       " '7f24o': [1, 2, 3, 5, 6],\n",
       " 'z0g2s': [1, 2, 3, 5, 6, 7],\n",
       " 'b18n2': [1, 2, 4, 5, 6],\n",
       " 'hudvx': [0, 3, 5, 8],\n",
       " '9d8jy': [1, 2, 5, 6],\n",
       " 'daz05': [1, 2, 5, 6],\n",
       " 'yj0ak': [1, 2, 3, 4, 5, 6, 7],\n",
       " 'lm720': [1, 2, 5, 6],\n",
       " '1to59': [1, 2, 4, 5, 6, 7],\n",
       " 'z11f5': [0, 8],\n",
       " 'bnq69': [1, 2, 3, 5, 6, 8],\n",
       " 'modil': [1, 3, 4, 5],\n",
       " 'mn3jp': [3, 5, 8],\n",
       " 'i6fs3': [1, 2, 4, 5, 6, 7],\n",
       " 'lw0bg': [1, 2, 4, 5, 6, 8],\n",
       " 'hy64o': [1, 2, 5, 6, 8],\n",
       " '7n3zq': [1, 2, 5, 6],\n",
       " '723jl': [0, 1, 2, 5, 6, 7],\n",
       " 'bhid0': [1, 2, 5, 6, 7],\n",
       " '3dng5': [0, 8],\n",
       " 'm4dhm': [1, 2, 5, 6],\n",
       " 'qf4kk': [1, 2, 3, 4, 5, 6, 7],\n",
       " 'm3x3o': [1, 2, 4, 5, 6],\n",
       " 'iyfgh': [3, 8],\n",
       " '79lsn': [1, 2, 3, 4, 5, 6, 7],\n",
       " 'stvpl': [1, 2, 5, 6],\n",
       " '8z5r5': [1, 2, 3, 4, 5, 6],\n",
       " 'tm3le': [3, 5, 6, 8],\n",
       " 'ocjt4': [0, 1, 5, 6, 8],\n",
       " 'rco2l': [1, 2, 5, 6],\n",
       " '7fxft': [0, 1, 2, 3, 5, 6, 8],\n",
       " 'sotdn': [1, 2, 3, 5, 6],\n",
       " '8azm0': [1, 2, 3, 5, 6],\n",
       " 'yfppz': [1, 2, 4, 5, 6],\n",
       " 'gy3f7': [1, 2, 5, 6],\n",
       " 'vaodc': [1, 2, 5, 6],\n",
       " 'mkmli': [2, 5, 6],\n",
       " 'why8d': [1, 2, 3, 5, 6],\n",
       " '27002': [1, 2, 3, 5, 6],\n",
       " 'mq0t0': [1, 2, 5, 6, 7],\n",
       " '3gke3': [1, 2, 4, 5, 6, 7],\n",
       " '70f7x': [1, 2, 4, 5, 6],\n",
       " 'cuof8': [1, 2, 5, 6],\n",
       " '874fh': [1, 2, 3, 5, 6, 8],\n",
       " '8n4w1': [1, 2, 4, 5, 6],\n",
       " 'cwc93': [2, 3],\n",
       " '07nri': [1, 2, 3, 5, 6],\n",
       " '77agd': [1, 3, 5],\n",
       " 'jr2w8': [1, 2, 4, 5, 6, 7],\n",
       " '9358x': [1, 2, 3, 5, 6],\n",
       " 'pirup': [1, 3, 5, 6],\n",
       " 'a9xlr': [1, 2, 5, 6, 7],\n",
       " 'hz7fy': [1, 2, 3, 5, 6],\n",
       " '1b0u4': [1, 2, 3, 4, 5, 6, 7],\n",
       " 'sfswb': [1, 2, 3, 4, 5, 6, 7],\n",
       " 'u45w8': [3, 5, 7, 8],\n",
       " 'n7yjz': [1, 2, 5, 6, 7, 8],\n",
       " 'f4bil': [0, 3, 8],\n",
       " 'mjtet': [1, 2, 4, 5, 6],\n",
       " '4hoyc': [0, 5, 6, 8],\n",
       " 'mfr85': [1, 2, 4, 5, 6, 7],\n",
       " '7gqir': [1, 2, 4, 5, 6, 7],\n",
       " 'wwmme': [1, 2, 3, 4, 5, 6, 7],\n",
       " 'w4n1b': [6, 8],\n",
       " '750ds': [1, 2, 5, 6],\n",
       " 'saop5': [2, 3, 4, 5, 6, 7, 8],\n",
       " 'tzmix': [1, 2, 4, 5, 6, 7],\n",
       " '7ats1': [0, 2, 3, 5, 8],\n",
       " 'o7d57': [0, 1, 2, 3, 5, 6, 8],\n",
       " '60ky8': [3, 5, 8],\n",
       " 'fy17i': [1, 2, 3, 5, 6, 7, 8],\n",
       " '0m7ri': [1, 2, 3, 5, 6],\n",
       " 'gb1kb': [1, 2, 3, 4, 5, 6],\n",
       " 'jsh7j': [1, 2, 5, 6],\n",
       " 't9r2f': [1, 2, 6, 8],\n",
       " 'kxghm': [0, 1, 8],\n",
       " '62rzb': [0, 1, 2, 3, 5, 6],\n",
       " 'dsy9m': [0, 3],\n",
       " 'thnsp': [1, 2, 4, 5, 6],\n",
       " 'myy4o': [1, 2, 4, 5, 6, 7, 8],\n",
       " 'h8l1y': [1, 2, 5, 6],\n",
       " 'bk70b': [1, 2, 5, 6],\n",
       " '0ib7h': [1, 2, 4, 5, 6],\n",
       " '5ixab': [1, 2, 5, 6, 8],\n",
       " 'f2zdp': [1, 2, 5, 6],\n",
       " 'g11s4': [6, 8],\n",
       " 'wlxkr': [1, 2, 5, 6],\n",
       " 'yyz24': [2, 3, 6, 8],\n",
       " 'kw3py': [0, 1, 2, 3, 5, 6],\n",
       " 'npbyd': [1, 2, 4, 5, 6, 7],\n",
       " 'w2rg4': [1, 2, 5, 6],\n",
       " 'zsx9a': [1, 2, 5, 6, 8],\n",
       " 'q48d0': [1, 2, 5, 6],\n",
       " '23dbq': [2, 5, 6, 8],\n",
       " 'm7ll2': [1, 2, 3, 5, 6, 8],\n",
       " '79gzl': [1, 2, 3, 4, 5, 6],\n",
       " 'rs1xg': [1, 2, 4, 5, 6, 7],\n",
       " '8j0rc': [1, 2, 4, 5, 6, 7],\n",
       " 'kxm7c': [1, 2, 5, 6],\n",
       " 'bgsqq': [1, 2, 3, 5, 6],\n",
       " 'hyhdg': [1, 2, 5, 6],\n",
       " 'xo689': [1, 2, 5, 6],\n",
       " 'd2wxj': [1, 2, 4, 5, 6],\n",
       " '6jvtf': [1, 2, 3, 4, 5, 6, 7],\n",
       " 'mwykh': [1, 2, 5, 6],\n",
       " 'mj5o0': [1, 2, 5, 6],\n",
       " 'woslg': [1, 2, 3, 5, 6, 8],\n",
       " '8j0cb': [3],\n",
       " 'pyjhx': [1, 2, 5, 6],\n",
       " 'u7x3q': [0, 1, 2, 5, 6, 8],\n",
       " 'lidre': [6, 8],\n",
       " '7qr5j': [1, 2, 5, 6],\n",
       " 'z8pik': [1, 2, 4, 5, 6],\n",
       " 'ozagq': [1, 2, 5, 6],\n",
       " '9mu01': [1, 2, 4, 5, 6, 7],\n",
       " 'hqe2a': [1, 2, 5, 6],\n",
       " '96xnn': [1, 2, 3, 4, 5, 6],\n",
       " 'uuab2': [1, 2, 3, 5, 6, 8],\n",
       " '7bavu': [1, 2, 5, 6],\n",
       " 'kfh6v': [1, 2, 5, 6],\n",
       " '8438w': [1, 2, 3, 4, 5, 6, 7],\n",
       " 'iut3h': [5, 6],\n",
       " 'ikjv0': [0, 2, 3, 5, 6, 8],\n",
       " 'bp50e': [1, 2, 4, 5, 6, 8],\n",
       " 'hms2b': [1, 2, 5, 6],\n",
       " '350m1': [1, 2, 4, 5, 6, 7],\n",
       " 'vdi9t': [1, 2, 4, 5, 6],\n",
       " 'zf0zo': [1, 2, 3, 4, 5, 6, 7],\n",
       " 'mq3if': [2, 5, 6, 8],\n",
       " '8wjeu': [0, 3, 8],\n",
       " '649kt': [1, 2, 3, 5, 6, 8],\n",
       " '6zfh7': [1, 2, 3, 4, 5, 7],\n",
       " '6yg21': [1, 2, 5, 6, 7],\n",
       " '0maca': [1, 2, 5, 6],\n",
       " '9n1cb': [1, 2, 4, 5, 6, 7],\n",
       " 'pqdoa': [1, 2, 4, 5, 6, 7],\n",
       " 'dyf6p': [1, 2, 5, 6, 8],\n",
       " '3l16a': [5],\n",
       " 'itpyh': [1, 2, 3, 4, 5, 6],\n",
       " 'rfcos': [0, 3, 8],\n",
       " 'j0rok': [1, 2, 3, 5, 6],\n",
       " 'c383h': [1, 2, 3, 4, 5, 6, 7],\n",
       " '1pdge': [0, 1, 2, 5, 6, 8],\n",
       " 'fwr4n': [1, 2, 3, 5, 6, 8],\n",
       " 'q1yqb': [8],\n",
       " 'jikdj': [1, 2, 5, 6, 8],\n",
       " 'wk8nk': [1, 2, 4, 5, 6, 7],\n",
       " 'ialgn': [1, 2, 3, 5, 6, 8],\n",
       " 'swnvb': [1, 2, 3, 5, 6, 7],\n",
       " 'k0knx': [1, 2, 5, 6],\n",
       " 'ye98v': [1, 2, 5, 6],\n",
       " '7jp8y': [1, 2, 3, 4, 5, 6],\n",
       " 'kuyu9': [1, 2, 3, 4, 5, 6, 7],\n",
       " 'ilfwj': [6, 8],\n",
       " 'nywzc': [1, 2, 5, 6, 8],\n",
       " 'voba7': [0, 8],\n",
       " 'jyvqv': [1, 2, 5, 6],\n",
       " 'if6zr': [1, 2, 5, 6],\n",
       " 'lox99': [1, 2, 5, 6],\n",
       " '5repx': [1, 2, 4, 5, 6, 7, 8],\n",
       " 'z7hxq': [1, 2, 3, 5, 6, 8],\n",
       " 'mdmlm': [1, 2, 3, 4, 5, 6, 7, 8],\n",
       " 'qd35j': [3, 4, 5, 6, 8],\n",
       " 'r4t9g': [1, 2, 3, 5, 6],\n",
       " '59bk7': [1, 2, 5, 6],\n",
       " 'sc92v': [8],\n",
       " 'bjhkq': [1, 2, 3, 4, 5, 6, 7],\n",
       " 'go91c': [2, 5, 6, 8],\n",
       " '3e3ov': [5, 6, 8],\n",
       " 'mg5p6': [1, 2, 3, 4, 5, 6],\n",
       " 'plxbw': [1, 2, 4, 5, 6],\n",
       " 'fq2v2': [1, 2, 4, 5, 6, 7],\n",
       " '2j9qa': [1, 2, 5, 6],\n",
       " 'tpmr6': [1, 2, 5, 6, 8],\n",
       " '4zhac': [1, 2, 3, 4, 5, 6, 7],\n",
       " 'nvszg': [3, 5, 6, 8],\n",
       " 'ctno8': [1, 2, 4, 5, 6, 7],\n",
       " 'nbgnn': [2, 3, 6, 8],\n",
       " 'crjol': [2, 5, 6, 8],\n",
       " '1lyyo': [1, 2, 5, 6, 8],\n",
       " '0x9my': [1, 2, 3, 4, 5, 6],\n",
       " 'weti3': [2, 5, 6, 8],\n",
       " 'g7kyk': [1, 2, 3, 5, 6],\n",
       " 'ctno3': [1, 2, 5, 6],\n",
       " 'w0p5r': [1, 2, 3, 5, 6],\n",
       " 'x2a92': [1, 2, 5, 6, 7],\n",
       " 'dbjxf': [1, 2, 3, 4, 5, 6, 7],\n",
       " '0h8d5': [1, 2, 4, 6, 7, 8],\n",
       " '0h8d4': [1, 2, 4, 5, 6],\n",
       " 'w8pfl': [1, 2, 5, 6, 7],\n",
       " 'weawj': [1, 2, 3, 4, 5, 6, 7],\n",
       " '693is': [1, 2, 5, 6, 8],\n",
       " 'oxcaf': [1, 2, 5, 6],\n",
       " 'u9uje': [1, 2, 5, 6],\n",
       " 'laal7': [1, 2, 3, 4, 5, 6, 7],\n",
       " 't4qx0': [0, 6, 8],\n",
       " 'pzf98': [2, 3, 4, 5],\n",
       " 'drafo': [3, 5, 6, 8],\n",
       " 'b1qqp': [8],\n",
       " 'd5jut': [1, 2, 5, 6],\n",
       " 'qx4nc': [2, 5, 6, 8],\n",
       " 'hm3fz': [1, 2, 3, 4, 5, 6],\n",
       " '026nc': [1, 2, 5, 6, 7],\n",
       " 'twywe': [1, 2, 4, 5, 6, 7],\n",
       " 'wl1z6': [1, 2, 3, 5, 6],\n",
       " '4apr2': [4, 5, 6, 8],\n",
       " 'k70d0': [1, 2, 3, 4, 5, 6, 7],\n",
       " 'cks78': [1, 2, 3, 4, 5, 6, 7],\n",
       " 'wdjua': [1, 5, 6],\n",
       " 'nmtih': [1, 2, 3, 5, 6],\n",
       " 'npip2': [],\n",
       " 'ff8eg': [1, 2, 3, 5, 6, 7],\n",
       " '36btp': [2, 3, 5, 6, 8],\n",
       " '30sn8': [1, 2, 3, 4, 5, 6, 7],\n",
       " 'h7bzo': [1, 2, 5, 6, 7],\n",
       " 'ij60k': [1, 2, 4, 5, 6],\n",
       " '9iems': [0, 3, 5],\n",
       " '4nwyt': [1, 2, 3, 4, 5, 6, 7, 8],\n",
       " 'indyg': [1, 2, 5, 6],\n",
       " 'nvphe': [8],\n",
       " '4hkpt': [1, 2, 3, 6, 7],\n",
       " 'vc29h': [1, 2, 4, 5, 6, 8],\n",
       " 'f5690': [1, 2, 3, 4, 5, 6, 7],\n",
       " 's09vu': [1, 2, 5],\n",
       " 'cpxub': [0, 3, 8],\n",
       " 'dq2ym': [0, 8],\n",
       " '9o6qt': [1, 2, 3, 5, 6],\n",
       " 'jv0pr': [1, 2, 4, 5, 6],\n",
       " '9ue7h': [1, 2, 3, 4, 5, 6, 7],\n",
       " 'vmdvv': [1, 5, 6, 8],\n",
       " 'jxope': [1, 2, 5, 6],\n",
       " 'r1e7i': [1, 2, 5, 6],\n",
       " '9xhs9': [1, 2, 5, 6],\n",
       " '7lyxb': [1, 2, 4, 5, 6],\n",
       " '6jsrb': [1, 2, 3, 5, 6],\n",
       " '9s8uo': [1, 2, 3, 5, 6],\n",
       " 'sdiep': [1, 2, 5, 6],\n",
       " 'c9uub': [1, 2, 5, 6, 8],\n",
       " '7rt2m': [2, 3, 4, 5, 6, 8],\n",
       " 'w6hgt': [1, 2, 8],\n",
       " 'bkgin': [1, 2, 5, 6, 8],\n",
       " '2pnu5': [3, 5, 6, 8],\n",
       " '0mreo': [1, 2, 5, 6, 7],\n",
       " 'v3ilv': [1, 2, 6, 8],\n",
       " 'r70q9': [1, 2, 3, 4, 5, 6, 7],\n",
       " 'oyjn0': [1, 2, 4, 5, 6, 7],\n",
       " 'ne01j': [1, 5, 6],\n",
       " 'gs2hm': [1, 2, 3, 4, 5, 6, 7],\n",
       " '7f5n9': [1, 2, 5, 6],\n",
       " 'o0et8': [1, 2, 3, 4, 5, 6, 7],\n",
       " 'ttalp': [5, 6, 8],\n",
       " '9qdsb': [2, 3, 4, 5, 6, 7],\n",
       " '0oq6q': [1, 2, 3, 5, 6],\n",
       " '69010': [1, 2, 3, 5, 6],\n",
       " 'jblze': [1, 2, 3, 5, 6, 8],\n",
       " '6ssbi': [1, 2, 5, 6],\n",
       " 'lgb2w': [1, 2, 5, 6],\n",
       " 'kdi6e': [1, 2, 3, 4, 5, 6, 7],\n",
       " 'orgf3': [1, 2, 4, 5, 6, 7],\n",
       " '11aib': [1, 2, 4, 5, 6, 7],\n",
       " '698t0': [1, 2, 3, 4, 6, 7],\n",
       " '42chg': [1, 2, 5, 6],\n",
       " '6mida': [1, 2, 3, 4, 5, 6],\n",
       " 'gawn7': [2, 3, 5, 6],\n",
       " 'hj5x4': [2, 6, 8],\n",
       " '5ltvs': [1, 2, 3, 4, 5, 6, 7],\n",
       " '6khuf': [1, 5, 7],\n",
       " '3dgri': [1, 2, 4, 5, 6, 7],\n",
       " 'cic9r': [1, 2, 5, 6, 7],\n",
       " 'qojn7': [1, 2, 3, 4, 5, 6, 7],\n",
       " 'wm9fe': [1, 2, 4, 5, 6],\n",
       " 'rljgv': [1, 2, 5, 6],\n",
       " 'jddiu': [5, 6, 8],\n",
       " 'yk34t': [1, 2, 3, 4, 5, 6],\n",
       " 'qlonu': [0, 2, 5, 6, 8],\n",
       " '3imha': [1, 2, 5, 6],\n",
       " 'mbpr2': [1, 2, 4, 5, 6, 7],\n",
       " 'g1j4j': [1, 2, 5, 6, 8],\n",
       " 'b5qd0': [1, 2, 5, 6],\n",
       " '8w266': [1, 2, 3, 4, 5, 6],\n",
       " '5qz8x': [1, 2, 3, 5, 6],\n",
       " '6vk9w': [1, 2, 5, 6],\n",
       " '00er5': [1, 2, 3, 5, 6, 8],\n",
       " 'rbyck': [1, 2, 5, 6],\n",
       " 'ggobq': [1, 2, 6, 8],\n",
       " 'uij9v': [5, 6, 8],\n",
       " '1ta3y': [1, 2, 5, 6, 8],\n",
       " 'h5555': [1, 2, 5, 6],\n",
       " 'wueke': [1, 2, 5, 6],\n",
       " 'm5n21': [1, 2, 4, 6, 8],\n",
       " 'je74r': [1, 2, 4, 5, 6],\n",
       " 'qocvw': [1, 2, 3, 5, 6, 7],\n",
       " 'yafre': [1, 2, 4, 5, 6, 7],\n",
       " 'bmrn0': [1, 2, 5, 6, 8],\n",
       " 'ua7yn': [1, 2, 3, 5, 6],\n",
       " '40b18': [1, 2, 3, 5, 6],\n",
       " 'n9j1z': [0, 3, 8],\n",
       " 'qdg5a': [6, 8],\n",
       " 'xle7a': [1, 2, 4, 5, 6, 7],\n",
       " 'd0duk': [3, 4],\n",
       " '64it1': [0, 3, 8],\n",
       " 'oahb1': [1, 2, 3, 5, 6, 8],\n",
       " '5ffru': [3, 8],\n",
       " 'rsfms': [1, 2, 4, 5, 6],\n",
       " 'kz6hl': [0, 3, 8],\n",
       " '6vgxa': [5, 6, 8],\n",
       " '0nq8g': [5, 6],\n",
       " 'wn5cs': [1, 2, 3, 5, 6],\n",
       " 'p838b': [1, 2, 5, 6],\n",
       " 'zg39i': [1, 2, 4, 6, 7, 8],\n",
       " 'apmkq': [1, 2, 3, 5, 6],\n",
       " '9im2h': [1, 2, 3, 4, 5, 6],\n",
       " 'h1z46': [1, 2, 3, 5, 6],\n",
       " 'l5oqr': [2, 3, 6, 8],\n",
       " '8l7ur': [1, 2, 5, 6, 7],\n",
       " 'qs5l6': [1, 2, 5, 6],\n",
       " 'uj80t': [1, 2, 3, 5, 6],\n",
       " '5qjc3': [0, 3],\n",
       " 'owp2y': [2, 5, 6, 8],\n",
       " ...}"
      ]
     },
     "execution_count": 155,
     "metadata": {},
     "output_type": "execute_result"
    }
   ],
   "source": [
    "test_bid_to_labels"
   ]
  },
  {
   "cell_type": "code",
   "execution_count": 156,
   "metadata": {
    "collapsed": true
   },
   "outputs": [],
   "source": [
    "with open('../data/submission_002.csv', 'w') as sfile:\n",
    "    sfile.write('business_id,labels\\n')\n",
    "    for bid, labels in test_bid_to_labels.items():\n",
    "        labels_str = [str(l) for l in labels]\n",
    "        line = '{bid},{labels}\\n'.format(bid=bid, labels=' '.join(labels_str))\n",
    "        sfile.write(line)"
   ]
  },
  {
   "cell_type": "code",
   "execution_count": 157,
   "metadata": {
    "collapsed": false
   },
   "outputs": [
    {
     "name": "stdout",
     "output_type": "stream",
     "text": [
      "business_id,labels\r\n",
      "af0iy,3 6 8\r\n",
      "s4n0d,1 2 3 4 5 6\r\n",
      "s1e3l,1 2 4 5 6 7\r\n",
      "yinms,1 2 5 6\r\n",
      "3i26e,1 2 4 5 6 8\r\n",
      "rl851,0 8\r\n",
      "0zrov,1 2 5 6\r\n",
      "ean2c,1 2 5 6 7\r\n",
      "toisr,2 5 6\r\n"
     ]
    }
   ],
   "source": [
    "!head ../data/submission_002.csv"
   ]
  },
  {
   "cell_type": "code",
   "execution_count": 158,
   "metadata": {
    "collapsed": false
   },
   "outputs": [
    {
     "name": "stdout",
     "output_type": "stream",
     "text": [
      "   10001 ../data/submission_002.csv\r\n"
     ]
    }
   ],
   "source": [
    "!wc -l ../data/submission_002.csv"
   ]
  },
  {
   "cell_type": "code",
   "execution_count": null,
   "metadata": {
    "collapsed": true
   },
   "outputs": [],
   "source": []
  }
 ],
 "metadata": {
  "kernelspec": {
   "display_name": "Python 2",
   "language": "python",
   "name": "python2"
  },
  "language_info": {
   "codemirror_mode": {
    "name": "ipython",
    "version": 2
   },
   "file_extension": ".py",
   "mimetype": "text/x-python",
   "name": "python",
   "nbconvert_exporter": "python",
   "pygments_lexer": "ipython2",
   "version": "2.7.10"
  }
 },
 "nbformat": 4,
 "nbformat_minor": 0
}
