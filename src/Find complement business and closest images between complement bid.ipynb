{
 "cells": [
  {
   "cell_type": "markdown",
   "metadata": {},
   "source": [
    "Main idea:\n",
    "* keep only businesses with a given attribute A\n",
    "* find complement businesses b1 and b2, ie b1 and b2 such as hamming(d1, d2) is maximum. b1 and b2 should have only one attribute in common (A).\n",
    "* find the closest photos between b1 and b2, p1 and p2: as they have only one attribute in common, we assume that p1 and p2 also have this attribute.\n",
    "* find other similar photos to p1 and p2: all those images are supposed to have the attribute A.\n",
    "\n",
    "-> that gives the positive training set.\n",
    "\n",
    "* For negative training set, just use all images of business that don't have the attribute A."
   ]
  },
  {
   "cell_type": "code",
   "execution_count": 43,
   "metadata": {
    "collapsed": true
   },
   "outputs": [],
   "source": [
    "import numpy as np\n",
    "import pandas as pd\n",
    "import os\n",
    "from collections import defaultdict"
   ]
  },
  {
   "cell_type": "code",
   "execution_count": 2,
   "metadata": {
    "collapsed": true
   },
   "outputs": [],
   "source": [
    "gnet_train = np.load('../data/models/features/googlenet/train_pool5_7x7_s1.npy')"
   ]
  },
  {
   "cell_type": "code",
   "execution_count": 3,
   "metadata": {
    "collapsed": false
   },
   "outputs": [
    {
     "data": {
      "text/plain": [
       "(234842, 1024)"
      ]
     },
     "execution_count": 3,
     "metadata": {},
     "output_type": "execute_result"
    }
   ],
   "source": [
    "gnet_train.shape"
   ]
  },
  {
   "cell_type": "code",
   "execution_count": 4,
   "metadata": {
    "collapsed": false
   },
   "outputs": [],
   "source": [
    "train_pids = []\n",
    "with open('../data/train.list', 'r') as lfile:\n",
    "    for line in lfile:\n",
    "        _, filename = os.path.split(line)\n",
    "        pid_str, _ = os.path.splitext(filename)\n",
    "        train_pids.append(int(pid_str))"
   ]
  },
  {
   "cell_type": "code",
   "execution_count": 5,
   "metadata": {
    "collapsed": false
   },
   "outputs": [
    {
     "data": {
      "text/plain": [
       "234842"
      ]
     },
     "execution_count": 5,
     "metadata": {},
     "output_type": "execute_result"
    }
   ],
   "source": [
    "len(train_pids)"
   ]
  },
  {
   "cell_type": "code",
   "execution_count": 48,
   "metadata": {
    "collapsed": true
   },
   "outputs": [],
   "source": [
    "train_pid_to_index = {pid: i for i, pid in enumerate(train_pids)}"
   ]
  },
  {
   "cell_type": "code",
   "execution_count": 6,
   "metadata": {
    "collapsed": true
   },
   "outputs": [],
   "source": [
    "train_df_bid_labels = pd.read_csv('../data/raw/train.csv')"
   ]
  },
  {
   "cell_type": "code",
   "execution_count": 7,
   "metadata": {
    "collapsed": true
   },
   "outputs": [],
   "source": [
    "train_df_pid_bid = pd.read_csv('../data/raw/train_photo_to_biz_ids.csv')"
   ]
  },
  {
   "cell_type": "code",
   "execution_count": 8,
   "metadata": {
    "collapsed": true
   },
   "outputs": [],
   "source": [
    "train_pid_to_bid = dict(zip(train_df_pid_bid.photo_id, train_df_pid_bid.business_id))"
   ]
  },
  {
   "cell_type": "code",
   "execution_count": 44,
   "metadata": {
    "collapsed": true
   },
   "outputs": [],
   "source": [
    "train_bid_to_pids = defaultdict(list)\n",
    "for pid, bid in train_pid_to_bid.items():\n",
    "    train_bid_to_pids[bid].append(pid)"
   ]
  },
  {
   "cell_type": "code",
   "execution_count": 9,
   "metadata": {
    "collapsed": true
   },
   "outputs": [],
   "source": [
    "train_df_bid_labels = train_df_bid_labels.dropna()"
   ]
  },
  {
   "cell_type": "code",
   "execution_count": 10,
   "metadata": {
    "collapsed": true
   },
   "outputs": [],
   "source": [
    "bid_to_labels_str = dict(zip(train_df_bid_labels.business_id, train_df_bid_labels['labels']))"
   ]
  },
  {
   "cell_type": "code",
   "execution_count": 11,
   "metadata": {
    "collapsed": true
   },
   "outputs": [],
   "source": [
    "bid_to_labels = dict()\n",
    "for bid, labels_str in bid_to_labels_str.items():\n",
    "    bid_to_labels[bid] = [int(l) for l in labels_str.split()]"
   ]
  },
  {
   "cell_type": "code",
   "execution_count": 12,
   "metadata": {
    "collapsed": true
   },
   "outputs": [],
   "source": [
    "def binarize(labels, size=9):\n",
    "    ohe = np.zeros((9,))\n",
    "    for l in labels:\n",
    "        ohe[l] = 1\n",
    "    return ohe"
   ]
  },
  {
   "cell_type": "code",
   "execution_count": 13,
   "metadata": {
    "collapsed": true
   },
   "outputs": [],
   "source": [
    "bid_to_bin_labels = dict()\n",
    "for bid, labels in bid_to_labels.items():\n",
    "    bid_to_bin_labels[bid] = binarize(labels)"
   ]
  },
  {
   "cell_type": "code",
   "execution_count": 16,
   "metadata": {
    "collapsed": false
   },
   "outputs": [],
   "source": [
    "bid_att3_to_bin_labels = {bid: labels for bid, labels in bid_to_bin_labels.items() if labels[3]==1}"
   ]
  },
  {
   "cell_type": "code",
   "execution_count": 17,
   "metadata": {
    "collapsed": false
   },
   "outputs": [
    {
     "data": {
      "text/plain": [
       "1003"
      ]
     },
     "execution_count": 17,
     "metadata": {},
     "output_type": "execute_result"
    }
   ],
   "source": [
    "len(bid_att3_to_bin_labels)"
   ]
  },
  {
   "cell_type": "code",
   "execution_count": 22,
   "metadata": {
    "collapsed": false
   },
   "outputs": [],
   "source": [
    "distance_bid_bid = np.zeros((len(bid_att3_to_bin_labels), len(bid_att3_to_bin_labels)))"
   ]
  },
  {
   "cell_type": "code",
   "execution_count": 23,
   "metadata": {
    "collapsed": false
   },
   "outputs": [],
   "source": [
    "for i, (bid_i, labels_i) in enumerate(bid_att3_to_bin_labels.items()):\n",
    "    for j, (bid_j, labels_j) in enumerate(bid_att3_to_bin_labels.items()):\n",
    "        distance_bid_bid[i][j] = np.sum(np.abs(labels_i - labels_j))"
   ]
  },
  {
   "cell_type": "code",
   "execution_count": 39,
   "metadata": {
    "collapsed": false
   },
   "outputs": [
    {
     "data": {
      "text/plain": [
       "19151"
      ]
     },
     "execution_count": 39,
     "metadata": {},
     "output_type": "execute_result"
    }
   ],
   "source": [
    "np.count_nonzero(distance_bid_bid == 8)/2"
   ]
  },
  {
   "cell_type": "code",
   "execution_count": 29,
   "metadata": {
    "collapsed": true
   },
   "outputs": [],
   "source": [
    "index_to_bid = {i: bid for i, (bid, _) in enumerate(bid_att3_to_bin_labels.items())}"
   ]
  },
  {
   "cell_type": "code",
   "execution_count": 30,
   "metadata": {
    "collapsed": false
   },
   "outputs": [
    {
     "data": {
      "text/plain": [
       "2048"
      ]
     },
     "execution_count": 30,
     "metadata": {},
     "output_type": "execute_result"
    }
   ],
   "source": [
    "index_to_bid[0]"
   ]
  },
  {
   "cell_type": "code",
   "execution_count": 41,
   "metadata": {
    "collapsed": false
   },
   "outputs": [
    {
     "data": {
      "text/plain": [
       "2414"
      ]
     },
     "execution_count": 41,
     "metadata": {},
     "output_type": "execute_result"
    }
   ],
   "source": [
    "index_to_bid[168]"
   ]
  },
  {
   "cell_type": "code",
   "execution_count": 47,
   "metadata": {
    "collapsed": false
   },
   "outputs": [
    {
     "data": {
      "text/plain": [
       "[33603,\n",
       " 88519,\n",
       " 183760,\n",
       " 199281,\n",
       " 221362,\n",
       " 261927,\n",
       " 262361,\n",
       " 300266,\n",
       " 334291,\n",
       " 339738,\n",
       " 340489,\n",
       " 340559,\n",
       " 350462,\n",
       " 459820]"
      ]
     },
     "execution_count": 47,
     "metadata": {},
     "output_type": "execute_result"
    }
   ],
   "source": [
    "train_bid_to_pids[2414]"
   ]
  },
  {
   "cell_type": "code",
   "execution_count": 49,
   "metadata": {
    "collapsed": true
   },
   "outputs": [],
   "source": [
    "from scipy.spatial.distance import euclidean"
   ]
  },
  {
   "cell_type": "code",
   "execution_count": 60,
   "metadata": {
    "collapsed": true
   },
   "outputs": [],
   "source": [
    "def get_closest(pids1, pids2, train_pid_to_index, gnet_train):\n",
    "    closest_distance = 10000000\n",
    "    c1, c2 = 0, 0\n",
    "    for p1 in pids1:\n",
    "        for p2 in pids2:\n",
    "            if p1 != p2:\n",
    "                if p1 in train_pid_to_index and p2 in train_pid_to_index:\n",
    "                    d = euclidean(gnet_train[train_pid_to_index[p1]], gnet_train[train_pid_to_index[p2]])\n",
    "                    if d < closest_distance:\n",
    "                        closest_distance = d\n",
    "                        c1, c2 = p1, p2\n",
    "    return c1, c2, closest_distance"
   ]
  },
  {
   "cell_type": "code",
   "execution_count": 61,
   "metadata": {
    "collapsed": false
   },
   "outputs": [
    {
     "data": {
      "text/plain": [
       "(339738, 95344, 22.757676456475686)"
      ]
     },
     "execution_count": 61,
     "metadata": {},
     "output_type": "execute_result"
    }
   ],
   "source": [
    "get_closest(train_bid_to_pids[2414], train_bid_to_pids[2048], train_pid_to_index, gnet_train)"
   ]
  },
  {
   "cell_type": "code",
   "execution_count": 62,
   "metadata": {
    "collapsed": false
   },
   "outputs": [
    {
     "data": {
      "text/plain": [
       "(72491, 255870, 10.933053092260215)"
      ]
     },
     "execution_count": 62,
     "metadata": {},
     "output_type": "execute_result"
    }
   ],
   "source": [
    "get_closest(train_bid_to_pids[2048], train_bid_to_pids[2048], train_pid_to_index, gnet_train)"
   ]
  },
  {
   "cell_type": "code",
   "execution_count": 69,
   "metadata": {
    "collapsed": true
   },
   "outputs": [],
   "source": [
    "def get_close(p1, p2, pids, train_pid_to_index, gnet_train, d_max):\n",
    "    close = []\n",
    "    for p in pids:\n",
    "        if p in train_pid_to_index:\n",
    "            d1 = euclidean(gnet_train[train_pid_to_index[p]], gnet_train[train_pid_to_index[p1]])\n",
    "            d2 = euclidean(gnet_train[train_pid_to_index[p]], gnet_train[train_pid_to_index[p2]])\n",
    "            if d1 < d_max and d2 < d_max:\n",
    "                close.append(p)\n",
    "    return close"
   ]
  },
  {
   "cell_type": "code",
   "execution_count": 70,
   "metadata": {
    "collapsed": false
   },
   "outputs": [
    {
     "data": {
      "text/plain": [
       "[183760,\n",
       " 261927,\n",
       " 300266,\n",
       " 339738,\n",
       " 350462,\n",
       " 22560,\n",
       " 69893,\n",
       " 76395,\n",
       " 88548,\n",
       " 95344,\n",
       " 114380,\n",
       " 207253,\n",
       " 320679]"
      ]
     },
     "execution_count": 70,
     "metadata": {},
     "output_type": "execute_result"
    }
   ],
   "source": [
    "get_close(95344, 339738, train_bid_to_pids[2414] + train_bid_to_pids[2048], train_pid_to_index, gnet_train, 22.75*1.5)"
   ]
  },
  {
   "cell_type": "code",
   "execution_count": null,
   "metadata": {
    "collapsed": true
   },
   "outputs": [],
   "source": []
  },
  {
   "cell_type": "code",
   "execution_count": null,
   "metadata": {
    "collapsed": true
   },
   "outputs": [],
   "source": []
  },
  {
   "cell_type": "code",
   "execution_count": null,
   "metadata": {
    "collapsed": true
   },
   "outputs": [],
   "source": []
  },
  {
   "cell_type": "code",
   "execution_count": null,
   "metadata": {
    "collapsed": true
   },
   "outputs": [],
   "source": []
  },
  {
   "cell_type": "code",
   "execution_count": 32,
   "metadata": {
    "collapsed": false
   },
   "outputs": [
    {
     "data": {
      "text/plain": [
       "array([ 0.,  0.,  0.,  1.,  0.,  0.,  0.,  0.,  1.])"
      ]
     },
     "execution_count": 32,
     "metadata": {},
     "output_type": "execute_result"
    }
   ],
   "source": [
    "bid_att3_to_bin_labels[2048]"
   ]
  },
  {
   "cell_type": "code",
   "execution_count": 42,
   "metadata": {
    "collapsed": false
   },
   "outputs": [
    {
     "data": {
      "text/plain": [
       "array([ 1.,  1.,  1.,  1.,  1.,  1.,  1.,  1.,  0.])"
      ]
     },
     "execution_count": 42,
     "metadata": {},
     "output_type": "execute_result"
    }
   ],
   "source": [
    "bid_att3_to_bin_labels[2414]"
   ]
  },
  {
   "cell_type": "code",
   "execution_count": null,
   "metadata": {
    "collapsed": true
   },
   "outputs": [],
   "source": []
  },
  {
   "cell_type": "code",
   "execution_count": 35,
   "metadata": {
    "collapsed": false
   },
   "outputs": [
    {
     "data": {
      "text/plain": [
       "1.0"
      ]
     },
     "execution_count": 35,
     "metadata": {},
     "output_type": "execute_result"
    }
   ],
   "source": [
    "distance_bid_bid[0][1]"
   ]
  },
  {
   "cell_type": "code",
   "execution_count": 37,
   "metadata": {
    "collapsed": false
   },
   "outputs": [
    {
     "data": {
      "text/plain": [
       "array([ 0.,  0.,  0.,  0.,  0., -1.,  0.,  0.,  0.])"
      ]
     },
     "execution_count": 37,
     "metadata": {},
     "output_type": "execute_result"
    }
   ],
   "source": [
    "bid_att3_to_bin_labels[2048] - bid_att3_to_bin_labels[2049]"
   ]
  },
  {
   "cell_type": "code",
   "execution_count": 36,
   "metadata": {
    "collapsed": false
   },
   "outputs": [
    {
     "data": {
      "text/plain": [
       "1.0"
      ]
     },
     "execution_count": 36,
     "metadata": {},
     "output_type": "execute_result"
    }
   ],
   "source": [
    "np.sum(np.abs(bid_att3_to_bin_labels[2048] - bid_att3_to_bin_labels[2049]))"
   ]
  },
  {
   "cell_type": "code",
   "execution_count": 40,
   "metadata": {
    "collapsed": false
   },
   "outputs": [
    {
     "data": {
      "text/plain": [
       "(array([   0,    0,    0, ...,  997, 1002, 1002]),\n",
       " array([168, 270, 763, ..., 763, 421, 892]))"
      ]
     },
     "execution_count": 40,
     "metadata": {},
     "output_type": "execute_result"
    }
   ],
   "source": [
    "np.where(distance_bid_bid == 8)"
   ]
  },
  {
   "cell_type": "code",
   "execution_count": null,
   "metadata": {
    "collapsed": true
   },
   "outputs": [],
   "source": []
  },
  {
   "cell_type": "code",
   "execution_count": null,
   "metadata": {
    "collapsed": true
   },
   "outputs": [],
   "source": [
    "for i, (bid_i, labels_i) in enumerate(bid_att3_to_bin_labels.items()):"
   ]
  },
  {
   "cell_type": "code",
   "execution_count": 14,
   "metadata": {
    "collapsed": false
   },
   "outputs": [],
   "source": [
    "y_train = np.zeros((len(train_pids), 9))\n",
    "missings = []\n",
    "for i, pid in enumerate(train_pids):\n",
    "    bid = train_pid_to_bid[pid]\n",
    "    if bid in bid_to_bin_labels:\n",
    "        y_train[i] = bid_to_bin_labels[bid]\n",
    "    else:\n",
    "        missings.append(i)"
   ]
  },
  {
   "cell_type": "code",
   "execution_count": 105,
   "metadata": {
    "collapsed": false
   },
   "outputs": [
    {
     "name": "stdout",
     "output_type": "stream",
     "text": [
      "Cluster 0: 2435\n",
      "Cluster 1: 3292\n",
      "Cluster 2: 2324\n",
      "Cluster 3: 895\n",
      "Cluster 4: 1733\n",
      "Cluster 5: 3360\n",
      "Cluster 6: 2\n",
      "Cluster 7: 1714\n",
      "Cluster 8: 2754\n",
      "Cluster 9: 2952\n",
      "Cluster 10: 410\n",
      "Cluster 11: 2090\n",
      "Cluster 12: 1051\n",
      "Cluster 13: 1700\n",
      "Cluster 14: 1734\n",
      "Cluster 15: 2075\n",
      "Cluster 16: 5\n",
      "Cluster 17: 2\n",
      "Cluster 18: 12\n",
      "Cluster 19: 1\n",
      "Cluster 20: 3553\n",
      "Cluster 21: 2213\n",
      "Cluster 22: 24\n",
      "Cluster 23: 2\n",
      "Cluster 24: 415\n",
      "Cluster 25: 1057\n",
      "Cluster 26: 1965\n",
      "Cluster 27: 2489\n",
      "Cluster 28: 2302\n",
      "Cluster 29: 3\n",
      "Cluster 30: 15\n",
      "Cluster 31: 1\n",
      "Cluster 32: 1667\n",
      "Cluster 33: 3912\n",
      "Cluster 34: 2152\n",
      "Cluster 35: 2103\n",
      "Cluster 36: 4\n",
      "Cluster 37: 4054\n",
      "Cluster 38: 2640\n",
      "Cluster 39: 764\n",
      "Cluster 40: 5\n",
      "Cluster 41: 328\n",
      "Cluster 42: 2\n",
      "Cluster 43: 3\n",
      "Cluster 44: 2621\n",
      "Cluster 45: 2\n",
      "Cluster 46: 1\n",
      "Cluster 47: 3930\n",
      "Cluster 48: 1579\n",
      "Cluster 49: 270\n",
      "Cluster 50: 830\n",
      "Cluster 51: 1782\n",
      "Cluster 52: 3909\n",
      "Cluster 53: 9\n",
      "Cluster 54: 5\n",
      "Cluster 55: 2729\n",
      "Cluster 56: 3679\n",
      "Cluster 57: 19\n",
      "Cluster 58: 1\n",
      "Cluster 59: 1083\n",
      "Cluster 60: 4\n",
      "Cluster 61: 2\n",
      "Cluster 62: 364\n",
      "Cluster 63: 15\n",
      "Cluster 64: 1\n",
      "Cluster 65: 2504\n",
      "Cluster 66: 4\n",
      "Cluster 67: 2\n",
      "Cluster 68: 7\n",
      "Cluster 69: 1522\n",
      "Cluster 70: 3\n",
      "Cluster 71: 7\n",
      "Cluster 72: 2529\n",
      "Cluster 73: 4\n",
      "Cluster 74: 22\n",
      "Cluster 75: 3\n",
      "Cluster 76: 3293\n",
      "Cluster 77: 661\n",
      "Cluster 78: 980\n",
      "Cluster 79: 11\n",
      "Cluster 80: 391\n",
      "Cluster 81: 3754\n",
      "Cluster 82: 3\n",
      "Cluster 83: 1\n",
      "Cluster 84: 1\n",
      "Cluster 85: 419\n",
      "Cluster 86: 2\n",
      "Cluster 87: 1931\n",
      "Cluster 88: 2\n",
      "Cluster 89: 713\n",
      "Cluster 90: 1\n",
      "Cluster 91: 9\n",
      "Cluster 92: 1\n",
      "Cluster 93: 1480\n",
      "Cluster 94: 1381\n",
      "Cluster 95: 1661\n",
      "Cluster 96: 1\n",
      "Cluster 97: 2137\n",
      "Cluster 98: 3\n",
      "Cluster 99: 19\n",
      "Cluster 100: 1555\n",
      "Cluster 101: 3034\n",
      "Cluster 102: 785\n",
      "Cluster 103: 6\n",
      "Cluster 104: 3299\n",
      "Cluster 105: 324\n",
      "Cluster 106: 99\n",
      "Cluster 107: 2\n",
      "Cluster 108: 1718\n",
      "Cluster 109: 5\n",
      "Cluster 110: 367\n",
      "Cluster 111: 1\n",
      "Cluster 112: 1\n",
      "Cluster 113: 1231\n",
      "Cluster 114: 1660\n",
      "Cluster 115: 841\n",
      "Cluster 116: 18\n",
      "Cluster 117: 1082\n",
      "Cluster 118: 2265\n",
      "Cluster 119: 1221\n",
      "Cluster 120: 3523\n",
      "Cluster 121: 1447\n",
      "Cluster 122: 2088\n",
      "Cluster 123: 2\n",
      "Cluster 124: 977\n",
      "Cluster 125: 1\n",
      "Cluster 126: 1276\n",
      "Cluster 127: 2\n",
      "Cluster 128: 8\n",
      "Cluster 129: 6\n",
      "Cluster 130: 1\n",
      "Cluster 131: 1731\n",
      "Cluster 132: 1925\n",
      "Cluster 133: 1\n",
      "Cluster 134: 194\n",
      "Cluster 135: 5\n",
      "Cluster 136: 1642\n",
      "Cluster 137: 4669\n",
      "Cluster 138: 3\n",
      "Cluster 139: 3157\n",
      "Cluster 140: 1\n",
      "Cluster 141: 2628\n",
      "Cluster 142: 2\n",
      "Cluster 143: 236\n",
      "Cluster 144: 850\n",
      "Cluster 145: 7\n",
      "Cluster 146: 12\n",
      "Cluster 147: 1846\n",
      "Cluster 148: 5637\n",
      "Cluster 149: 4\n",
      "Cluster 150: 1\n",
      "Cluster 151: 5\n",
      "Cluster 152: 162\n",
      "Cluster 153: 1049\n",
      "Cluster 154: 27\n",
      "Cluster 155: 2\n",
      "Cluster 156: 2\n",
      "Cluster 157: 2826\n",
      "Cluster 158: 986\n",
      "Cluster 159: 834\n",
      "Cluster 160: 939\n",
      "Cluster 161: 1761\n",
      "Cluster 162: 16\n",
      "Cluster 163: 14\n",
      "Cluster 164: 277\n",
      "Cluster 165: 1907\n",
      "Cluster 166: 10\n",
      "Cluster 167: 6\n",
      "Cluster 168: 1305\n",
      "Cluster 169: 1\n",
      "Cluster 170: 2\n",
      "Cluster 171: 2585\n",
      "Cluster 172: 1\n",
      "Cluster 173: 1642\n",
      "Cluster 174: 42\n",
      "Cluster 175: 11\n",
      "Cluster 176: 1532\n",
      "Cluster 177: 2\n",
      "Cluster 178: 2430\n",
      "Cluster 179: 6\n",
      "Cluster 180: 1\n",
      "Cluster 181: 2\n",
      "Cluster 182: 3825\n",
      "Cluster 183: 1\n",
      "Cluster 184: 11\n",
      "Cluster 185: 1142\n",
      "Cluster 186: 431\n",
      "Cluster 187: 1374\n",
      "Cluster 188: 9\n",
      "Cluster 189: 2729\n",
      "Cluster 190: 445\n",
      "Cluster 191: 2215\n",
      "Cluster 192: 3\n",
      "Cluster 193: 3\n",
      "Cluster 194: 2\n",
      "Cluster 195: 3060\n",
      "Cluster 196: 13\n",
      "Cluster 197: 897\n",
      "Cluster 198: 9\n",
      "Cluster 199: 781\n",
      "Cluster 200: 2\n",
      "Cluster 201: 1\n",
      "Cluster 202: 8\n",
      "Cluster 203: 19\n",
      "Cluster 204: 3\n",
      "Cluster 205: 613\n",
      "Cluster 206: 1799\n",
      "Cluster 207: 2\n",
      "Cluster 208: 21\n",
      "Cluster 209: 1\n",
      "Cluster 210: 2\n",
      "Cluster 211: 51\n",
      "Cluster 212: 1198\n",
      "Cluster 213: 3\n",
      "Cluster 214: 7\n",
      "Cluster 215: 2209\n",
      "Cluster 216: 1044\n",
      "Cluster 217: 380\n",
      "Cluster 218: 5\n",
      "Cluster 219: 895\n",
      "Cluster 220: 2\n",
      "Cluster 221: 3\n",
      "Cluster 222: 2\n",
      "Cluster 223: 1265\n",
      "Cluster 224: 6\n",
      "Cluster 225: 15\n",
      "Cluster 226: 1820\n",
      "Cluster 227: 3\n",
      "Cluster 228: 626\n",
      "Cluster 229: 21\n",
      "Cluster 230: 1790\n",
      "Cluster 231: 1\n",
      "Cluster 232: 2220\n",
      "Cluster 233: 740\n",
      "Cluster 234: 1031\n",
      "Cluster 235: 1746\n",
      "Cluster 236: 142\n",
      "Cluster 237: 1\n",
      "Cluster 238: 4\n",
      "Cluster 239: 3\n",
      "Cluster 240: 2726\n",
      "Cluster 241: 877\n",
      "Cluster 242: 1\n",
      "Cluster 243: 878\n",
      "Cluster 244: 3122\n",
      "Cluster 245: 1943\n",
      "Cluster 246: 813\n",
      "Cluster 247: 1081\n",
      "Cluster 248: 1\n",
      "Cluster 249: 2157\n"
     ]
    }
   ],
   "source": [
    "scores_labels = np.zeros((n_clusters, 9))\n",
    "for i in range(X_train_s.shape[0]):\n",
    "    scores_labels[clusters[i]] += y_train[i]\n",
    "for i in range(n_clusters):\n",
    "    size = np.count_nonzero(clusters==i)\n",
    "    print(\"Cluster {c}: {n}\".format(c=i, n=size))\n",
    "    scores_labels[i] /= size"
   ]
  },
  {
   "cell_type": "code",
   "execution_count": 106,
   "metadata": {
    "collapsed": true
   },
   "outputs": [],
   "source": [
    "y_per_instances = y_train.copy()"
   ]
  },
  {
   "cell_type": "code",
   "execution_count": 107,
   "metadata": {
    "collapsed": false
   },
   "outputs": [],
   "source": [
    "y_per_instances = np.where(y_per_instances==1, -1, 0)"
   ]
  },
  {
   "cell_type": "code",
   "execution_count": 108,
   "metadata": {
    "collapsed": true
   },
   "outputs": [],
   "source": [
    "threshold_up = 0.8"
   ]
  },
  {
   "cell_type": "code",
   "execution_count": 109,
   "metadata": {
    "collapsed": true
   },
   "outputs": [],
   "source": [
    "threshold_down = 0.1"
   ]
  },
  {
   "cell_type": "code",
   "execution_count": 117,
   "metadata": {
    "collapsed": false
   },
   "outputs": [],
   "source": [
    "for i in range(X_train.shape[0]):\n",
    "    labels = y_train[i]\n",
    "    c = clusters[i]\n",
    "    for a in range(9):\n",
    "        if labels[a] != 0:\n",
    "            if scores_labels[c][a] > threshold_up:\n",
    "                y_per_instances[i][a] = 1\n",
    "            else:\n",
    "                y_per_instances[c][a] = -1"
   ]
  },
  {
   "cell_type": "code",
   "execution_count": 130,
   "metadata": {
    "collapsed": false
   },
   "outputs": [
    {
     "data": {
      "text/plain": [
       "9775"
      ]
     },
     "execution_count": 130,
     "metadata": {},
     "output_type": "execute_result"
    }
   ],
   "source": [
    "np.count_nonzero(y_per_instances[:, 8] == 1)"
   ]
  },
  {
   "cell_type": "code",
   "execution_count": null,
   "metadata": {
    "collapsed": true
   },
   "outputs": [],
   "source": []
  }
 ],
 "metadata": {
  "kernelspec": {
   "display_name": "Python 2",
   "language": "python",
   "name": "python2"
  },
  "language_info": {
   "codemirror_mode": {
    "name": "ipython",
    "version": 2
   },
   "file_extension": ".py",
   "mimetype": "text/x-python",
   "name": "python",
   "nbconvert_exporter": "python",
   "pygments_lexer": "ipython2",
   "version": "2.7.10"
  }
 },
 "nbformat": 4,
 "nbformat_minor": 0
}
