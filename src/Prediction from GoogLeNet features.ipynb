{
 "cells": [
  {
   "cell_type": "code",
   "execution_count": 1,
   "metadata": {
    "collapsed": true
   },
   "outputs": [],
   "source": [
    "import pandas as pd\n",
    "import numpy as np\n",
    "import matplotlib.pyplot as plt\n",
    "import os\n",
    "%matplotlib inline"
   ]
  },
  {
   "cell_type": "code",
   "execution_count": 13,
   "metadata": {
    "collapsed": true
   },
   "outputs": [],
   "source": [
    "gnet_all = np.load('../data/models/features/googlenet/train_pool5_7x7_s1.npy')"
   ]
  },
  {
   "cell_type": "code",
   "execution_count": 3,
   "metadata": {
    "collapsed": false
   },
   "outputs": [
    {
     "name": "stdout",
     "output_type": "stream",
     "text": [
      "train_photos_256x256_noise/262212.jpg\r\n",
      "train_photos_256x256_noise/333665.jpg\r\n",
      "train_photos_256x256_noise/421372.jpg\r\n",
      "train_photos_256x256_noise/394322.jpg\r\n"
     ]
    }
   ],
   "source": [
    "!head -n 4 ../data/train.list"
   ]
  },
  {
   "cell_type": "code",
   "execution_count": 4,
   "metadata": {
    "collapsed": true
   },
   "outputs": [],
   "source": [
    "all_pids = []\n",
    "with open('../data/train.list', 'r') as lfile:\n",
    "    for line in lfile:\n",
    "        _, filename = os.path.split(line)\n",
    "        pid_str, _ = os.path.splitext(filename)\n",
    "        all_pids.append(int(pid_str))"
   ]
  },
  {
   "cell_type": "code",
   "execution_count": 5,
   "metadata": {
    "collapsed": false
   },
   "outputs": [
    {
     "data": {
      "text/plain": [
       "234842"
      ]
     },
     "execution_count": 5,
     "metadata": {},
     "output_type": "execute_result"
    }
   ],
   "source": [
    "len(all_pids)"
   ]
  },
  {
   "cell_type": "code",
   "execution_count": 6,
   "metadata": {
    "collapsed": false
   },
   "outputs": [
    {
     "name": "stdout",
     "output_type": "stream",
     "text": [
      "262147.jpg 0\r\n",
      "131078.jpg 0\r\n",
      "10.jpg 0\r\n",
      "393227.jpg 0\r\n"
     ]
    }
   ],
   "source": [
    "!head -n 4 ../data/val_caffe.txt"
   ]
  },
  {
   "cell_type": "code",
   "execution_count": 7,
   "metadata": {
    "collapsed": false
   },
   "outputs": [],
   "source": [
    "val_pids = []\n",
    "with open('../data/val_caffe.txt', 'r') as lfile:\n",
    "    for line in lfile:\n",
    "        pid_str, _ = os.path.splitext(line.split()[0])\n",
    "        val_pids.append(int(pid_str))"
   ]
  },
  {
   "cell_type": "code",
   "execution_count": 10,
   "metadata": {
    "collapsed": true
   },
   "outputs": [],
   "source": [
    "pid_to_index = {pid: i for i, pid in enumerate(all_pids)}"
   ]
  },
  {
   "cell_type": "code",
   "execution_count": 16,
   "metadata": {
    "collapsed": true
   },
   "outputs": [],
   "source": [
    "train_df = pd.read_csv('../data/raw/train.csv')"
   ]
  },
  {
   "cell_type": "code",
   "execution_count": 17,
   "metadata": {
    "collapsed": true
   },
   "outputs": [],
   "source": [
    "train_photo_to_biz = pd.read_csv('../data/raw/train_photo_to_biz_ids.csv')"
   ]
  },
  {
   "cell_type": "code",
   "execution_count": 18,
   "metadata": {
    "collapsed": true
   },
   "outputs": [],
   "source": [
    "train_photo_id_to_biz_id = dict(zip(train_photo_to_biz.photo_id, train_photo_to_biz.business_id))"
   ]
  },
  {
   "cell_type": "code",
   "execution_count": 22,
   "metadata": {
    "collapsed": false
   },
   "outputs": [],
   "source": [
    "val_bids = set()\n",
    "train_bids = set()\n",
    "sval_pids = set(val_pids) \n",
    "for pid, bid in train_photo_id_to_biz_id.items():\n",
    "    if pid in sval_pids:\n",
    "        val_bids.add(bid)\n",
    "    else:\n",
    "        train_bids.add(bid)"
   ]
  },
  {
   "cell_type": "code",
   "execution_count": 24,
   "metadata": {
    "collapsed": true
   },
   "outputs": [],
   "source": [
    "from collections import defaultdict"
   ]
  },
  {
   "cell_type": "code",
   "execution_count": 25,
   "metadata": {
    "collapsed": true
   },
   "outputs": [],
   "source": [
    "bid_to_pids = defaultdict(list)\n",
    "for pid, bid in train_photo_id_to_biz_id.items():\n",
    "    bid_to_pids[bid].append(pid)"
   ]
  },
  {
   "cell_type": "code",
   "execution_count": 26,
   "metadata": {
    "collapsed": false
   },
   "outputs": [
    {
     "data": {
      "text/plain": [
       "(234842, 1024)"
      ]
     },
     "execution_count": 26,
     "metadata": {},
     "output_type": "execute_result"
    }
   ],
   "source": [
    "gnet_all.shape"
   ]
  },
  {
   "cell_type": "code",
   "execution_count": 30,
   "metadata": {
    "collapsed": true
   },
   "outputs": [],
   "source": [
    "X_train = np.zeros((len(train_bids), 1024))"
   ]
  },
  {
   "cell_type": "code",
   "execution_count": 31,
   "metadata": {
    "collapsed": true
   },
   "outputs": [],
   "source": [
    "for i, bid in enumerate(train_bids):\n",
    "    for pid in bid_to_pids[bid]:\n",
    "        index = pid_to_index[pid]\n",
    "        X_train[i] += gnet_all[index]\n",
    "    X_train[i] /= len(bid_to_pids[bid])"
   ]
  },
  {
   "cell_type": "code",
   "execution_count": 33,
   "metadata": {
    "collapsed": false
   },
   "outputs": [],
   "source": [
    "X_val = np.zeros((len(val_bids), 1024))"
   ]
  },
  {
   "cell_type": "code",
   "execution_count": 34,
   "metadata": {
    "collapsed": true
   },
   "outputs": [],
   "source": [
    "for i, bid in enumerate(val_bids):\n",
    "    for pid in bid_to_pids[bid]:\n",
    "        index = pid_to_index[pid]\n",
    "        X_val[i] += gnet_all[index]\n",
    "    X_val[i] /= len(bid_to_pids[bid])"
   ]
  },
  {
   "cell_type": "code",
   "execution_count": 35,
   "metadata": {
    "collapsed": false
   },
   "outputs": [
    {
     "data": {
      "text/plain": [
       "array([[ 0.95267509,  2.03563903,  0.15004862, ...,  0.49960505,\n",
       "         0.28688758,  0.3049866 ],\n",
       "       [ 1.18332484,  1.24298283,  0.27974792, ...,  0.6903441 ,\n",
       "         0.22187185,  0.55064937],\n",
       "       [ 0.81671498,  0.67376542,  0.54582791, ...,  0.77234137,\n",
       "         0.15175865,  0.53816518],\n",
       "       ..., \n",
       "       [ 0.95106818,  1.26992639,  0.14772708, ...,  0.61699631,\n",
       "         0.38141354,  0.32525882],\n",
       "       [ 0.84371509,  2.06388409,  0.35485263, ...,  0.40849259,\n",
       "         0.80597208,  0.68059153],\n",
       "       [ 0.95197373,  1.4948377 ,  0.45678396, ...,  0.71561163,\n",
       "         0.41972236,  0.73768763]])"
      ]
     },
     "execution_count": 35,
     "metadata": {},
     "output_type": "execute_result"
    }
   ],
   "source": [
    "X_val"
   ]
  },
  {
   "cell_type": "code",
   "execution_count": 37,
   "metadata": {
    "collapsed": true
   },
   "outputs": [],
   "source": [
    "train_df_cleaned = train_df.dropna()"
   ]
  },
  {
   "cell_type": "code",
   "execution_count": 38,
   "metadata": {
    "collapsed": false
   },
   "outputs": [],
   "source": [
    "biz_id_to_labels_str = dict(zip(train_df_cleaned.business_id, train_df_cleaned['labels']))"
   ]
  },
  {
   "cell_type": "code",
   "execution_count": 39,
   "metadata": {
    "collapsed": true
   },
   "outputs": [],
   "source": [
    "biz_id_to_labels = dict()\n",
    "for biz_id, labels_str in biz_id_to_labels_str.items():\n",
    "    biz_id_to_labels[biz_id] = [int(l) for l in labels_str.split()]"
   ]
  },
  {
   "cell_type": "code",
   "execution_count": 43,
   "metadata": {
    "collapsed": true
   },
   "outputs": [],
   "source": [
    "def OHE(labels, size=9):\n",
    "    ohe = np.zeros((9,))\n",
    "    for l in labels:\n",
    "        ohe[l] = 1\n",
    "    return ohe"
   ]
  },
  {
   "cell_type": "code",
   "execution_count": 44,
   "metadata": {
    "collapsed": true
   },
   "outputs": [],
   "source": [
    "biz_id_to_ohe_labels = dict()\n",
    "for biz_id, labels in biz_id_to_labels.items():\n",
    "    biz_id_to_ohe_labels[biz_id] = OHE(labels)"
   ]
  },
  {
   "cell_type": "code",
   "execution_count": 46,
   "metadata": {
    "collapsed": false
   },
   "outputs": [],
   "source": [
    "y_train = np.zeros((len(train_bids), 9))\n",
    "for i, bid in enumerate(train_bids):\n",
    "    if bid in biz_id_to_ohe_labels:\n",
    "        y_train[i] = biz_id_to_ohe_labels[bid]"
   ]
  },
  {
   "cell_type": "code",
   "execution_count": 48,
   "metadata": {
    "collapsed": true
   },
   "outputs": [],
   "source": [
    "y_val = np.zeros((len(val_bids), 9))\n",
    "for i, bid in enumerate(val_bids):\n",
    "    if bid in biz_id_to_ohe_labels:\n",
    "        y_val[i] = biz_id_to_ohe_labels[bid]"
   ]
  },
  {
   "cell_type": "code",
   "execution_count": 49,
   "metadata": {
    "collapsed": true
   },
   "outputs": [],
   "source": [
    "from sklearn.ensemble import RandomForestClassifier"
   ]
  },
  {
   "cell_type": "code",
   "execution_count": 53,
   "metadata": {
    "collapsed": false
   },
   "outputs": [
    {
     "data": {
      "text/plain": [
       "(1400, 1024)"
      ]
     },
     "execution_count": 53,
     "metadata": {},
     "output_type": "execute_result"
    }
   ],
   "source": [
    "X_train.shape"
   ]
  },
  {
   "cell_type": "code",
   "execution_count": 54,
   "metadata": {
    "collapsed": true
   },
   "outputs": [],
   "source": [
    "from sklearn.preprocessing import StandardScaler"
   ]
  },
  {
   "cell_type": "code",
   "execution_count": 55,
   "metadata": {
    "collapsed": true
   },
   "outputs": [],
   "source": [
    "scaler = StandardScaler()"
   ]
  },
  {
   "cell_type": "code",
   "execution_count": 56,
   "metadata": {
    "collapsed": true
   },
   "outputs": [],
   "source": [
    "X_train_s = scaler.fit_transform(X_train)"
   ]
  },
  {
   "cell_type": "code",
   "execution_count": 57,
   "metadata": {
    "collapsed": true
   },
   "outputs": [],
   "source": [
    "X_val_s = scaler.transform(X_val)"
   ]
  },
  {
   "cell_type": "code",
   "execution_count": 60,
   "metadata": {
    "collapsed": true
   },
   "outputs": [],
   "source": [
    "from sklearn.multiclass import OneVsRestClassifier\n",
    "from sklearn import svm"
   ]
  },
  {
   "cell_type": "code",
   "execution_count": 61,
   "metadata": {
    "collapsed": false
   },
   "outputs": [],
   "source": [
    "clf = OneVsRestClassifier(svm.SVC(kernel='linear', probability=True))"
   ]
  },
  {
   "cell_type": "code",
   "execution_count": 68,
   "metadata": {
    "collapsed": false
   },
   "outputs": [
    {
     "name": "stdout",
     "output_type": "stream",
     "text": [
      "F1 score:  0.780628979356\n",
      "Individual Class F1 score:  [ 0.58653846  0.79029463  0.82101806  0.608       0.71597633  0.85170068\n",
      "  0.9005102   0.6626506   0.87614081]\n"
     ]
    }
   ],
   "source": [
    "clf = OneVsRestClassifier(svm.SVC(kernel='linear', C=0.1, probability=True))\n",
    "clf.fit(X_train_s, y_train)\n",
    "y_pred_val = clf.predict(X_val_s)\n",
    "print \"F1 score: \", f1_score(y_val, y_pred_val, average='micro') \n",
    "print \"Individual Class F1 score: \", f1_score(y_val, y_pred_val, average=None)"
   ]
  },
  {
   "cell_type": "code",
   "execution_count": 69,
   "metadata": {
    "collapsed": false
   },
   "outputs": [
    {
     "name": "stdout",
     "output_type": "stream",
     "text": [
      "F1 score:  0.811207729469\n",
      "Individual Class F1 score:  [ 0.65508685  0.80743243  0.86522463  0.65506329  0.76646707  0.8714479\n",
      "  0.91342535  0.72        0.87765957]\n"
     ]
    }
   ],
   "source": [
    "clf = OneVsRestClassifier(svm.SVC(kernel='linear', C=0.01, probability=True))\n",
    "clf.fit(X_train_s, y_train)\n",
    "y_pred_val = clf.predict(X_val_s)\n",
    "print \"F1 score: \", f1_score(y_val, y_pred_val, average='micro') \n",
    "print \"Individual Class F1 score: \", f1_score(y_val, y_pred_val, average=None)"
   ]
  },
  {
   "cell_type": "code",
   "execution_count": 70,
   "metadata": {
    "collapsed": false
   },
   "outputs": [
    {
     "name": "stdout",
     "output_type": "stream",
     "text": [
      "F1 score:  0.823967103975\n",
      "Individual Class F1 score:  [ 0.71611253  0.82393162  0.8836425   0.6369637   0.78881988  0.87242798\n",
      "  0.92288557  0.72222222  0.88977424]\n"
     ]
    }
   ],
   "source": [
    "clf = OneVsRestClassifier(svm.SVC(kernel='linear', C=0.001, probability=True))\n",
    "clf.fit(X_train_s, y_train)\n",
    "y_pred_val = clf.predict(X_val_s)\n",
    "print \"F1 score: \", f1_score(y_val, y_pred_val, average='micro') \n",
    "print \"Individual Class F1 score: \", f1_score(y_val, y_pred_val, average=None)"
   ]
  },
  {
   "cell_type": "code",
   "execution_count": 71,
   "metadata": {
    "collapsed": false
   },
   "outputs": [
    {
     "name": "stdout",
     "output_type": "stream",
     "text": [
      "F1 score:  0.801365736092\n",
      "Individual Class F1 score:  [ 0.63247863  0.83130435  0.88624788  0.54611212  0.70103093  0.87213997\n",
      "  0.90754258  0.67346939  0.8804205 ]\n"
     ]
    }
   ],
   "source": [
    "clf = OneVsRestClassifier(svm.SVC(kernel='linear', C=0.0001, probability=True))\n",
    "clf.fit(X_train_s, y_train)\n",
    "y_pred_val = clf.predict(X_val_s)\n",
    "print \"F1 score: \", f1_score(y_val, y_pred_val, average='micro') \n",
    "print \"Individual Class F1 score: \", f1_score(y_val, y_pred_val, average=None)"
   ]
  },
  {
   "cell_type": "code",
   "execution_count": 63,
   "metadata": {
    "collapsed": true
   },
   "outputs": [],
   "source": [
    "y_pred_val = clf.predict(X_val_s)"
   ]
  },
  {
   "cell_type": "code",
   "execution_count": 65,
   "metadata": {
    "collapsed": false
   },
   "outputs": [
    {
     "data": {
      "text/plain": [
       "(600, 9)"
      ]
     },
     "execution_count": 65,
     "metadata": {},
     "output_type": "execute_result"
    }
   ],
   "source": [
    "y_pred_val.shape"
   ]
  },
  {
   "cell_type": "code",
   "execution_count": 66,
   "metadata": {
    "collapsed": true
   },
   "outputs": [],
   "source": [
    "from sklearn.metrics import f1_score"
   ]
  },
  {
   "cell_type": "code",
   "execution_count": 67,
   "metadata": {
    "collapsed": false
   },
   "outputs": [
    {
     "name": "stdout",
     "output_type": "stream",
     "text": [
      "F1 score:  0.776665383134\n",
      "Individual Class F1 score:  [ 0.5915493   0.77796902  0.80788177  0.61066236  0.71597633  0.85170068\n",
      "  0.9005102   0.65256798  0.8690013 ]\n"
     ]
    }
   ],
   "source": [
    "print \"F1 score: \", f1_score(y_val, y_pred_val, average='micro') \n",
    "print \"Individual Class F1 score: \", f1_score(y_val, y_pred_val, average=None)"
   ]
  },
  {
   "cell_type": "code",
   "execution_count": 50,
   "metadata": {
    "collapsed": true
   },
   "outputs": [],
   "source": [
    "clf = RandomForestClassifier()"
   ]
  },
  {
   "cell_type": "code",
   "execution_count": 51,
   "metadata": {
    "collapsed": false
   },
   "outputs": [
    {
     "data": {
      "text/plain": [
       "RandomForestClassifier(bootstrap=True, compute_importances=None,\n",
       "            criterion='gini', max_depth=None, max_features='auto',\n",
       "            max_leaf_nodes=None, min_density=None, min_samples_leaf=1,\n",
       "            min_samples_split=2, n_estimators=10, n_jobs=1,\n",
       "            oob_score=False, random_state=None, verbose=0)"
      ]
     },
     "execution_count": 51,
     "metadata": {},
     "output_type": "execute_result"
    }
   ],
   "source": [
    "clf.fit(X_train, y_train)"
   ]
  },
  {
   "cell_type": "code",
   "execution_count": 52,
   "metadata": {
    "collapsed": false
   },
   "outputs": [
    {
     "data": {
      "text/plain": [
       "0.13166666666666665"
      ]
     },
     "execution_count": 52,
     "metadata": {},
     "output_type": "execute_result"
    }
   ],
   "source": [
    "clf.score(X_val, y_val)"
   ]
  },
  {
   "cell_type": "code",
   "execution_count": 47,
   "metadata": {
    "collapsed": false
   },
   "outputs": [
    {
     "data": {
      "text/plain": [
       "array([[ 1.,  0.,  0., ...,  0.,  0.,  1.],\n",
       "       [ 0.,  1.,  1., ...,  1.,  1.,  0.],\n",
       "       [ 1.,  1.,  0., ...,  1.,  0.,  1.],\n",
       "       ..., \n",
       "       [ 0.,  0.,  0., ...,  0.,  0.,  1.],\n",
       "       [ 0.,  0.,  0., ...,  1.,  0.,  1.],\n",
       "       [ 0.,  1.,  1., ...,  1.,  1.,  0.]])"
      ]
     },
     "execution_count": 47,
     "metadata": {},
     "output_type": "execute_result"
    }
   ],
   "source": [
    "y_train"
   ]
  },
  {
   "cell_type": "code",
   "execution_count": null,
   "metadata": {
    "collapsed": true
   },
   "outputs": [],
   "source": []
  }
 ],
 "metadata": {
  "kernelspec": {
   "display_name": "Python 2",
   "language": "python",
   "name": "python2"
  },
  "language_info": {
   "codemirror_mode": {
    "name": "ipython",
    "version": 2
   },
   "file_extension": ".py",
   "mimetype": "text/x-python",
   "name": "python",
   "nbconvert_exporter": "python",
   "pygments_lexer": "ipython2",
   "version": "2.7.10"
  }
 },
 "nbformat": 4,
 "nbformat_minor": 0
}
