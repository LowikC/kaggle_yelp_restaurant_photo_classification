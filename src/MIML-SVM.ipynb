{
 "cells": [
  {
   "cell_type": "code",
   "execution_count": 2,
   "metadata": {
    "collapsed": true
   },
   "outputs": [],
   "source": [
    "import numpy as np\n",
    "from scipy.spatial import distance"
   ]
  },
  {
   "cell_type": "markdown",
   "metadata": {},
   "source": [
    "Multi-Instance Multi-Label Learning with Application to Scene Classification"
   ]
  },
  {
   "cell_type": "code",
   "execution_count": 3,
   "metadata": {
    "collapsed": true
   },
   "outputs": [],
   "source": [
    "def haussdorf_distance(A, B, metric='euclidean'):\n",
    "    \"\"\"Compute the Haussdorf distance between two bags.\n",
    "    \n",
    "    Args:\n",
    "        A (ndarray): A Na by F ndarray, where Na is the number of instances in the bag and F the number of features.\n",
    "        B (nd.array): A Nb by F ndarray, where Nb is the number of instances in the bag and F the number of features.\n",
    "        \n",
    "    Return:\n",
    "        The Haussdorf distance between the bags.\n",
    "    \"\"\"\n",
    "    distances = distance.cdist(A, B)         \n",
    "    max_a = np.max(np.min(distances, axis=1))\n",
    "    max_b = np.max(np.min(distances, axis=0))\n",
    "    return max(max_a, max_b)"
   ]
  },
  {
   "cell_type": "code",
   "execution_count": 4,
   "metadata": {
    "collapsed": true
   },
   "outputs": [],
   "source": [
    "rA = np.random.randn(100, 1024)\n",
    "rB = np.random.randn(30, 1024)"
   ]
  },
  {
   "cell_type": "code",
   "execution_count": 5,
   "metadata": {
    "collapsed": false
   },
   "outputs": [
    {
     "name": "stdout",
     "output_type": "stream",
     "text": [
      "100 loops, best of 3: 3.33 ms per loop\n"
     ]
    }
   ],
   "source": [
    "%timeit haussdorf_distance(rA, rB)"
   ]
  },
  {
   "cell_type": "code",
   "execution_count": 8,
   "metadata": {
    "collapsed": true
   },
   "outputs": [],
   "source": [
    "def gen_random_bags(n_bags=1000, n_instances_min=2, n_instances_max=200, n_features=1024, seed=42):\n",
    "    np.random.seed(seed)\n",
    "    ns_instance = np.random.randint(n_instances_min, n_instances_max, size=(n_bags, ))\n",
    "    return [np.random.randn(ni, n_features) for ni in ns_instance]"
   ]
  },
  {
   "cell_type": "code",
   "execution_count": 14,
   "metadata": {
    "collapsed": false
   },
   "outputs": [],
   "source": [
    "tmp = np.zeros((100, 10))"
   ]
  },
  {
   "cell_type": "code",
   "execution_count": 15,
   "metadata": {
    "collapsed": false
   },
   "outputs": [
    {
     "data": {
      "text/plain": [
       "(100,)"
      ]
     },
     "execution_count": 15,
     "metadata": {},
     "output_type": "execute_result"
    }
   ],
   "source": [
    "np.argmin(tmp, axis=1).shape"
   ]
  },
  {
   "cell_type": "code",
   "execution_count": 10,
   "metadata": {
    "collapsed": true
   },
   "outputs": [],
   "source": [
    "g = np.random.randint(0, 10, size=(1000))"
   ]
  },
  {
   "cell_type": "code",
   "execution_count": 13,
   "metadata": {
    "collapsed": false
   },
   "outputs": [
    {
     "data": {
      "text/plain": [
       "array([  0,   5,  31,  34,  42,  43,  44,  63,  79,  82,  86, 110, 112,\n",
       "       113, 128, 140, 142, 148, 153, 168, 195, 233, 234, 238, 239, 249,\n",
       "       250, 260, 262, 269, 322, 324, 337, 355, 377, 389, 392, 393, 402,\n",
       "       421, 441, 450, 456, 463, 470, 476, 505, 512, 515, 525, 534, 536,\n",
       "       549, 576, 585, 596, 610, 622, 625, 643, 652, 654, 670, 686, 699,\n",
       "       708, 709, 735, 754, 755, 759, 766, 782, 792, 798, 812, 816, 818,\n",
       "       819, 822, 844, 881, 896, 901, 906, 907, 921, 929, 930, 942, 969, 971])"
      ]
     },
     "execution_count": 13,
     "metadata": {},
     "output_type": "execute_result"
    }
   ],
   "source": [
    "np.where(g)[0]"
   ]
  },
  {
   "cell_type": "code",
   "execution_count": null,
   "metadata": {
    "collapsed": true
   },
   "outputs": [],
   "source": [
    "np.where(closest_medoids == t)"
   ]
  },
  {
   "cell_type": "code",
   "execution_count": 16,
   "metadata": {
    "collapsed": true
   },
   "outputs": [],
   "source": [
    "import itertools"
   ]
  },
  {
   "cell_type": "code",
   "execution_count": 19,
   "metadata": {
    "collapsed": false
   },
   "outputs": [],
   "source": [
    "class KMedoids(object):\n",
    "    def __init__(self, n_clusters, max_iter=100, metric='euclidean', random_state=None):\n",
    "        self.__n_clusters = n_clusters\n",
    "        self.__metric = metric\n",
    "        self.__max_iter = max_iter\n",
    "        self.__bags_hd_distances = None\n",
    "        self.medoids = None\n",
    "        self.__medoids_set = None\n",
    "        self.__num_iter = 0\n",
    "        self.__gamma_t = None\n",
    "        self.__n_bags = 0\n",
    "        self.__updated_medoids = None\n",
    "        self.__converged = False\n",
    "        \n",
    "    def _compute_bags_distances(self, X):\n",
    "        self.__bags_hd_distances = np.zeros((len(X), len(X)))\n",
    "        for i in xrange(len(X)):\n",
    "            self.__bags_hd_distances[i][i] = 0\n",
    "            for j in xrange(i+1, len(X)):\n",
    "                self.__bags_hd_distances[i][j] = haussdorf_distance(X[i], X[j])\n",
    "                self.__bags_hd_distances[j][i] = self.__bags_hd_distances[i][j]\n",
    "                                            \n",
    "    \n",
    "    def _init_medoids(self):\n",
    "        self.__num_iter = 0\n",
    "        self.__converged = False\n",
    "        # Select k random medoids\n",
    "        self.medoids = np.random.choice(self.__n_bags, size=(self.__n_clusters, ), replace=False)\n",
    "        self.__medoids_set = set(self.medoids)\n",
    "        self.__updated_medoids = np.copy(self.medoids)\n",
    "        \n",
    "    def _update_medoids(self):\n",
    "        self.medoids = np.copy(self.__updated_medoids)\n",
    "        self.__medoids_set = set(self.medoids)\n",
    "            \n",
    "    def _associate_bags_to_medoids(self):\n",
    "        # Associate instances with their closest medoid.\n",
    "        # N * k distances\n",
    "        distances_to_medoids = self.__bags_hd_distances[:, self.medoids]\n",
    "        closest_medoids = np.argmin(distances_to_medoids, axis=1) # (N, ) ndarray\n",
    "        self.__gamma_t = [np.where(closest_medoids == t)[0] for t in self.medoids]\n",
    "                  \n",
    "    def _find_medoids(self):\n",
    "        self.__updated_medoids = np.array([self._get_medoid(g) for g in self.__gamma_t])\n",
    "        \n",
    "    def _get_medoid(self, group):\n",
    "        # G x G distances\n",
    "        hd_distances = self.__bags_hd_distances[group, group]\n",
    "        sum_distances = np.sum(hd_distances, axis=1)\n",
    "        return groups[np.argmin(sum_distances)]\n",
    "                \n",
    "    def fit(self, X):\n",
    "        self._compute_bags_distances(X)\n",
    "        self._init_medoids(len(X))\n",
    "\n",
    "        while (self.__num_iter == 0 or not np.array_equal(self.medoids, self.__updated_medoids))\\\n",
    "               and self.__num_iter < self.__max_iter:\n",
    "            self._update_medoids()\n",
    "            self._associate_bags_to_medoids()\n",
    "            self._find_medoids()\n",
    "            self.__num_iter += 1\n",
    "            \n",
    "        self.__converged = (self.__num_iter < self.__max_iter)\n",
    "    \n",
    "    def transform(self, X):\n",
    "        pass\n",
    "    \n",
    "    def fit_transform(self, X):\n",
    "        self.fit(X)\n",
    "        return self.transform(X)"
   ]
  },
  {
   "cell_type": "code",
   "execution_count": 9,
   "metadata": {
    "collapsed": false
   },
   "outputs": [],
   "source": [
    "def get_medoid(bags, group):\n",
    "    \"\"\"Get the medoid \n",
    "    \"\"\"\n",
    "    if not group:\n",
    "        return -1\n",
    "    \n",
    "    distances = np.zeros((len(group), len(group)))\n",
    "    for i, g in enumerate(group):\n",
    "        distances[i, :] = np.array(map(lambda j: haussdorf_distance(bags[g], bags[j]), group))\n",
    "    \n",
    "    sums = np.sum(distances, axis=1)\n",
    "    return group[np.argmin(sums)]"
   ]
  },
  {
   "cell_type": "code",
   "execution_count": 50,
   "metadata": {
    "collapsed": false
   },
   "outputs": [],
   "source": [
    "def k_medoids(bags, k, n_iterations_max=100):\n",
    "    \"\"\"Perform k-medoids clustering on the bags, using Haussdorf distance.\n",
    "    \n",
    "    Args:\n",
    "        bags (list): List of bags, each bag contains a Ni by F ndarray representing the instances.\n",
    "        k (int): Number of medoids\n",
    "        n_iterations_max: Maximum number of iterations if convergence is not reached.\n",
    "        \n",
    "    Returns:\n",
    "        medoids (list): The indices of the medoids bags.\n",
    "    \"\"\"\n",
    "    N = len(bags)\n",
    "    # Select k random medoids\n",
    "    medoids = np.random.choice(N, size=(k, ), replace=False)\n",
    "    set_medoids = set(medoids)\n",
    "    updated_medoids = np.zeros((k, ), dtype=medoids.dtype)\n",
    "    \n",
    "    n_iter = 0\n",
    "    while not np.array_equal(medoids, updated_medoids) and n_iter < n_iterations_max:\n",
    "        # Update the medoids.\n",
    "        if n_iter > 0:\n",
    "            medoids = np.copy(updated_medoids)\n",
    "        \n",
    "        # Associate instances with their closest medoid.\n",
    "        gamma_t = {t: [t] for t in medoids}\n",
    "        for u in xrange(N):\n",
    "            if u not in set_medoids:\n",
    "                du_t = map(lambda t: haussdorf_distance(bags[u], bags[t]), medoids)\n",
    "                closest_t = medoids[np.argmin(du_t)]\n",
    "                gamma_t[closest_t].append(u)\n",
    "        \n",
    "        # Update medoids\n",
    "        for i, group in enumerate(gamma_t.itervalues()):\n",
    "            m = get_medoid(bags, group)\n",
    "            updated_medoids[i] = m\n",
    "        \n",
    "        n_iter += 1\n",
    "                \n",
    "    return medoids"
   ]
  },
  {
   "cell_type": "code",
   "execution_count": 53,
   "metadata": {
    "collapsed": true
   },
   "outputs": [],
   "source": [
    "rbags = gen_random_bags(1000, 2, 100, 128)"
   ]
  },
  {
   "cell_type": "code",
   "execution_count": null,
   "metadata": {
    "collapsed": false
   },
   "outputs": [],
   "source": [
    "k_medoids(rbags, 10)"
   ]
  },
  {
   "cell_type": "code",
   "execution_count": null,
   "metadata": {
    "collapsed": true
   },
   "outputs": [],
   "source": [
    "%timeit k_medoids(rbags, 10)"
   ]
  },
  {
   "cell_type": "code",
   "execution_count": null,
   "metadata": {
    "collapsed": true
   },
   "outputs": [],
   "source": []
  }
 ],
 "metadata": {
  "kernelspec": {
   "display_name": "Python 2",
   "language": "python",
   "name": "python2"
  },
  "language_info": {
   "codemirror_mode": {
    "name": "ipython",
    "version": 2
   },
   "file_extension": ".py",
   "mimetype": "text/x-python",
   "name": "python",
   "nbconvert_exporter": "python",
   "pygments_lexer": "ipython2",
   "version": "2.7.10"
  }
 },
 "nbformat": 4,
 "nbformat_minor": 0
}
