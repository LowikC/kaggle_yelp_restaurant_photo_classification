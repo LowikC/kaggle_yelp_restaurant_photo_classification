{
 "cells": [
  {
   "cell_type": "code",
   "execution_count": 12,
   "metadata": {
    "collapsed": true
   },
   "outputs": [],
   "source": [
    "import pandas as pd\n",
    "import numpy as np"
   ]
  },
  {
   "cell_type": "code",
   "execution_count": 13,
   "metadata": {
    "collapsed": true
   },
   "outputs": [],
   "source": [
    "df_001 = pd.read_csv('../data/submission_001.csv')\n",
    "df_003 = pd.read_csv('../data/submission_003.csv')\n",
    "df_004 = pd.read_csv('../data/submission_004.csv')"
   ]
  },
  {
   "cell_type": "code",
   "execution_count": 14,
   "metadata": {
    "collapsed": true
   },
   "outputs": [],
   "source": [
    "def OHE(labels, size=9):\n",
    "    ohe = np.zeros((9,))\n",
    "    for l in labels:\n",
    "        ohe[l] = 1\n",
    "    return ohe"
   ]
  },
  {
   "cell_type": "code",
   "execution_count": 30,
   "metadata": {
    "collapsed": false
   },
   "outputs": [],
   "source": [
    "def get_bid_to_labels(df):\n",
    "    bid_to_labels_str = dict(zip(df.business_id, df['labels']))\n",
    "    bid_to_bin_labels = dict()\n",
    "    for bid, labels_str in bid_to_labels_str.items():\n",
    "        if labels_str is pd.np.NaN:\n",
    "            bid_to_bin_labels[bid] = np.zeros((9, ))\n",
    "        else:\n",
    "            labels = [int(l) for l in labels_str.split()]\n",
    "            bin_labels = OHE(labels)\n",
    "            bid_to_bin_labels[bid] = bin_labels\n",
    "    return bid_to_bin_labels"
   ]
  },
  {
   "cell_type": "code",
   "execution_count": 31,
   "metadata": {
    "collapsed": false
   },
   "outputs": [],
   "source": [
    "bid_to_bin_labels_001 = get_bid_to_labels(df_001)\n",
    "bid_to_bin_labels_003 = get_bid_to_labels(df_003)\n",
    "bid_to_bin_labels_004 = get_bid_to_labels(df_004)"
   ]
  },
  {
   "cell_type": "code",
   "execution_count": 33,
   "metadata": {
    "collapsed": true
   },
   "outputs": [],
   "source": [
    "bid_to_bin_labels = dict()\n",
    "for bid in bid_to_bin_labels_001.keys():\n",
    "    labels = bid_to_bin_labels_001[bid]\n",
    "    labels += bid_to_bin_labels_003[bid]\n",
    "    labels += bid_to_bin_labels_004[bid]\n",
    "    \n",
    "    labels = np.where(labels >= 2, 1, 0)\n",
    "    bid_to_bin_labels[bid] = labels"
   ]
  },
  {
   "cell_type": "code",
   "execution_count": 35,
   "metadata": {
    "collapsed": true
   },
   "outputs": [],
   "source": [
    "def inverse_ohe(ohe):\n",
    "    inv = []\n",
    "    for i, x in enumerate(ohe):\n",
    "        if x == 1:\n",
    "            inv.append(i) \n",
    "    return inv"
   ]
  },
  {
   "cell_type": "code",
   "execution_count": 36,
   "metadata": {
    "collapsed": true
   },
   "outputs": [],
   "source": [
    "bid_to_labels = dict()\n",
    "for bid, bin_labels in bid_to_bin_labels.items():\n",
    "    labels = inverse_ohe(bin_labels)\n",
    "    bid_to_labels[bid] = labels"
   ]
  },
  {
   "cell_type": "code",
   "execution_count": 38,
   "metadata": {
    "collapsed": false
   },
   "outputs": [],
   "source": [
    "with open('../data/submission_005.csv', 'w') as sfile:\n",
    "    sfile.write('business_id,labels\\n')\n",
    "    for bid, labels in bid_to_labels.items():\n",
    "        labels_str = [str(l) for l in labels]\n",
    "        line = '{bid},{labels}\\n'.format(bid=bid, labels=' '.join(labels_str))\n",
    "        sfile.write(line)"
   ]
  },
  {
   "cell_type": "code",
   "execution_count": 39,
   "metadata": {
    "collapsed": false
   },
   "outputs": [
    {
     "name": "stdout",
     "output_type": "stream",
     "text": [
      "business_id,labels\r\n",
      "af0iy,3 5 6 8\r\n",
      "s4n0d,1 2 3 4 5 6 7 8\r\n",
      "s1e3l,1 2 3 4 5 6 7 8\r\n",
      "yinms,1 2 3 5 6 7 8\r\n",
      "3i26e,1 2 3 5 6 8\r\n",
      "rl851,0 3 8\r\n",
      "0zrov,1 2 3 5 6 7\r\n",
      "ean2c,1 2 3 5 6 7\r\n",
      "toisr,1 2 3 5 6 8\r\n"
     ]
    }
   ],
   "source": [
    "!head ../data/submission_005.csv"
   ]
  },
  {
   "cell_type": "code",
   "execution_count": 40,
   "metadata": {
    "collapsed": false
   },
   "outputs": [
    {
     "name": "stdout",
     "output_type": "stream",
     "text": [
      "   10001 ../data/submission_005.csv\r\n"
     ]
    }
   ],
   "source": [
    "!wc -l ../data/submission_005.csv"
   ]
  },
  {
   "cell_type": "code",
   "execution_count": null,
   "metadata": {
    "collapsed": true
   },
   "outputs": [],
   "source": []
  }
 ],
 "metadata": {
  "kernelspec": {
   "display_name": "Python 2",
   "language": "python",
   "name": "python2"
  },
  "language_info": {
   "codemirror_mode": {
    "name": "ipython",
    "version": 2
   },
   "file_extension": ".py",
   "mimetype": "text/x-python",
   "name": "python",
   "nbconvert_exporter": "python",
   "pygments_lexer": "ipython2",
   "version": "2.7.10"
  }
 },
 "nbformat": 4,
 "nbformat_minor": 0
}
