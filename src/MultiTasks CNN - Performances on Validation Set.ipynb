{
 "cells": [
  {
   "cell_type": "code",
   "execution_count": 1,
   "metadata": {
    "collapsed": true
   },
   "outputs": [],
   "source": [
    "import pandas as pd\n",
    "import numpy as np\n",
    "import matplotlib.pyplot as plt\n",
    "import os\n",
    "%matplotlib inline"
   ]
  },
  {
   "cell_type": "code",
   "execution_count": 2,
   "metadata": {
    "collapsed": true
   },
   "outputs": [],
   "source": [
    "train_df = pd.read_csv('../data/raw/train.csv')"
   ]
  },
  {
   "cell_type": "code",
   "execution_count": 3,
   "metadata": {
    "collapsed": true
   },
   "outputs": [],
   "source": [
    "train_photo_to_biz = pd.read_csv('../data/raw/train_photo_to_biz_ids.csv')"
   ]
  },
  {
   "cell_type": "code",
   "execution_count": 4,
   "metadata": {
    "collapsed": true
   },
   "outputs": [],
   "source": [
    "test_photo_to_biz = pd.read_csv('../data/raw/test_photo_to_biz.csv')"
   ]
  },
  {
   "cell_type": "code",
   "execution_count": 5,
   "metadata": {
    "collapsed": false
   },
   "outputs": [],
   "source": [
    "attribute_id_to_label = {\n",
    "    0: 'good_for_lunch',\n",
    "    1: 'good_for_dinner',\n",
    "    2: 'takes_reservations',\n",
    "    3: 'outdoor_seating',\n",
    "    4: 'restaurant_is_expensive',\n",
    "    5: 'has_alcohol',\n",
    "    6: 'has_table_service',\n",
    "    7: 'ambience_is_classy',\n",
    "    8: 'good_for_kids'}"
   ]
  },
  {
   "cell_type": "code",
   "execution_count": 6,
   "metadata": {
    "collapsed": true
   },
   "outputs": [],
   "source": [
    "train_photo_id_to_biz_id = dict(zip(train_photo_to_biz.photo_id, train_photo_to_biz.business_id))"
   ]
  },
  {
   "cell_type": "code",
   "execution_count": 7,
   "metadata": {
    "collapsed": true
   },
   "outputs": [],
   "source": [
    "train_df_cleaned = train_df.dropna()"
   ]
  },
  {
   "cell_type": "code",
   "execution_count": 8,
   "metadata": {
    "collapsed": false
   },
   "outputs": [],
   "source": [
    "biz_id_to_labels_str = dict(zip(train_df_cleaned.business_id, train_df_cleaned['labels']))"
   ]
  },
  {
   "cell_type": "code",
   "execution_count": 9,
   "metadata": {
    "collapsed": false
   },
   "outputs": [],
   "source": [
    "biz_id_to_labels = dict()\n",
    "for biz_id, labels_str in biz_id_to_labels_str.items():\n",
    "    biz_id_to_labels[biz_id] = [int(l) for l in labels_str.split()]"
   ]
  },
  {
   "cell_type": "markdown",
   "metadata": {},
   "source": [
    "# Load validation photos ids"
   ]
  },
  {
   "cell_type": "markdown",
   "metadata": {},
   "source": [
    "We want to predict label for biz id, so I will also split the traning set on buisiness id."
   ]
  },
  {
   "cell_type": "code",
   "execution_count": 24,
   "metadata": {
    "collapsed": false
   },
   "outputs": [
    {
     "name": "stdout",
     "output_type": "stream",
     "text": [
      "262147.jpg 0\r\n",
      "131078.jpg 0\r\n"
     ]
    }
   ],
   "source": [
    "!head -n 2 ../data/models/multitask/val_caffe.txt"
   ]
  },
  {
   "cell_type": "code",
   "execution_count": 35,
   "metadata": {
    "collapsed": false
   },
   "outputs": [],
   "source": [
    "val_photos_ids = []\n",
    "with open('../data/models/multitask/val_caffe.txt', 'r') as lfile:\n",
    "    for line in lfile:\n",
    "        filename = line.split()[0]\n",
    "        id_str, _ = os.path.splitext(filename)\n",
    "        val_photos_ids.append(int(id_str))"
   ]
  },
  {
   "cell_type": "code",
   "execution_count": 36,
   "metadata": {
    "collapsed": false
   },
   "outputs": [
    {
     "data": {
      "text/plain": [
       "71640"
      ]
     },
     "execution_count": 36,
     "metadata": {},
     "output_type": "execute_result"
    }
   ],
   "source": [
    "len(val_photos_ids)"
   ]
  },
  {
   "cell_type": "code",
   "execution_count": 66,
   "metadata": {
    "collapsed": false
   },
   "outputs": [],
   "source": [
    "pid_to_index = {pid: index for index, pid in enumerate(val_photos_ids)}"
   ]
  },
  {
   "cell_type": "markdown",
   "metadata": {},
   "source": [
    "## Get the set of associated buisiness ids"
   ]
  },
  {
   "cell_type": "code",
   "execution_count": 55,
   "metadata": {
    "collapsed": true
   },
   "outputs": [],
   "source": [
    "val_biz_ids = set()\n",
    "val_pids = set(val_photos_ids) \n",
    "for pid, bid in train_photo_id_to_biz_id.items():\n",
    "    if pid in val_pids:\n",
    "        val_biz_ids.add(bid)"
   ]
  },
  {
   "cell_type": "markdown",
   "metadata": {},
   "source": [
    "# Load attribute prediction on validation photos"
   ]
  },
  {
   "cell_type": "code",
   "execution_count": 37,
   "metadata": {
    "collapsed": true
   },
   "outputs": [],
   "source": [
    "y_probas_val = np.load('../data/models/multitask/val_caffe_prob_pos_yelp_attributes.npy')"
   ]
  },
  {
   "cell_type": "code",
   "execution_count": 38,
   "metadata": {
    "collapsed": false
   },
   "outputs": [
    {
     "data": {
      "text/plain": [
       "(71640, 9)"
      ]
     },
     "execution_count": 38,
     "metadata": {},
     "output_type": "execute_result"
    }
   ],
   "source": [
    "y_probas_val.shape"
   ]
  },
  {
   "cell_type": "code",
   "execution_count": 99,
   "metadata": {
    "collapsed": true
   },
   "outputs": [],
   "source": [
    "def threshold(y_probas, threshold=0.5):\n",
    "    return (y_probas > threshold).astype(int)"
   ]
  },
  {
   "cell_type": "code",
   "execution_count": 133,
   "metadata": {
    "collapsed": false
   },
   "outputs": [],
   "source": [
    "y_val = threshold(y_probas_val, 0.5)"
   ]
  },
  {
   "cell_type": "code",
   "execution_count": 131,
   "metadata": {
    "collapsed": false
   },
   "outputs": [
    {
     "data": {
      "text/plain": [
       "array([0, 0, 0, 0, 0, 0, 1, 0, 1])"
      ]
     },
     "execution_count": 131,
     "metadata": {},
     "output_type": "execute_result"
    }
   ],
   "source": [
    "y_val[0]"
   ]
  },
  {
   "cell_type": "markdown",
   "metadata": {},
   "source": [
    "# Aggregate prediction per business"
   ]
  },
  {
   "cell_type": "code",
   "execution_count": 50,
   "metadata": {
    "collapsed": true
   },
   "outputs": [],
   "source": [
    "from collections import defaultdict"
   ]
  },
  {
   "cell_type": "code",
   "execution_count": 56,
   "metadata": {
    "collapsed": true
   },
   "outputs": [],
   "source": [
    "biz_id_to_pids = defaultdict(list)"
   ]
  },
  {
   "cell_type": "code",
   "execution_count": 57,
   "metadata": {
    "collapsed": true
   },
   "outputs": [],
   "source": [
    "for pid, bid in train_photo_id_to_biz_id.items():\n",
    "    if pid in val_pids:\n",
    "        biz_id_to_pids[bid].append(pid)"
   ]
  },
  {
   "cell_type": "markdown",
   "metadata": {},
   "source": [
    "## Mean probabilty"
   ]
  },
  {
   "cell_type": "code",
   "execution_count": 61,
   "metadata": {
    "collapsed": false
   },
   "outputs": [
    {
     "data": {
      "text/plain": [
       "600"
      ]
     },
     "execution_count": 61,
     "metadata": {},
     "output_type": "execute_result"
    }
   ],
   "source": [
    "len(biz_id_to_pids)"
   ]
  },
  {
   "cell_type": "code",
   "execution_count": 102,
   "metadata": {
    "collapsed": false
   },
   "outputs": [],
   "source": [
    "biz_id_to_index = {bid: index for index, bid in enumerate(biz_id_to_pids.keys())}"
   ]
  },
  {
   "cell_type": "code",
   "execution_count": 103,
   "metadata": {
    "collapsed": true
   },
   "outputs": [],
   "source": [
    "y_probas_val_biz = np.zeros((len(biz_id_to_pids), 9))"
   ]
  },
  {
   "cell_type": "code",
   "execution_count": 104,
   "metadata": {
    "collapsed": true
   },
   "outputs": [],
   "source": [
    "for bid, pids in biz_id_to_pids.items():\n",
    "    index = biz_id_to_index[bid]\n",
    "    for pid in pids:\n",
    "        y_probas_val_biz[index] += y_probas_val[pid_to_index[pid]]\n",
    "    y_probas_val_biz[index] /= len(pids)"
   ]
  },
  {
   "cell_type": "code",
   "execution_count": 105,
   "metadata": {
    "collapsed": false
   },
   "outputs": [
    {
     "data": {
      "text/plain": [
       "(600, 9)"
      ]
     },
     "execution_count": 105,
     "metadata": {},
     "output_type": "execute_result"
    }
   ],
   "source": [
    "y_probas_val_biz.shape"
   ]
  },
  {
   "cell_type": "code",
   "execution_count": 128,
   "metadata": {
    "collapsed": false
   },
   "outputs": [],
   "source": [
    "y_val_biz = threshold(y_probas_val_biz, 0.5)"
   ]
  },
  {
   "cell_type": "code",
   "execution_count": 107,
   "metadata": {
    "collapsed": false
   },
   "outputs": [
    {
     "data": {
      "text/plain": [
       "(600, 9)"
      ]
     },
     "execution_count": 107,
     "metadata": {},
     "output_type": "execute_result"
    }
   ],
   "source": [
    "y_val_biz.shape"
   ]
  },
  {
   "cell_type": "markdown",
   "metadata": {},
   "source": [
    "## Majority vote"
   ]
  },
  {
   "cell_type": "code",
   "execution_count": 115,
   "metadata": {
    "collapsed": true
   },
   "outputs": [],
   "source": [
    "y_val_biz_majority = np.zeros((len(biz_id_to_pids), 9))\n",
    "for bid, pids in biz_id_to_pids.items():\n",
    "    index = biz_id_to_index[bid]\n",
    "    for pid in pids:\n",
    "        y_val_biz_majority[index] += y_val[pid_to_index[pid]]\n",
    "    y_val_biz_majority[index] = threshold(y_val_biz_majority[index], len(pids)/2.0)"
   ]
  },
  {
   "cell_type": "code",
   "execution_count": 116,
   "metadata": {
    "collapsed": false
   },
   "outputs": [
    {
     "data": {
      "text/plain": [
       "array([[ 0.,  0.,  0., ...,  1.,  0.,  1.],\n",
       "       [ 0.,  0.,  0., ...,  1.,  0.,  1.],\n",
       "       [ 0.,  0.,  0., ...,  1.,  0.,  1.],\n",
       "       ..., \n",
       "       [ 0.,  0.,  0., ...,  1.,  0.,  1.],\n",
       "       [ 0.,  1.,  1., ...,  1.,  0.,  0.],\n",
       "       [ 0.,  1.,  1., ...,  1.,  0.,  1.]])"
      ]
     },
     "execution_count": 116,
     "metadata": {},
     "output_type": "execute_result"
    }
   ],
   "source": [
    "y_val_biz_majority"
   ]
  },
  {
   "cell_type": "markdown",
   "metadata": {},
   "source": [
    "# Load groundtruth attributes"
   ]
  },
  {
   "cell_type": "code",
   "execution_count": 108,
   "metadata": {
    "collapsed": true
   },
   "outputs": [],
   "source": [
    "def OHE(labels, size=9):\n",
    "    ohe = np.zeros((9))\n",
    "    for l in labels:\n",
    "        ohe[l] = 1\n",
    "    return ohe"
   ]
  },
  {
   "cell_type": "code",
   "execution_count": 109,
   "metadata": {
    "collapsed": true
   },
   "outputs": [],
   "source": [
    "y_biz = np.zeros((len(biz_id_to_index), 9))"
   ]
  },
  {
   "cell_type": "code",
   "execution_count": 110,
   "metadata": {
    "collapsed": false
   },
   "outputs": [],
   "source": [
    "for bid, index in biz_id_to_index.items():\n",
    "    labels = biz_id_to_labels[bid]\n",
    "    y_biz[index] = OHE(labels)"
   ]
  },
  {
   "cell_type": "code",
   "execution_count": 111,
   "metadata": {
    "collapsed": false
   },
   "outputs": [
    {
     "data": {
      "text/plain": [
       "(600, 9)"
      ]
     },
     "execution_count": 111,
     "metadata": {},
     "output_type": "execute_result"
    }
   ],
   "source": [
    "y_biz.shape"
   ]
  },
  {
   "cell_type": "code",
   "execution_count": 113,
   "metadata": {
    "collapsed": false
   },
   "outputs": [
    {
     "name": "stdout",
     "output_type": "stream",
     "text": [
      "F1 score:  0.760438714643\n",
      "Individual Class F1 score:  [ 0.23293173  0.81116585  0.85585586  0.58519793  0.65454545  0.82798165\n",
      "  0.82266527  0.50220264  0.90196078]\n"
     ]
    }
   ],
   "source": [
    "from sklearn.metrics import f1_score\n",
    "\n",
    "print \"F1 score: \", f1_score(y_biz, y_val_biz, average='micro')\n",
    "print \"Individual Class F1 score: \", f1_score(y_biz, y_val_biz, average=None)"
   ]
  },
  {
   "cell_type": "code",
   "execution_count": 119,
   "metadata": {
    "collapsed": false
   },
   "outputs": [],
   "source": [
    "y_photos = np.zeros((len(val_photos_ids), 9))\n",
    "for pid, index in pid_to_index.items():\n",
    "    bid = train_photo_id_to_biz_id[pid]\n",
    "    labels = biz_id_to_labels[bid]\n",
    "    y_photos[index] = OHE(labels)"
   ]
  },
  {
   "cell_type": "code",
   "execution_count": 49,
   "metadata": {
    "collapsed": false
   },
   "outputs": [
    {
     "data": {
      "text/plain": [
       "600"
      ]
     },
     "execution_count": 49,
     "metadata": {},
     "output_type": "execute_result"
    }
   ],
   "source": [
    "len(val_biz_ids)"
   ]
  },
  {
   "cell_type": "code",
   "execution_count": 117,
   "metadata": {
    "collapsed": false
   },
   "outputs": [
    {
     "name": "stdout",
     "output_type": "stream",
     "text": [
      "F1 score:  0.757285351066\n",
      "Individual Class F1 score:  [ 0.26190476  0.81407035  0.85235921  0.5428051   0.63736264  0.83138173\n",
      "  0.82627119  0.49781659  0.90237467]\n"
     ]
    }
   ],
   "source": [
    "from sklearn.metrics import f1_score\n",
    "\n",
    "print \"F1 score: \", f1_score(y_biz, y_val_biz_majority, average='micro')\n",
    "print \"Individual Class F1 score: \", f1_score(y_biz, y_val_biz_majority, average=None)"
   ]
  },
  {
   "cell_type": "code",
   "execution_count": 139,
   "metadata": {
    "collapsed": false
   },
   "outputs": [
    {
     "name": "stdout",
     "output_type": "stream",
     "text": [
      "0.4 - F1 score: 0.767171314741\n",
      "0.41 - F1 score: 0.769032258065\n",
      "0.42 - F1 score: 0.770537318308\n",
      "0.43 - F1 score: 0.770173985087\n",
      "0.44 - F1 score: 0.772283888328\n",
      "0.45 - F1 score: 0.77144324602\n",
      "0.46 - F1 score: 0.771837875611\n",
      "0.47 - F1 score: 0.772305496074\n",
      "0.48 - F1 score: 0.771679473106\n",
      "0.49 - F1 score: 0.767991004498\n"
     ]
    }
   ],
   "source": [
    "for t in np.arange(0.4, 0.5, 0.01):\n",
    "    y_val_biz = threshold(y_probas_val_biz, t)\n",
    "    print(\"{t} - F1 score: {f1}\".format(t=t, f1=f1_score(y_biz, y_val_biz, average='micro')))"
   ]
  },
  {
   "cell_type": "code",
   "execution_count": 121,
   "metadata": {
    "collapsed": true
   },
   "outputs": [],
   "source": [
    "from sklearn.metrics import accuracy_score"
   ]
  },
  {
   "cell_type": "code",
   "execution_count": 132,
   "metadata": {
    "collapsed": false
   },
   "outputs": [
    {
     "name": "stdout",
     "output_type": "stream",
     "text": [
      "Accuracy for attribue 0: 0.7126186488\n",
      "Accuracy for attribue 1: 0.648897264098\n",
      "Accuracy for attribue 2: 0.691219988833\n",
      "Accuracy for attribue 3: 0.514977666108\n",
      "Accuracy for attribue 4: 0.729020100503\n",
      "Accuracy for attribue 5: 0.737576772753\n",
      "Accuracy for attribue 6: 0.730709101061\n",
      "Accuracy for attribue 7: 0.69860413177\n",
      "Accuracy for attribue 8: 0.695616973758\n"
     ]
    }
   ],
   "source": [
    "for att in range(9):\n",
    "    acc = accuracy_score(y_photos[:, att], y_val[:, att])\n",
    "    print(\"Accuracy for attribue {a}: {acc}\".format(a=att, acc=acc))"
   ]
  },
  {
   "cell_type": "code",
   "execution_count": 155,
   "metadata": {
    "collapsed": false
   },
   "outputs": [
    {
     "data": {
      "text/plain": [
       "0.72333333333333338"
      ]
     },
     "execution_count": 155,
     "metadata": {},
     "output_type": "execute_result"
    }
   ],
   "source": [
    "accuracy_score(y_biz[:, 0], y_val_biz[:, 0])"
   ]
  },
  {
   "cell_type": "code",
   "execution_count": 141,
   "metadata": {
    "collapsed": true
   },
   "outputs": [],
   "source": [
    "from sklearn.metrics import recall_score, precision_score"
   ]
  },
  {
   "cell_type": "code",
   "execution_count": 143,
   "metadata": {
    "collapsed": false
   },
   "outputs": [
    {
     "data": {
      "text/plain": [
       "0.14084507042253522"
      ]
     },
     "execution_count": 143,
     "metadata": {},
     "output_type": "execute_result"
    }
   ],
   "source": [
    "recall_score(y_biz[:, 0], y_val_biz[:, 0])"
   ]
  },
  {
   "cell_type": "code",
   "execution_count": 144,
   "metadata": {
    "collapsed": false
   },
   "outputs": [
    {
     "data": {
      "text/plain": [
       "0.78947368421052633"
      ]
     },
     "execution_count": 144,
     "metadata": {},
     "output_type": "execute_result"
    }
   ],
   "source": [
    "precision_score(y_biz[:, 0], y_val_biz[:, 0])"
   ]
  },
  {
   "cell_type": "code",
   "execution_count": 145,
   "metadata": {
    "collapsed": false
   },
   "outputs": [
    {
     "data": {
      "text/plain": [
       "0.2390438247011952"
      ]
     },
     "execution_count": 145,
     "metadata": {},
     "output_type": "execute_result"
    }
   ],
   "source": [
    "f1_score(y_biz[:, 0], y_val_biz[:, 0])"
   ]
  },
  {
   "cell_type": "code",
   "execution_count": 149,
   "metadata": {
    "collapsed": false
   },
   "outputs": [],
   "source": [
    "thresholds = np.zeros((9, ))\n",
    "for att in range(9):\n",
    "    best = 0\n",
    "    f1max = 0\n",
    "    for t in np.arange(0.0, 1.0, 0.01):\n",
    "        y_val_biz = threshold(y_probas_val_biz, t)\n",
    "        f1 = f1_score(y_biz[:, att], y_val_biz[:, att])\n",
    "        if f1 > f1max:\n",
    "            best = t\n",
    "            f1max = f1\n",
    "    thresholds[att]=best"
   ]
  },
  {
   "cell_type": "code",
   "execution_count": 150,
   "metadata": {
    "collapsed": false
   },
   "outputs": [
    {
     "data": {
      "text/plain": [
       "array([ 0.29,  0.49,  0.59,  0.47,  0.39,  0.63,  0.67,  0.39,  0.51])"
      ]
     },
     "execution_count": 150,
     "metadata": {},
     "output_type": "execute_result"
    }
   ],
   "source": [
    "thresholds"
   ]
  },
  {
   "cell_type": "code",
   "execution_count": 152,
   "metadata": {
    "collapsed": true
   },
   "outputs": [],
   "source": [
    "def sep_thresholds(y_probas, thresholds):\n",
    "    y = np.zeros(y_probas.shape)\n",
    "    for i, t in enumerate(thresholds):\n",
    "        y[:, i] = (y_probas[:, i] > t).astype(int)\n",
    "    return y"
   ]
  },
  {
   "cell_type": "code",
   "execution_count": 153,
   "metadata": {
    "collapsed": true
   },
   "outputs": [],
   "source": [
    "y_val_biz = sep_thresholds(y_probas_val_biz, thresholds)\n"
   ]
  },
  {
   "cell_type": "code",
   "execution_count": 154,
   "metadata": {
    "collapsed": false
   },
   "outputs": [
    {
     "name": "stdout",
     "output_type": "stream",
     "text": [
      "F1 score:  0.831697564522\n"
     ]
    }
   ],
   "source": [
    "print \"F1 score: \", f1_score(y_biz, y_val_biz, average='micro')"
   ]
  },
  {
   "cell_type": "code",
   "execution_count": null,
   "metadata": {
    "collapsed": true
   },
   "outputs": [],
   "source": []
  }
 ],
 "metadata": {
  "kernelspec": {
   "display_name": "Python 2",
   "language": "python",
   "name": "python2"
  },
  "language_info": {
   "codemirror_mode": {
    "name": "ipython",
    "version": 2
   },
   "file_extension": ".py",
   "mimetype": "text/x-python",
   "name": "python",
   "nbconvert_exporter": "python",
   "pygments_lexer": "ipython2",
   "version": "2.7.10"
  }
 },
 "nbformat": 4,
 "nbformat_minor": 0
}
