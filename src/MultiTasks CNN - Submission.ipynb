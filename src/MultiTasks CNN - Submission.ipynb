{
 "cells": [
  {
   "cell_type": "code",
   "execution_count": 1,
   "metadata": {
    "collapsed": true
   },
   "outputs": [],
   "source": [
    "import pandas as pd\n",
    "import numpy as np\n",
    "import matplotlib.pyplot as plt\n",
    "import os\n",
    "%matplotlib inline"
   ]
  },
  {
   "cell_type": "code",
   "execution_count": 2,
   "metadata": {
    "collapsed": true
   },
   "outputs": [],
   "source": [
    "train_df = pd.read_csv('../data/raw/train.csv')"
   ]
  },
  {
   "cell_type": "code",
   "execution_count": 3,
   "metadata": {
    "collapsed": true
   },
   "outputs": [],
   "source": [
    "train_photo_to_biz = pd.read_csv('../data/raw/train_photo_to_biz_ids.csv')"
   ]
  },
  {
   "cell_type": "code",
   "execution_count": 4,
   "metadata": {
    "collapsed": false
   },
   "outputs": [
    {
     "name": "stdout",
     "output_type": "stream",
     "text": [
      " 1190226 ../data/raw/test_photo_to_biz.csv\r\n"
     ]
    }
   ],
   "source": [
    "!wc -l ../data/raw/test_photo_to_biz.csv"
   ]
  },
  {
   "cell_type": "code",
   "execution_count": 5,
   "metadata": {
    "collapsed": true
   },
   "outputs": [],
   "source": [
    "test_photo_to_biz = pd.read_csv('../data/raw/test_photo_to_biz.csv')"
   ]
  },
  {
   "cell_type": "code",
   "execution_count": 6,
   "metadata": {
    "collapsed": false
   },
   "outputs": [],
   "source": [
    "attribute_id_to_label = {\n",
    "    0: 'good_for_lunch',\n",
    "    1: 'good_for_dinner',\n",
    "    2: 'takes_reservations',\n",
    "    3: 'outdoor_seating',\n",
    "    4: 'restaurant_is_expensive',\n",
    "    5: 'has_alcohol',\n",
    "    6: 'has_table_service',\n",
    "    7: 'ambience_is_classy',\n",
    "    8: 'good_for_kids'}"
   ]
  },
  {
   "cell_type": "code",
   "execution_count": 7,
   "metadata": {
    "collapsed": true
   },
   "outputs": [],
   "source": [
    "train_photo_id_to_biz_id = dict(zip(train_photo_to_biz.photo_id, train_photo_to_biz.business_id))"
   ]
  },
  {
   "cell_type": "code",
   "execution_count": 8,
   "metadata": {
    "collapsed": true
   },
   "outputs": [],
   "source": [
    "train_df_cleaned = train_df.dropna()"
   ]
  },
  {
   "cell_type": "code",
   "execution_count": 9,
   "metadata": {
    "collapsed": false
   },
   "outputs": [],
   "source": [
    "biz_id_to_labels_str = dict(zip(train_df_cleaned.business_id, train_df_cleaned['labels']))"
   ]
  },
  {
   "cell_type": "code",
   "execution_count": 10,
   "metadata": {
    "collapsed": false
   },
   "outputs": [],
   "source": [
    "biz_id_to_labels = dict()\n",
    "for biz_id, labels_str in biz_id_to_labels_str.items():\n",
    "    biz_id_to_labels[biz_id] = [int(l) for l in labels_str.split()]"
   ]
  },
  {
   "cell_type": "markdown",
   "metadata": {},
   "source": [
    "# Load validation photos ids"
   ]
  },
  {
   "cell_type": "markdown",
   "metadata": {},
   "source": [
    "We want to predict label for biz id, so I will also split the traning set on buisiness id."
   ]
  },
  {
   "cell_type": "code",
   "execution_count": 11,
   "metadata": {
    "collapsed": false
   },
   "outputs": [
    {
     "name": "stdout",
     "output_type": "stream",
     "text": [
      "262147.jpg 0\r\n",
      "131078.jpg 0\r\n"
     ]
    }
   ],
   "source": [
    "!head -n 2 ../data/models/multitask/val_caffe.txt"
   ]
  },
  {
   "cell_type": "code",
   "execution_count": 12,
   "metadata": {
    "collapsed": false
   },
   "outputs": [],
   "source": [
    "val_photos_ids = []\n",
    "with open('../data/models/multitask/val_caffe.txt', 'r') as lfile:\n",
    "    for line in lfile:\n",
    "        filename = line.split()[0]\n",
    "        id_str, _ = os.path.splitext(filename)\n",
    "        val_photos_ids.append(int(id_str))"
   ]
  },
  {
   "cell_type": "code",
   "execution_count": 13,
   "metadata": {
    "collapsed": false
   },
   "outputs": [
    {
     "data": {
      "text/plain": [
       "71640"
      ]
     },
     "execution_count": 13,
     "metadata": {},
     "output_type": "execute_result"
    }
   ],
   "source": [
    "len(val_photos_ids)"
   ]
  },
  {
   "cell_type": "code",
   "execution_count": 14,
   "metadata": {
    "collapsed": false
   },
   "outputs": [],
   "source": [
    "pid_to_index = {pid: index for index, pid in enumerate(val_photos_ids)}"
   ]
  },
  {
   "cell_type": "markdown",
   "metadata": {},
   "source": [
    "## Get the set of associated buisiness ids"
   ]
  },
  {
   "cell_type": "code",
   "execution_count": 15,
   "metadata": {
    "collapsed": true
   },
   "outputs": [],
   "source": [
    "val_biz_ids = set()\n",
    "val_pids = set(val_photos_ids) \n",
    "for pid, bid in train_photo_id_to_biz_id.items():\n",
    "    if pid in val_pids:\n",
    "        val_biz_ids.add(bid)"
   ]
  },
  {
   "cell_type": "markdown",
   "metadata": {},
   "source": [
    "# Load attribute prediction on validation photos"
   ]
  },
  {
   "cell_type": "code",
   "execution_count": 16,
   "metadata": {
    "collapsed": true
   },
   "outputs": [],
   "source": [
    "y_probas_val = np.load('../data/models/multitask/val_caffe_prob_pos_yelp_attributes.npy')"
   ]
  },
  {
   "cell_type": "code",
   "execution_count": 17,
   "metadata": {
    "collapsed": false
   },
   "outputs": [
    {
     "data": {
      "text/plain": [
       "(71640, 9)"
      ]
     },
     "execution_count": 17,
     "metadata": {},
     "output_type": "execute_result"
    }
   ],
   "source": [
    "y_probas_val.shape"
   ]
  },
  {
   "cell_type": "code",
   "execution_count": 18,
   "metadata": {
    "collapsed": true
   },
   "outputs": [],
   "source": [
    "def threshold(y_probas, threshold=0.5):\n",
    "    return (y_probas > threshold).astype(int)"
   ]
  },
  {
   "cell_type": "code",
   "execution_count": 19,
   "metadata": {
    "collapsed": false
   },
   "outputs": [],
   "source": [
    "y_val = threshold(y_probas_val, 0.5)"
   ]
  },
  {
   "cell_type": "code",
   "execution_count": 20,
   "metadata": {
    "collapsed": false
   },
   "outputs": [
    {
     "data": {
      "text/plain": [
       "array([0, 0, 0, 0, 0, 0, 1, 0, 1])"
      ]
     },
     "execution_count": 20,
     "metadata": {},
     "output_type": "execute_result"
    }
   ],
   "source": [
    "y_val[0]"
   ]
  },
  {
   "cell_type": "markdown",
   "metadata": {},
   "source": [
    "# Aggregate prediction per business"
   ]
  },
  {
   "cell_type": "code",
   "execution_count": 21,
   "metadata": {
    "collapsed": true
   },
   "outputs": [],
   "source": [
    "from collections import defaultdict"
   ]
  },
  {
   "cell_type": "code",
   "execution_count": 22,
   "metadata": {
    "collapsed": true
   },
   "outputs": [],
   "source": [
    "biz_id_to_pids = defaultdict(list)"
   ]
  },
  {
   "cell_type": "code",
   "execution_count": 23,
   "metadata": {
    "collapsed": false
   },
   "outputs": [],
   "source": [
    "for pid, bid in train_photo_id_to_biz_id.items():\n",
    "    if pid in val_pids:\n",
    "        biz_id_to_pids[bid].append(pid)"
   ]
  },
  {
   "cell_type": "markdown",
   "metadata": {},
   "source": [
    "## Mean probabilty"
   ]
  },
  {
   "cell_type": "code",
   "execution_count": 24,
   "metadata": {
    "collapsed": true
   },
   "outputs": [],
   "source": [
    "biz_id_to_index = {bid: index for index, bid in enumerate(biz_id_to_pids.keys())}"
   ]
  },
  {
   "cell_type": "code",
   "execution_count": 25,
   "metadata": {
    "collapsed": true
   },
   "outputs": [],
   "source": [
    "def aggregate_mean(biz_id_to_pids, y_probas_val):\n",
    "    y_probas_val_biz = np.zeros((len(biz_id_to_pids), 9))\n",
    "    for bid, pids in biz_id_to_pids.items():\n",
    "        index = biz_id_to_index[bid]\n",
    "        for pid in pids:\n",
    "            y_probas_val_biz[index] += y_probas_val[pid_to_index[pid]]\n",
    "        y_probas_val_biz[index] /= len(pids)\n",
    "    return y_probas_val_biz"
   ]
  },
  {
   "cell_type": "code",
   "execution_count": 26,
   "metadata": {
    "collapsed": false
   },
   "outputs": [],
   "source": [
    "y_probas_val_biz = aggregate_mean(biz_id_to_pids, y_probas_val)"
   ]
  },
  {
   "cell_type": "code",
   "execution_count": 27,
   "metadata": {
    "collapsed": false
   },
   "outputs": [
    {
     "data": {
      "text/plain": [
       "(600, 9)"
      ]
     },
     "execution_count": 27,
     "metadata": {},
     "output_type": "execute_result"
    }
   ],
   "source": [
    "y_probas_val_biz.shape"
   ]
  },
  {
   "cell_type": "markdown",
   "metadata": {},
   "source": [
    "## Majority vote"
   ]
  },
  {
   "cell_type": "code",
   "execution_count": 28,
   "metadata": {
    "collapsed": true
   },
   "outputs": [],
   "source": [
    "def sep_threshold(X, thresholds):\n",
    "    X_t = np.zeros(X.shape)\n",
    "    if len(X.shape) == 1:\n",
    "        for i, t in enumerate(thresholds):\n",
    "            X_t[i] = np.where(X[i] > thresholds[i], 1, 0)\n",
    "    else:\n",
    "        for i, t in enumerate(thresholds):\n",
    "            X_t[:, i] = np.where(X[:, i] > thresholds[i], 1, 0)\n",
    "    return X_t"
   ]
  },
  {
   "cell_type": "code",
   "execution_count": 29,
   "metadata": {
    "collapsed": false
   },
   "outputs": [],
   "source": [
    "def aggregate_majority_votes(biz_id_to_pids, y_probas_val, thresholds, vote_thresholds):\n",
    "    y_val_biz_majority = np.zeros((len(biz_id_to_pids), 9))\n",
    "    for bid, pids in biz_id_to_pids.items():\n",
    "        index = biz_id_to_index[bid]\n",
    "        \n",
    "        pids_indices = [pid_to_index[pid] for pid in pids]\n",
    "        y_val_photo = sep_threshold(y_probas_val[pids_indices], thresholds)\n",
    "        \n",
    "        y_val_votes = np.sum(y_val_photo, axis=0)/len(pids)\n",
    "        y_val_biz_majority[index] = sep_threshold(y_val_votes, vote_thresholds)\n",
    "    return y_val_biz_majority"
   ]
  },
  {
   "cell_type": "code",
   "execution_count": 30,
   "metadata": {
    "collapsed": false
   },
   "outputs": [],
   "source": [
    "y_val_biz_majority = aggregate_majority_votes(biz_id_to_pids, y_probas_val, np.array([0.5 for i in range(9)]), np.array([0.5 for i in range(9)]))"
   ]
  },
  {
   "cell_type": "markdown",
   "metadata": {},
   "source": [
    "# Load groundtruth attributes"
   ]
  },
  {
   "cell_type": "code",
   "execution_count": 31,
   "metadata": {
    "collapsed": true
   },
   "outputs": [],
   "source": [
    "def OHE(labels, size=9):\n",
    "    ohe = np.zeros((9))\n",
    "    for l in labels:\n",
    "        ohe[l] = 1\n",
    "    return ohe"
   ]
  },
  {
   "cell_type": "code",
   "execution_count": 32,
   "metadata": {
    "collapsed": true
   },
   "outputs": [],
   "source": [
    "y_biz = np.zeros((len(biz_id_to_index), 9))"
   ]
  },
  {
   "cell_type": "code",
   "execution_count": 33,
   "metadata": {
    "collapsed": false
   },
   "outputs": [],
   "source": [
    "for bid, index in biz_id_to_index.items():\n",
    "    labels = biz_id_to_labels[bid]\n",
    "    y_biz[index] = OHE(labels)"
   ]
  },
  {
   "cell_type": "code",
   "execution_count": 34,
   "metadata": {
    "collapsed": false
   },
   "outputs": [
    {
     "data": {
      "text/plain": [
       "(600, 9)"
      ]
     },
     "execution_count": 34,
     "metadata": {},
     "output_type": "execute_result"
    }
   ],
   "source": [
    "y_biz.shape"
   ]
  },
  {
   "cell_type": "code",
   "execution_count": 35,
   "metadata": {
    "collapsed": true
   },
   "outputs": [],
   "source": [
    "from sklearn.cross_validation import KFold"
   ]
  },
  {
   "cell_type": "code",
   "execution_count": 77,
   "metadata": {
    "collapsed": true
   },
   "outputs": [],
   "source": [
    "kf = KFold(n=y_biz.shape[0], n_folds=4)"
   ]
  },
  {
   "cell_type": "code",
   "execution_count": 42,
   "metadata": {
    "collapsed": true
   },
   "outputs": [],
   "source": [
    "import itertools"
   ]
  },
  {
   "cell_type": "code",
   "execution_count": 43,
   "metadata": {
    "collapsed": false
   },
   "outputs": [
    {
     "data": {
      "text/plain": [
       "[(0, 3), (0, 4), (1, 3), (1, 4)]"
      ]
     },
     "execution_count": 43,
     "metadata": {},
     "output_type": "execute_result"
    }
   ],
   "source": [
    "list(itertools.product([0, 1], [3, 4]))"
   ]
  },
  {
   "cell_type": "code",
   "execution_count": 50,
   "metadata": {
    "collapsed": true
   },
   "outputs": [],
   "source": [
    "def aggregate_majority_votes(biz_id_to_pids, X, t, v):\n",
    "    biz_majority = np.zeros((len(biz_id_to_index), ))\n",
    "    for bid, pids in biz_id_to_pids.items():\n",
    "        index = biz_id_to_index[bid]\n",
    "        pids_indices = [pid_to_index[pid] for pid in pids]\n",
    "        y_per_instance = np.where(X[pids_indices] > t, 1, 0)\n",
    "        avg_instances_votes = np.sum(y_per_instance, dtype=np.float)/len(pids)\n",
    "        biz_majority[index] = 1 if avg_instances_votes > v else 0\n",
    "    return biz_majority"
   ]
  },
  {
   "cell_type": "code",
   "execution_count": 38,
   "metadata": {
    "collapsed": true
   },
   "outputs": [],
   "source": [
    "val_bids = np.array(list(biz_id_to_pids.keys()))"
   ]
  },
  {
   "cell_type": "code",
   "execution_count": 51,
   "metadata": {
    "collapsed": false
   },
   "outputs": [],
   "source": [
    "kf = KFold(n=val_bids.shape[0], n_folds=4)"
   ]
  },
  {
   "cell_type": "code",
   "execution_count": 53,
   "metadata": {
    "collapsed": true
   },
   "outputs": [],
   "source": [
    "from sklearn.metrics import f1_score"
   ]
  },
  {
   "cell_type": "code",
   "execution_count": 57,
   "metadata": {
    "collapsed": false
   },
   "outputs": [
    {
     "data": {
      "text/plain": [
       "(600, 9)"
      ]
     },
     "execution_count": 57,
     "metadata": {},
     "output_type": "execute_result"
    }
   ],
   "source": [
    "y_biz.shape"
   ]
  },
  {
   "cell_type": "code",
   "execution_count": null,
   "metadata": {
    "collapsed": true
   },
   "outputs": [],
   "source": []
  },
  {
   "cell_type": "code",
   "execution_count": 73,
   "metadata": {
    "collapsed": false
   },
   "outputs": [
    {
     "name": "stdout",
     "output_type": "stream",
     "text": [
      "T: 0.708333333333, V: 1.0 -> F1: 0.515806988353\n",
      "T: 0.708333333333, V: 1.0 -> F1: 0.515806988353\n",
      "T: 0.708333333333, V: 1.0 -> F1: 0.543371522095\n"
     ]
    },
    {
     "ename": "KeyboardInterrupt",
     "evalue": "",
     "output_type": "error",
     "traceback": [
      "\u001b[0;31m---------------------------------------------------------------------------\u001b[0m",
      "\u001b[0;31mKeyboardInterrupt\u001b[0m                         Traceback (most recent call last)",
      "\u001b[0;32m<ipython-input-73-4138deaa1a6c>\u001b[0m in \u001b[0;36m<module>\u001b[0;34m()\u001b[0m\n\u001b[1;32m     19\u001b[0m     \u001b[0mbest_f1_tv\u001b[0m \u001b[0;34m=\u001b[0m \u001b[0;36m0\u001b[0m\u001b[0;34m\u001b[0m\u001b[0m\n\u001b[1;32m     20\u001b[0m     \u001b[0;32mfor\u001b[0m \u001b[0mt\u001b[0m\u001b[0;34m,\u001b[0m \u001b[0mv\u001b[0m \u001b[0;32min\u001b[0m \u001b[0mitertools\u001b[0m\u001b[0;34m.\u001b[0m\u001b[0mproduct\u001b[0m\u001b[0;34m(\u001b[0m\u001b[0mthresholds\u001b[0m\u001b[0;34m,\u001b[0m \u001b[0mvote_thresholds\u001b[0m\u001b[0;34m)\u001b[0m\u001b[0;34m:\u001b[0m\u001b[0;34m\u001b[0m\u001b[0m\n\u001b[0;32m---> 21\u001b[0;31m         \u001b[0mX_maj\u001b[0m \u001b[0;34m=\u001b[0m \u001b[0maggregate_majority_votes\u001b[0m\u001b[0;34m(\u001b[0m\u001b[0mtrain_bid_to_pids\u001b[0m\u001b[0;34m,\u001b[0m \u001b[0my_probas_val\u001b[0m\u001b[0;34m,\u001b[0m \u001b[0mt\u001b[0m\u001b[0;34m,\u001b[0m \u001b[0mv\u001b[0m\u001b[0;34m)\u001b[0m\u001b[0;34m\u001b[0m\u001b[0m\n\u001b[0m\u001b[1;32m     22\u001b[0m         \u001b[0mX_maj\u001b[0m \u001b[0;34m=\u001b[0m \u001b[0mX_maj\u001b[0m\u001b[0;34m[\u001b[0m\u001b[0mtrain_bids_indices\u001b[0m\u001b[0;34m]\u001b[0m\u001b[0;34m\u001b[0m\u001b[0m\n\u001b[1;32m     23\u001b[0m         \u001b[0mf1\u001b[0m \u001b[0;34m=\u001b[0m \u001b[0mf1_score\u001b[0m\u001b[0;34m(\u001b[0m\u001b[0my_train\u001b[0m\u001b[0;34m,\u001b[0m \u001b[0mX_maj\u001b[0m\u001b[0;34m)\u001b[0m\u001b[0;34m\u001b[0m\u001b[0m\n",
      "\u001b[0;32m<ipython-input-50-736030bcf9de>\u001b[0m in \u001b[0;36maggregate_majority_votes\u001b[0;34m(biz_id_to_pids, X, t, v)\u001b[0m\n\u001b[1;32m      3\u001b[0m     \u001b[0;32mfor\u001b[0m \u001b[0mbid\u001b[0m\u001b[0;34m,\u001b[0m \u001b[0mpids\u001b[0m \u001b[0;32min\u001b[0m \u001b[0mbiz_id_to_pids\u001b[0m\u001b[0;34m.\u001b[0m\u001b[0mitems\u001b[0m\u001b[0;34m(\u001b[0m\u001b[0;34m)\u001b[0m\u001b[0;34m:\u001b[0m\u001b[0;34m\u001b[0m\u001b[0m\n\u001b[1;32m      4\u001b[0m         \u001b[0mindex\u001b[0m \u001b[0;34m=\u001b[0m \u001b[0mbiz_id_to_index\u001b[0m\u001b[0;34m[\u001b[0m\u001b[0mbid\u001b[0m\u001b[0;34m]\u001b[0m\u001b[0;34m\u001b[0m\u001b[0m\n\u001b[0;32m----> 5\u001b[0;31m         \u001b[0mpids_indices\u001b[0m \u001b[0;34m=\u001b[0m \u001b[0;34m[\u001b[0m\u001b[0mpid_to_index\u001b[0m\u001b[0;34m[\u001b[0m\u001b[0mpid\u001b[0m\u001b[0;34m]\u001b[0m \u001b[0;32mfor\u001b[0m \u001b[0mpid\u001b[0m \u001b[0;32min\u001b[0m \u001b[0mpids\u001b[0m\u001b[0;34m]\u001b[0m\u001b[0;34m\u001b[0m\u001b[0m\n\u001b[0m\u001b[1;32m      6\u001b[0m         \u001b[0my_per_instance\u001b[0m \u001b[0;34m=\u001b[0m \u001b[0mnp\u001b[0m\u001b[0;34m.\u001b[0m\u001b[0mwhere\u001b[0m\u001b[0;34m(\u001b[0m\u001b[0mX\u001b[0m\u001b[0;34m[\u001b[0m\u001b[0mpids_indices\u001b[0m\u001b[0;34m]\u001b[0m \u001b[0;34m>\u001b[0m \u001b[0mt\u001b[0m\u001b[0;34m,\u001b[0m \u001b[0;36m1\u001b[0m\u001b[0;34m,\u001b[0m \u001b[0;36m0\u001b[0m\u001b[0;34m)\u001b[0m\u001b[0;34m\u001b[0m\u001b[0m\n\u001b[1;32m      7\u001b[0m         \u001b[0mavg_instances_votes\u001b[0m \u001b[0;34m=\u001b[0m \u001b[0mnp\u001b[0m\u001b[0;34m.\u001b[0m\u001b[0msum\u001b[0m\u001b[0;34m(\u001b[0m\u001b[0my_per_instance\u001b[0m\u001b[0;34m,\u001b[0m \u001b[0mdtype\u001b[0m\u001b[0;34m=\u001b[0m\u001b[0mnp\u001b[0m\u001b[0;34m.\u001b[0m\u001b[0mfloat\u001b[0m\u001b[0;34m)\u001b[0m\u001b[0;34m/\u001b[0m\u001b[0mlen\u001b[0m\u001b[0;34m(\u001b[0m\u001b[0mpids\u001b[0m\u001b[0;34m)\u001b[0m\u001b[0;34m\u001b[0m\u001b[0m\n",
      "\u001b[0;31mKeyboardInterrupt\u001b[0m: "
     ]
    }
   ],
   "source": [
    "thresholds = np.linspace(0, 1, 25)\n",
    "vote_thresholds = np.linspace(0, 1, 25)\n",
    "\n",
    "att = 0\n",
    "best_params = []\n",
    "best_f1s = []\n",
    "for train_index, test_index in kf:\n",
    "    train_bids, test_bids = val_bids[train_index], val_bids[test_index]\n",
    "    train_bid_to_pids = {bid: pids for bid, pids in biz_id_to_pids.items() if bid in train_bids}\n",
    "    test_bid_to_pids = {bid: pids for bid, pids in biz_id_to_pids.items() if bid in test_bids}\n",
    "    \n",
    "    train_bids_indices = np.array([biz_id_to_index[bid] for bid in train_bids])\n",
    "    val_bids_indices = np.array([biz_id_to_index[bid] for bid in val_bids])\n",
    "    \n",
    "    y_train, y_val = y_biz[train_bids_indices][:, att], y_biz[val_bids_indices][:, att]\n",
    "\n",
    "    # fit() -> best_t, best_v\n",
    "    best_t, best_v = 0, 0\n",
    "    best_f1_tv = 0\n",
    "    for t, v in itertools.product(thresholds, vote_thresholds):\n",
    "        X_maj = aggregate_majority_votes(train_bid_to_pids, y_probas_val, t, v)\n",
    "        X_maj = X_maj[train_bids_indices]\n",
    "        f1 = f1_score(y_train, X_maj)\n",
    "        if f1 > best_f1_tv:\n",
    "            best_f1_tv, best_t, best_v = f1, t, v\n",
    "            \n",
    "    print(\"T: {t}, V: {v} -> F1: {f1}\".format(t=best_t, v=best_v, f1=best_f1_tv))\n",
    "    best_params.append((best_t, best_v))\n",
    "    best_f1s.append(best_f1_tv)"
   ]
  },
  {
   "cell_type": "code",
   "execution_count": null,
   "metadata": {
    "collapsed": true
   },
   "outputs": [],
   "source": []
  },
  {
   "cell_type": "code",
   "execution_count": 70,
   "metadata": {
    "collapsed": false
   },
   "outputs": [
    {
     "data": {
      "text/plain": [
       "0.64457831325301207"
      ]
     },
     "execution_count": 70,
     "metadata": {},
     "output_type": "execute_result"
    }
   ],
   "source": [
    "best_f1_tv"
   ]
  },
  {
   "cell_type": "code",
   "execution_count": null,
   "metadata": {
    "collapsed": true
   },
   "outputs": [],
   "source": []
  },
  {
   "cell_type": "code",
   "execution_count": 75,
   "metadata": {
    "collapsed": true
   },
   "outputs": [],
   "source": [
    "from sklearn.metrics import f1_score"
   ]
  },
  {
   "cell_type": "code",
   "execution_count": 73,
   "metadata": {
    "collapsed": false
   },
   "outputs": [
    {
     "name": "stdout",
     "output_type": "stream",
     "text": [
      "F1 score: "
     ]
    },
    {
     "ename": "NameError",
     "evalue": "name 'y_val_biz' is not defined",
     "output_type": "error",
     "traceback": [
      "\u001b[0;31m---------------------------------------------------------------------------\u001b[0m",
      "\u001b[0;31mNameError\u001b[0m                                 Traceback (most recent call last)",
      "\u001b[0;32m<ipython-input-73-1cf6c8f2dc9a>\u001b[0m in \u001b[0;36m<module>\u001b[0;34m()\u001b[0m\n\u001b[1;32m      1\u001b[0m \u001b[0;32mfrom\u001b[0m \u001b[0msklearn\u001b[0m\u001b[0;34m.\u001b[0m\u001b[0mmetrics\u001b[0m \u001b[0;32mimport\u001b[0m \u001b[0mf1_score\u001b[0m\u001b[0;34m\u001b[0m\u001b[0m\n\u001b[1;32m      2\u001b[0m \u001b[0;34m\u001b[0m\u001b[0m\n\u001b[0;32m----> 3\u001b[0;31m \u001b[0;32mprint\u001b[0m \u001b[0;34m\"F1 score: \"\u001b[0m\u001b[0;34m,\u001b[0m \u001b[0mf1_score\u001b[0m\u001b[0;34m(\u001b[0m\u001b[0my_biz\u001b[0m\u001b[0;34m,\u001b[0m \u001b[0my_val_biz\u001b[0m\u001b[0;34m,\u001b[0m \u001b[0maverage\u001b[0m\u001b[0;34m=\u001b[0m\u001b[0;34m'micro'\u001b[0m\u001b[0;34m)\u001b[0m\u001b[0;34m\u001b[0m\u001b[0m\n\u001b[0m\u001b[1;32m      4\u001b[0m \u001b[0;32mprint\u001b[0m \u001b[0;34m\"Individual Class F1 score: \"\u001b[0m\u001b[0;34m,\u001b[0m \u001b[0mf1_score\u001b[0m\u001b[0;34m(\u001b[0m\u001b[0my_biz\u001b[0m\u001b[0;34m,\u001b[0m \u001b[0my_val_biz\u001b[0m\u001b[0;34m,\u001b[0m \u001b[0maverage\u001b[0m\u001b[0;34m=\u001b[0m\u001b[0mNone\u001b[0m\u001b[0;34m)\u001b[0m\u001b[0;34m\u001b[0m\u001b[0m\n",
      "\u001b[0;31mNameError\u001b[0m: name 'y_val_biz' is not defined"
     ]
    }
   ],
   "source": [
    "from sklearn.metrics import f1_score\n",
    "\n",
    "print \"F1 score: \", f1_score(y_biz, y_val_biz, average='micro')\n",
    "print \"Individual Class F1 score: \", f1_score(y_biz, y_val_biz, average=None)"
   ]
  },
  {
   "cell_type": "code",
   "execution_count": 74,
   "metadata": {
    "collapsed": false
   },
   "outputs": [
    {
     "name": "stdout",
     "output_type": "stream",
     "text": [
      "\n"
     ]
    }
   ],
   "source": [
    "y_photos = np.zeros((len(val_photos_ids), 9))\n",
    "for pid, index in pid_to_index.items():\n",
    "    bid = train_photo_id_to_biz_id[pid]\n",
    "    labels = biz_id_to_labels[bid]\n",
    "    y_photos[index] = OHE(labels)"
   ]
  },
  {
   "cell_type": "code",
   "execution_count": 39,
   "metadata": {
    "collapsed": false
   },
   "outputs": [
    {
     "data": {
      "text/plain": [
       "array([[ 0.,  0.,  0., ...,  1.,  0.,  1.],\n",
       "       [ 0.,  1.,  1., ...,  1.,  0.,  0.],\n",
       "       [ 1.,  0.,  1., ...,  1.,  0.,  1.],\n",
       "       ..., \n",
       "       [ 0.,  0.,  0., ...,  1.,  0.,  1.],\n",
       "       [ 0.,  1.,  1., ...,  1.,  1.,  0.],\n",
       "       [ 0.,  0.,  0., ...,  0.,  0.,  1.]])"
      ]
     },
     "execution_count": 39,
     "metadata": {},
     "output_type": "execute_result"
    }
   ],
   "source": [
    "y_photos"
   ]
  },
  {
   "cell_type": "code",
   "execution_count": 40,
   "metadata": {
    "collapsed": false
   },
   "outputs": [
    {
     "data": {
      "text/plain": [
       "600"
      ]
     },
     "execution_count": 40,
     "metadata": {},
     "output_type": "execute_result"
    }
   ],
   "source": [
    "len(val_biz_ids)"
   ]
  },
  {
   "cell_type": "code",
   "execution_count": 40,
   "metadata": {
    "collapsed": false
   },
   "outputs": [
    {
     "name": "stdout",
     "output_type": "stream",
     "text": [
      "F1 score:  0.757285351066\n",
      "Individual Class F1 score:  [ 0.26190476  0.81407035  0.85235921  0.5428051   0.63736264  0.83138173\n",
      "  0.82627119  0.49781659  0.90237467]\n"
     ]
    }
   ],
   "source": [
    "from sklearn.metrics import f1_score\n",
    "\n",
    "print \"F1 score: \", f1_score(y_biz, y_val_biz_majority, average='micro')\n",
    "print \"Individual Class F1 score: \", f1_score(y_biz, y_val_biz_majority, average=None)"
   ]
  },
  {
   "cell_type": "code",
   "execution_count": 41,
   "metadata": {
    "collapsed": false
   },
   "outputs": [
    {
     "name": "stdout",
     "output_type": "stream",
     "text": [
      "0.4 - F1 score: 0.767171314741\n",
      "0.41 - F1 score: 0.769032258065\n",
      "0.42 - F1 score: 0.770537318308\n",
      "0.43 - F1 score: 0.770173985087\n",
      "0.44 - F1 score: 0.772283888328\n",
      "0.45 - F1 score: 0.77144324602\n",
      "0.46 - F1 score: 0.771837875611\n",
      "0.47 - F1 score: 0.772305496074\n",
      "0.48 - F1 score: 0.771679473106\n",
      "0.49 - F1 score: 0.767991004498\n"
     ]
    }
   ],
   "source": [
    "for t in np.arange(0.4, 0.5, 0.01):\n",
    "    y_val_biz = threshold(y_probas_val_biz, t)\n",
    "    print(\"{t} - F1 score: {f1}\".format(t=t, f1=f1_score(y_biz, y_val_biz, average='micro')))"
   ]
  },
  {
   "cell_type": "code",
   "execution_count": 42,
   "metadata": {
    "collapsed": true
   },
   "outputs": [],
   "source": [
    "from sklearn.metrics import accuracy_score"
   ]
  },
  {
   "cell_type": "code",
   "execution_count": 43,
   "metadata": {
    "collapsed": false
   },
   "outputs": [
    {
     "name": "stdout",
     "output_type": "stream",
     "text": [
      "Accuracy for attribue 0: 0.761069235064\n",
      "Accuracy for attribue 1: 0.735482970408\n",
      "Accuracy for attribue 2: 0.763609715243\n",
      "Accuracy for attribue 3: 0.541834170854\n",
      "Accuracy for attribue 4: 0.749413735343\n",
      "Accuracy for attribue 5: 0.773310999442\n",
      "Accuracy for attribue 6: 0.768174204355\n",
      "Accuracy for attribue 7: 0.738581797878\n",
      "Accuracy for attribue 8: 0.741973757677\n"
     ]
    }
   ],
   "source": [
    "for att in range(9):\n",
    "    acc = accuracy_score(y_photos[:, att], y_val[:, att])\n",
    "    print(\"Accuracy for attribue {a}: {acc}\".format(a=att, acc=acc))"
   ]
  },
  {
   "cell_type": "code",
   "execution_count": 44,
   "metadata": {
    "collapsed": false
   },
   "outputs": [
    {
     "data": {
      "text/plain": [
       "0.68166666666666664"
      ]
     },
     "execution_count": 44,
     "metadata": {},
     "output_type": "execute_result"
    }
   ],
   "source": [
    "accuracy_score(y_biz[:, 0], y_val_biz[:, 0])"
   ]
  },
  {
   "cell_type": "code",
   "execution_count": 45,
   "metadata": {
    "collapsed": true
   },
   "outputs": [],
   "source": [
    "from sklearn.metrics import recall_score, precision_score"
   ]
  },
  {
   "cell_type": "code",
   "execution_count": 46,
   "metadata": {
    "collapsed": false
   },
   "outputs": [
    {
     "data": {
      "text/plain": [
       "0.14084507042253522"
      ]
     },
     "execution_count": 46,
     "metadata": {},
     "output_type": "execute_result"
    }
   ],
   "source": [
    "recall_score(y_biz[:, 0], y_val_biz[:, 0])"
   ]
  },
  {
   "cell_type": "code",
   "execution_count": 47,
   "metadata": {
    "collapsed": false
   },
   "outputs": [
    {
     "data": {
      "text/plain": [
       "0.78947368421052633"
      ]
     },
     "execution_count": 47,
     "metadata": {},
     "output_type": "execute_result"
    }
   ],
   "source": [
    "precision_score(y_biz[:, 0], y_val_biz[:, 0])"
   ]
  },
  {
   "cell_type": "code",
   "execution_count": 48,
   "metadata": {
    "collapsed": false
   },
   "outputs": [
    {
     "data": {
      "text/plain": [
       "0.2390438247011952"
      ]
     },
     "execution_count": 48,
     "metadata": {},
     "output_type": "execute_result"
    }
   ],
   "source": [
    "f1_score(y_biz[:, 0], y_val_biz[:, 0])"
   ]
  },
  {
   "cell_type": "code",
   "execution_count": 49,
   "metadata": {
    "collapsed": false
   },
   "outputs": [
    {
     "name": "stderr",
     "output_type": "stream",
     "text": [
      "/usr/local/lib/python2.7/site-packages/sklearn/metrics/metrics.py:1771: UndefinedMetricWarning: F-score is ill-defined and being set to 0.0 due to no predicted samples.\n",
      "  'precision', 'predicted', average, warn_for)\n"
     ]
    }
   ],
   "source": [
    "thresholds = np.zeros((9, ))\n",
    "for att in range(9):\n",
    "    best = 0\n",
    "    f1max = 0\n",
    "    for t in np.arange(0.0, 1.0, 0.01):\n",
    "        y_val_biz = threshold(y_probas_val_biz, t)\n",
    "        f1 = f1_score(y_biz[:, att], y_val_biz[:, att])\n",
    "        if f1 > f1max:\n",
    "            best = t\n",
    "            f1max = f1\n",
    "    thresholds[att]=best"
   ]
  },
  {
   "cell_type": "code",
   "execution_count": 50,
   "metadata": {
    "collapsed": false
   },
   "outputs": [
    {
     "data": {
      "text/plain": [
       "array([ 0.29,  0.49,  0.59,  0.47,  0.39,  0.63,  0.67,  0.39,  0.51])"
      ]
     },
     "execution_count": 50,
     "metadata": {},
     "output_type": "execute_result"
    }
   ],
   "source": [
    "thresholds"
   ]
  },
  {
   "cell_type": "code",
   "execution_count": 51,
   "metadata": {
    "collapsed": true
   },
   "outputs": [],
   "source": [
    "def sep_thresholds(y_probas, thresholds):\n",
    "    y = np.zeros(y_probas.shape)\n",
    "    for i, t in enumerate(thresholds):\n",
    "        y[:, i] = (y_probas[:, i] > t).astype(int)\n",
    "    return y"
   ]
  },
  {
   "cell_type": "code",
   "execution_count": 52,
   "metadata": {
    "collapsed": true
   },
   "outputs": [],
   "source": [
    "y_val_biz = sep_thresholds(y_probas_val_biz, thresholds)\n"
   ]
  },
  {
   "cell_type": "code",
   "execution_count": 53,
   "metadata": {
    "collapsed": false
   },
   "outputs": [
    {
     "name": "stdout",
     "output_type": "stream",
     "text": [
      "F1 score:  0.831697564522\n"
     ]
    }
   ],
   "source": [
    "print \"F1 score: \", f1_score(y_biz, y_val_biz, average='micro')"
   ]
  },
  {
   "cell_type": "code",
   "execution_count": 54,
   "metadata": {
    "collapsed": true
   },
   "outputs": [],
   "source": [
    "def optimize_thresholds(y_probas, y_gt):\n",
    "    thresholds = np.zeros((9, ))\n",
    "    for att in range(9):\n",
    "        best = 0\n",
    "        f1max = 0\n",
    "        for t in np.arange(0.0, 1.0, 0.01):\n",
    "            y_pred = threshold(y_probas, t)\n",
    "            f1 = f1_score(y_gt[:, att], y_pred[:, att])\n",
    "            if f1 > f1max:\n",
    "                best = t\n",
    "                f1max = f1\n",
    "        thresholds[att]=best\n",
    "    return thresholds"
   ]
  },
  {
   "cell_type": "code",
   "execution_count": 55,
   "metadata": {
    "collapsed": true
   },
   "outputs": [],
   "source": [
    "from sklearn.cross_validation import KFold"
   ]
  },
  {
   "cell_type": "code",
   "execution_count": 56,
   "metadata": {
    "collapsed": true
   },
   "outputs": [],
   "source": [
    "kf = KFold(n=len(biz_id_to_index), n_folds=4, shuffle=True)"
   ]
  },
  {
   "cell_type": "code",
   "execution_count": 57,
   "metadata": {
    "collapsed": true
   },
   "outputs": [],
   "source": [
    "thresholds = optimize_thresholds(y_probas_val_biz, y_biz)"
   ]
  },
  {
   "cell_type": "code",
   "execution_count": 58,
   "metadata": {
    "collapsed": false
   },
   "outputs": [
    {
     "name": "stdout",
     "output_type": "stream",
     "text": [
      "F1 score:  0.831697564522\n"
     ]
    }
   ],
   "source": [
    "y_pred_biz = sep_thresholds(y_probas_val_biz, thresholds)\n",
    "print \"F1 score: \", f1_score(y_biz, y_pred_biz, average='micro')"
   ]
  },
  {
   "cell_type": "code",
   "execution_count": 59,
   "metadata": {
    "collapsed": false
   },
   "outputs": [
    {
     "data": {
      "text/plain": [
       "array([ 0.29,  0.49,  0.59,  0.47,  0.39,  0.63,  0.67,  0.39,  0.51])"
      ]
     },
     "execution_count": 59,
     "metadata": {},
     "output_type": "execute_result"
    }
   ],
   "source": [
    "thresholds"
   ]
  },
  {
   "cell_type": "code",
   "execution_count": null,
   "metadata": {
    "collapsed": true
   },
   "outputs": [],
   "source": []
  },
  {
   "cell_type": "code",
   "execution_count": 60,
   "metadata": {
    "collapsed": false
   },
   "outputs": [
    {
     "name": "stdout",
     "output_type": "stream",
     "text": [
      "[ 0.35  0.49  0.59  0.47  0.39  0.63  0.68  0.38  0.52]\n",
      "F1 score:  0.806748466258\n",
      "[ 0.29  0.49  0.56  0.47  0.41  0.63  0.67  0.39  0.51]\n",
      "F1 score:  0.839031339031\n",
      "[ 0.37  0.59  0.6   0.47  0.41  0.63  0.66  0.38  0.51]\n",
      "F1 score:  0.822388059701\n",
      "[ 0.29  0.48  0.59  0.47  0.39  0.63  0.67  0.38  0.51]\n",
      "F1 score:  0.835148874365\n"
     ]
    }
   ],
   "source": [
    "all_thresholds = []\n",
    "for train_index, test_index in kf:\n",
    "    y_probas_biz_train, y_biz_train = y_probas_val_biz[train_index], y_biz[train_index]\n",
    "    y_probas_biz_test, y_biz_test = y_probas_val_biz[test_index], y_biz[test_index]\n",
    "    thresholds = optimize_thresholds(y_probas_biz_train, y_biz_train)\n",
    "    print thresholds\n",
    "    all_thresholds.append(thresholds)\n",
    "    y_pred_biz_test = sep_thresholds(y_probas_biz_test, thresholds)\n",
    "    print \"F1 score: \", f1_score(y_biz_test, y_pred_biz_test, average='micro')"
   ]
  },
  {
   "cell_type": "code",
   "execution_count": 61,
   "metadata": {
    "collapsed": false
   },
   "outputs": [
    {
     "name": "stdout",
     "output_type": "stream",
     "text": [
      "[ 0.35  0.49  0.59  0.47  0.39  0.63  0.68  0.38  0.52]\n",
      "[ 0.29  0.49  0.56  0.47  0.41  0.63  0.67  0.39  0.51]\n",
      "[ 0.37  0.59  0.6   0.47  0.41  0.63  0.66  0.38  0.51]\n",
      "[ 0.29  0.48  0.59  0.47  0.39  0.63  0.67  0.38  0.51]\n"
     ]
    }
   ],
   "source": [
    "thresholds = np.zeros((9,))\n",
    "for t in all_thresholds:\n",
    "    print t\n",
    "    thresholds += t\n",
    "thresholds /= len(all_thresholds)"
   ]
  },
  {
   "cell_type": "code",
   "execution_count": 62,
   "metadata": {
    "collapsed": false
   },
   "outputs": [
    {
     "data": {
      "text/plain": [
       "array([ 0.325 ,  0.5125,  0.585 ,  0.47  ,  0.4   ,  0.63  ,  0.67  ,\n",
       "        0.3825,  0.5125])"
      ]
     },
     "execution_count": 62,
     "metadata": {},
     "output_type": "execute_result"
    }
   ],
   "source": [
    "thresholds"
   ]
  },
  {
   "cell_type": "code",
   "execution_count": 63,
   "metadata": {
    "collapsed": true
   },
   "outputs": [],
   "source": [
    "y_pred_biz = sep_thresholds(y_probas_val_biz, thresholds)"
   ]
  },
  {
   "cell_type": "code",
   "execution_count": 64,
   "metadata": {
    "collapsed": false
   },
   "outputs": [
    {
     "name": "stdout",
     "output_type": "stream",
     "text": [
      "F1 score:  0.832440421208\n"
     ]
    }
   ],
   "source": [
    "print \"F1 score: \", f1_score(y_biz, y_pred_biz, average='micro')"
   ]
  },
  {
   "cell_type": "markdown",
   "metadata": {
    "collapsed": true
   },
   "source": [
    "# Submission on test set"
   ]
  },
  {
   "cell_type": "code",
   "execution_count": 66,
   "metadata": {
    "collapsed": false
   },
   "outputs": [
    {
     "name": "stdout",
     "output_type": "stream",
     "text": [
      "business_id,labels\r\n",
      "003sg,1 2 3\r\n",
      "00er5,1 2 3\r\n",
      "00kad,1 2 3\r\n",
      "00mc6,1 2 3\r\n",
      "00q7x,1 2 3\r\n",
      "00v0t,1 2 3\r\n",
      "00y7p,1 2 3\r\n",
      "019fg,1 2 3\r\n",
      "019r1,1 2 3\r\n"
     ]
    }
   ],
   "source": [
    "!head ../data/raw/sample_submission.csv"
   ]
  },
  {
   "cell_type": "code",
   "execution_count": 67,
   "metadata": {
    "collapsed": true
   },
   "outputs": [],
   "source": [
    "sample_sub = pd.read_csv('../data/raw/sample_submission.csv')"
   ]
  },
  {
   "cell_type": "code",
   "execution_count": 69,
   "metadata": {
    "collapsed": false
   },
   "outputs": [],
   "source": [
    "test_bids = list(sample_sub.business_id)"
   ]
  },
  {
   "cell_type": "code",
   "execution_count": 111,
   "metadata": {
    "collapsed": true
   },
   "outputs": [],
   "source": [
    "test_bids_to_pids = defaultdict(list)"
   ]
  },
  {
   "cell_type": "code",
   "execution_count": 112,
   "metadata": {
    "collapsed": true
   },
   "outputs": [],
   "source": [
    "def add_to_dict(x, bids_to_pids):\n",
    "    bids_to_pids[x.business_id].append(x.photo_id)"
   ]
  },
  {
   "cell_type": "code",
   "execution_count": 113,
   "metadata": {
    "collapsed": false
   },
   "outputs": [],
   "source": [
    "_ = test_photo_to_biz.apply(lambda x: add_to_dict(x, test_bids_to_pids), axis=1)"
   ]
  },
  {
   "cell_type": "code",
   "execution_count": 114,
   "metadata": {
    "collapsed": false
   },
   "outputs": [
    {
     "data": {
      "text/plain": [
       "10000"
      ]
     },
     "execution_count": 114,
     "metadata": {},
     "output_type": "execute_result"
    }
   ],
   "source": [
    "len(test_bids_to_pids)"
   ]
  },
  {
   "cell_type": "markdown",
   "metadata": {},
   "source": [
    "# Load probabilities on test photo"
   ]
  },
  {
   "cell_type": "code",
   "execution_count": 93,
   "metadata": {
    "collapsed": true
   },
   "outputs": [],
   "source": [
    "y_probas_test = np.load('../data/models/multitask/test_prob_pos_yelp_attributes.npy')"
   ]
  },
  {
   "cell_type": "code",
   "execution_count": 94,
   "metadata": {
    "collapsed": false
   },
   "outputs": [
    {
     "data": {
      "text/plain": [
       "(237152, 9)"
      ]
     },
     "execution_count": 94,
     "metadata": {},
     "output_type": "execute_result"
    }
   ],
   "source": [
    "y_probas_test.shape"
   ]
  },
  {
   "cell_type": "code",
   "execution_count": 95,
   "metadata": {
    "collapsed": true
   },
   "outputs": [],
   "source": [
    "test_pid = []"
   ]
  },
  {
   "cell_type": "code",
   "execution_count": 96,
   "metadata": {
    "collapsed": false
   },
   "outputs": [
    {
     "name": "stdout",
     "output_type": "stream",
     "text": [
      "test_photos_256x256_noise/459084.jpg\r\n",
      "test_photos_256x256_noise/67847.jpg\r\n",
      "test_photos_256x256_noise/215999.jpg\r\n",
      "test_photos_256x256_noise/199937.jpg\r\n",
      "test_photos_256x256_noise/236594.jpg\r\n",
      "test_photos_256x256_noise/460385.jpg\r\n",
      "test_photos_256x256_noise/308577.jpg\r\n",
      "test_photos_256x256_noise/42129.jpg\r\n",
      "test_photos_256x256_noise/54088.jpg\r\n",
      "test_photos_256x256_noise/36929.jpg\r\n"
     ]
    }
   ],
   "source": [
    "!head '../data/test.list'"
   ]
  },
  {
   "cell_type": "code",
   "execution_count": 97,
   "metadata": {
    "collapsed": true
   },
   "outputs": [],
   "source": [
    "with open('../data/test.list', 'r') as lfile:\n",
    "    for line in lfile:\n",
    "        _, filename = os.path.split(line)\n",
    "        pid_str, _ = os.path.splitext(filename)\n",
    "        test_pid.append(int(pid_str))"
   ]
  },
  {
   "cell_type": "code",
   "execution_count": 98,
   "metadata": {
    "collapsed": false
   },
   "outputs": [
    {
     "data": {
      "text/plain": [
       "237152"
      ]
     },
     "execution_count": 98,
     "metadata": {},
     "output_type": "execute_result"
    }
   ],
   "source": [
    "len(test_pid)"
   ]
  },
  {
   "cell_type": "code",
   "execution_count": 99,
   "metadata": {
    "collapsed": true
   },
   "outputs": [],
   "source": [
    "test_pid_to_index = {pid: index for index, pid in enumerate(test_pid)}"
   ]
  },
  {
   "cell_type": "code",
   "execution_count": 116,
   "metadata": {
    "collapsed": true
   },
   "outputs": [],
   "source": [
    "y_probas_test_biz = np.zeros((len(test_bids_to_pids), 9))"
   ]
  },
  {
   "cell_type": "code",
   "execution_count": 117,
   "metadata": {
    "collapsed": false
   },
   "outputs": [
    {
     "data": {
      "text/plain": [
       "(10000, 9)"
      ]
     },
     "execution_count": 117,
     "metadata": {},
     "output_type": "execute_result"
    }
   ],
   "source": [
    "y_probas_test_biz.shape"
   ]
  },
  {
   "cell_type": "code",
   "execution_count": 118,
   "metadata": {
    "collapsed": false
   },
   "outputs": [],
   "source": [
    "for index, (bid, pids) in enumerate(test_bids_to_pids.items()):\n",
    "    for pid in pids:\n",
    "        y_probas_test_biz[index] += y_probas_test[test_pid_to_index[pid]]\n",
    "    y_probas_test_biz[index] /= len(pids)"
   ]
  },
  {
   "cell_type": "code",
   "execution_count": 119,
   "metadata": {
    "collapsed": false
   },
   "outputs": [
    {
     "data": {
      "text/plain": [
       "array([[ 0.27286593,  0.49451526,  0.55472141, ...,  0.74021233,\n",
       "         0.26634882,  0.59438358],\n",
       "       [ 0.25330923,  0.5848083 ,  0.63217205, ...,  0.77378   ,\n",
       "         0.36047557,  0.53270324],\n",
       "       [ 0.25494368,  0.56922001,  0.62791499, ...,  0.76320746,\n",
       "         0.34509635,  0.53208653],\n",
       "       ..., \n",
       "       [ 0.27307902,  0.53852862,  0.58825422, ...,  0.74084695,\n",
       "         0.30938106,  0.57695302],\n",
       "       [ 0.24667973,  0.59442921,  0.64337854, ...,  0.78233279,\n",
       "         0.3547338 ,  0.52669552],\n",
       "       [ 0.22825989,  0.61193457,  0.6566023 , ...,  0.79118389,\n",
       "         0.36879275,  0.50927054]])"
      ]
     },
     "execution_count": 119,
     "metadata": {},
     "output_type": "execute_result"
    }
   ],
   "source": [
    "y_probas_test_biz"
   ]
  },
  {
   "cell_type": "code",
   "execution_count": 120,
   "metadata": {
    "collapsed": false
   },
   "outputs": [
    {
     "data": {
      "text/plain": [
       "array([ 0.325 ,  0.5125,  0.585 ,  0.47  ,  0.4   ,  0.63  ,  0.67  ,\n",
       "        0.3825,  0.5125])"
      ]
     },
     "execution_count": 120,
     "metadata": {},
     "output_type": "execute_result"
    }
   ],
   "source": [
    "thresholds"
   ]
  },
  {
   "cell_type": "code",
   "execution_count": 121,
   "metadata": {
    "collapsed": true
   },
   "outputs": [],
   "source": [
    "y_pred_test_biz = sep_thresholds(y_probas_test_biz, thresholds)"
   ]
  },
  {
   "cell_type": "code",
   "execution_count": 122,
   "metadata": {
    "collapsed": false
   },
   "outputs": [
    {
     "data": {
      "text/plain": [
       "array([[ 0.,  0.,  0., ...,  1.,  0.,  1.],\n",
       "       [ 0.,  1.,  1., ...,  1.,  0.,  1.],\n",
       "       [ 0.,  1.,  1., ...,  1.,  0.,  1.],\n",
       "       ..., \n",
       "       [ 0.,  1.,  1., ...,  1.,  0.,  1.],\n",
       "       [ 0.,  1.,  1., ...,  1.,  0.,  1.],\n",
       "       [ 0.,  1.,  1., ...,  1.,  0.,  0.]])"
      ]
     },
     "execution_count": 122,
     "metadata": {},
     "output_type": "execute_result"
    }
   ],
   "source": [
    "y_pred_test_biz"
   ]
  },
  {
   "cell_type": "code",
   "execution_count": 123,
   "metadata": {
    "collapsed": true
   },
   "outputs": [],
   "source": [
    "def inverse_ohe(ohe):\n",
    "    inv = []\n",
    "    for i, x in enumerate(ohe):\n",
    "        if x == 1:\n",
    "            inv.append(i) \n",
    "    return inv"
   ]
  },
  {
   "cell_type": "code",
   "execution_count": 124,
   "metadata": {
    "collapsed": false
   },
   "outputs": [
    {
     "data": {
      "text/plain": [
       "[2, 3]"
      ]
     },
     "execution_count": 124,
     "metadata": {},
     "output_type": "execute_result"
    }
   ],
   "source": [
    "inverse_ohe(np.array([0, 0, 1, 1, 0]))"
   ]
  },
  {
   "cell_type": "code",
   "execution_count": 125,
   "metadata": {
    "collapsed": true
   },
   "outputs": [],
   "source": [
    "test_bid_to_labels = dict()"
   ]
  },
  {
   "cell_type": "code",
   "execution_count": 126,
   "metadata": {
    "collapsed": true
   },
   "outputs": [],
   "source": [
    "for index, (bid, _) in enumerate(test_bids_to_pids.items()):\n",
    "    test_bid_to_labels[bid] = inverse_ohe(y_pred_test_biz[index])"
   ]
  },
  {
   "cell_type": "code",
   "execution_count": 128,
   "metadata": {
    "collapsed": false
   },
   "outputs": [
    {
     "data": {
      "text/plain": [
       "10000"
      ]
     },
     "execution_count": 128,
     "metadata": {},
     "output_type": "execute_result"
    }
   ],
   "source": [
    "len(test_bid_to_labels)"
   ]
  },
  {
   "cell_type": "code",
   "execution_count": 134,
   "metadata": {
    "collapsed": false
   },
   "outputs": [
    {
     "name": "stdout",
     "output_type": "stream",
     "text": [
      "business_id,labels\r\n",
      "003sg,1 2 3\r\n",
      "00er5,1 2 3\r\n",
      "00kad,1 2 3\r\n"
     ]
    }
   ],
   "source": [
    "!head -n 4 ../data/raw/sample_submission.csv"
   ]
  },
  {
   "cell_type": "code",
   "execution_count": 139,
   "metadata": {
    "collapsed": false
   },
   "outputs": [
    {
     "ename": "TypeError",
     "evalue": "sequence item 0: expected string, int found",
     "output_type": "error",
     "traceback": [
      "\u001b[0;31m---------------------------------------------------------------------------\u001b[0m",
      "\u001b[0;31mTypeError\u001b[0m                                 Traceback (most recent call last)",
      "\u001b[0;32m<ipython-input-139-7e5095e0fd60>\u001b[0m in \u001b[0;36m<module>\u001b[0;34m()\u001b[0m\n\u001b[0;32m----> 1\u001b[0;31m \u001b[0;34m' '\u001b[0m\u001b[0;34m.\u001b[0m\u001b[0mjoin\u001b[0m\u001b[0;34m(\u001b[0m\u001b[0;34m[\u001b[0m\u001b[0;36m1\u001b[0m\u001b[0;34m,\u001b[0m \u001b[0;36m2\u001b[0m\u001b[0;34m]\u001b[0m\u001b[0;34m)\u001b[0m\u001b[0;34m\u001b[0m\u001b[0m\n\u001b[0m",
      "\u001b[0;31mTypeError\u001b[0m: sequence item 0: expected string, int found"
     ]
    }
   ],
   "source": [
    "' '.join([1, 2])"
   ]
  },
  {
   "cell_type": "code",
   "execution_count": 140,
   "metadata": {
    "collapsed": false
   },
   "outputs": [],
   "source": [
    "with open('../data/submission_001.csv', 'w') as sfile:\n",
    "    sfile.write('business_id,labels\\n')\n",
    "    for bid, labels in test_bid_to_labels.items():\n",
    "        labels_str = [str(l) for l in labels]\n",
    "        line = '{bid},{labels}\\n'.format(bid=bid, labels=' '.join(labels_str))\n",
    "        sfile.write(line)"
   ]
  },
  {
   "cell_type": "code",
   "execution_count": 141,
   "metadata": {
    "collapsed": false
   },
   "outputs": [
    {
     "name": "stdout",
     "output_type": "stream",
     "text": [
      "business_id,labels\r\n",
      "af0iy,3 5 6 8\r\n",
      "s4n0d,1 2 3 5 6 8\r\n",
      "s1e3l,1 2 3 5 6 8\r\n",
      "yinms,1 3 5 6 8\r\n",
      "3i26e,1 2 3 5 6 8\r\n",
      "rl851,0 3 8\r\n",
      "0zrov,1 2 3 5 6\r\n",
      "ean2c,1 2 3 5 6 8\r\n",
      "toisr,1 2 3 5 6 8\r\n"
     ]
    }
   ],
   "source": [
    "!head ../data/submission_001.csv"
   ]
  },
  {
   "cell_type": "code",
   "execution_count": 142,
   "metadata": {
    "collapsed": false
   },
   "outputs": [
    {
     "name": "stdout",
     "output_type": "stream",
     "text": [
      "   10001 ../data/submission_001.csv\r\n"
     ]
    }
   ],
   "source": [
    "!wc -l ../data/submission_001.csv"
   ]
  },
  {
   "cell_type": "code",
   "execution_count": 143,
   "metadata": {
    "collapsed": false
   },
   "outputs": [
    {
     "name": "stdout",
     "output_type": "stream",
     "text": [
      "   10001 ../data/raw/sample_submission.csv\r\n"
     ]
    }
   ],
   "source": [
    "!wc -l ../data/raw/sample_submission.csv"
   ]
  },
  {
   "cell_type": "code",
   "execution_count": null,
   "metadata": {
    "collapsed": true
   },
   "outputs": [],
   "source": []
  }
 ],
 "metadata": {
  "kernelspec": {
   "display_name": "Python 2",
   "language": "python",
   "name": "python2"
  },
  "language_info": {
   "codemirror_mode": {
    "name": "ipython",
    "version": 2
   },
   "file_extension": ".py",
   "mimetype": "text/x-python",
   "name": "python",
   "nbconvert_exporter": "python",
   "pygments_lexer": "ipython2",
   "version": "2.7.10"
  }
 },
 "nbformat": 4,
 "nbformat_minor": 0
}
