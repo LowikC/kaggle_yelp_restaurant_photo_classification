{
 "cells": [
  {
   "cell_type": "code",
   "execution_count": 1,
   "metadata": {
    "collapsed": true
   },
   "outputs": [],
   "source": [
    "import caffe"
   ]
  },
  {
   "cell_type": "code",
   "execution_count": 2,
   "metadata": {
    "collapsed": true
   },
   "outputs": [],
   "source": [
    "net = caffe.Net('../data/models/multitask/deploy_256.prototxt', caffe.TEST)"
   ]
  },
  {
   "cell_type": "code",
   "execution_count": 3,
   "metadata": {
    "collapsed": false
   },
   "outputs": [
    {
     "data": {
      "text/plain": [
       "['data',\n",
       " 'conv1',\n",
       " 'pool1',\n",
       " 'norm1',\n",
       " 'conv2',\n",
       " 'pool2',\n",
       " 'norm2',\n",
       " 'conv3',\n",
       " 'conv4',\n",
       " 'conv5',\n",
       " 'pool5',\n",
       " 'fc6',\n",
       " 'fc7',\n",
       " 'fc7_drop7_0_split_0',\n",
       " 'fc7_drop7_0_split_1',\n",
       " 'fc7_drop7_0_split_2',\n",
       " 'fc7_drop7_0_split_3',\n",
       " 'fc7_drop7_0_split_4',\n",
       " 'fc7_drop7_0_split_5',\n",
       " 'fc7_drop7_0_split_6',\n",
       " 'fc7_drop7_0_split_7',\n",
       " 'fc7_drop7_0_split_8',\n",
       " 'fc8/yelp/attribute0',\n",
       " 'prob/yelp/attribute0',\n",
       " 'prob_neg/yelp/attribute0',\n",
       " 'prob_pos/yelp/attribute0',\n",
       " 'fc8/yelp/attribute1',\n",
       " 'prob/yelp/attribute1',\n",
       " 'prob_neg/yelp/attribute1',\n",
       " 'prob_pos/yelp/attribute1',\n",
       " 'fc8/yelp/attribute2',\n",
       " 'prob/yelp/attribute2',\n",
       " 'prob_neg/yelp/attribute2',\n",
       " 'prob_pos/yelp/attribute2',\n",
       " 'fc8/yelp/attribute3',\n",
       " 'prob/yelp/attribute3',\n",
       " 'prob_neg/yelp/attribute3',\n",
       " 'prob_pos/yelp/attribute3',\n",
       " 'fc8/yelp/attribute4',\n",
       " 'prob/yelp/attribute4',\n",
       " 'prob_neg/yelp/attribute4',\n",
       " 'prob_pos/yelp/attribute4',\n",
       " 'fc8/yelp/attribute5',\n",
       " 'prob/yelp/attribute5',\n",
       " 'prob_neg/yelp/attribute5',\n",
       " 'prob_pos/yelp/attribute5',\n",
       " 'fc8/yelp/attribute6',\n",
       " 'prob/yelp/attribute6',\n",
       " 'prob_neg/yelp/attribute6',\n",
       " 'prob_pos/yelp/attribute6',\n",
       " 'fc8/yelp/attribute7',\n",
       " 'prob/yelp/attribute7',\n",
       " 'prob_neg/yelp/attribute7',\n",
       " 'prob_pos/yelp/attribute7',\n",
       " 'fc8/yelp/attribute8',\n",
       " 'prob/yelp/attribute8',\n",
       " 'prob_neg/yelp/attribute8',\n",
       " 'prob_pos/yelp/attribute8',\n",
       " 'prob_pos/yelp/attributes']"
      ]
     },
     "execution_count": 3,
     "metadata": {},
     "output_type": "execute_result"
    }
   ],
   "source": [
    "net.blobs.keys()"
   ]
  },
  {
   "cell_type": "code",
   "execution_count": 4,
   "metadata": {
    "collapsed": false
   },
   "outputs": [
    {
     "data": {
      "text/plain": [
       "(256, 9)"
      ]
     },
     "execution_count": 4,
     "metadata": {},
     "output_type": "execute_result"
    }
   ],
   "source": [
    "net.blobs['prob_pos/yelp/attributes'].data.shape"
   ]
  },
  {
   "cell_type": "code",
   "execution_count": 5,
   "metadata": {
    "collapsed": false
   },
   "outputs": [
    {
     "data": {
      "text/plain": [
       "(256, 2)"
      ]
     },
     "execution_count": 5,
     "metadata": {},
     "output_type": "execute_result"
    }
   ],
   "source": [
    "net.blobs['fc8/yelp/attribute0'].data.shape"
   ]
  },
  {
   "cell_type": "code",
   "execution_count": 6,
   "metadata": {
    "collapsed": false
   },
   "outputs": [
    {
     "data": {
      "text/plain": [
       "(256, 1)"
      ]
     },
     "execution_count": 6,
     "metadata": {},
     "output_type": "execute_result"
    }
   ],
   "source": [
    "net.blobs['prob_pos/yelp/attribute1'].data.shape"
   ]
  },
  {
   "cell_type": "code",
   "execution_count": null,
   "metadata": {
    "collapsed": true
   },
   "outputs": [],
   "source": []
  }
 ],
 "metadata": {
  "kernelspec": {
   "display_name": "Python 2",
   "language": "python",
   "name": "python2"
  },
  "language_info": {
   "codemirror_mode": {
    "name": "ipython",
    "version": 2
   },
   "file_extension": ".py",
   "mimetype": "text/x-python",
   "name": "python",
   "nbconvert_exporter": "python",
   "pygments_lexer": "ipython2",
   "version": "2.7.10"
  }
 },
 "nbformat": 4,
 "nbformat_minor": 0
}
